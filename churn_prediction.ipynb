{
 "cells": [
  {
   "cell_type": "markdown",
   "id": "415a60e2-c153-4dcb-abd4-1095382ea484",
   "metadata": {},
   "source": [
    "# Credit Card Customer Churn Prediction"
   ]
  },
  {
   "cell_type": "markdown",
   "id": "b2bdfad9-d4f7-48ad-85dd-831cda60c5b9",
   "metadata": {},
   "source": [
    "# 1. Problem definition & Data Reading"
   ]
  },
  {
   "cell_type": "markdown",
   "id": "69578769-27e5-4d2c-a34c-8d66ae0f0d45",
   "metadata": {},
   "source": [
    "- classification problem (prediction whether the customer stayed (0) or exited (1) the bank)\n",
    "- given the related features (e.g. credit score, balance, number of products)"
   ]
  },
  {
   "cell_type": "code",
   "execution_count": 1,
   "id": "24cb017e-3f0d-4d21-9057-34d2c33e81a0",
   "metadata": {},
   "outputs": [],
   "source": [
    "import os\n",
    "import sys\n",
    "\n",
    "import IPython\n",
    "import matplotlib.pyplot as plt\n",
    "import mglearn\n",
    "import numpy as np\n",
    "import pandas as pd\n",
    "from IPython.display import HTML, display\n",
    "from sklearn.dummy import DummyRegressor\n",
    "from sklearn.linear_model import LogisticRegression\n",
    "from sklearn.model_selection import cross_val_score, cross_validate, train_test_split\n",
    "from sklearn.pipeline import Pipeline, make_pipeline\n",
    "from IPython.display import Image\n",
    "from sklearn.compose import ColumnTransformer, make_column_transformer\n",
    "from sklearn.preprocessing import OneHotEncoder, OrdinalEncoder, StandardScaler, OneHotEncoder\n",
    "from sklearn.feature_extraction.text import CountVectorizer\n",
    "import seaborn as sns\n",
    "import matplotlib.pyplot as plt\n",
    "import altair as alt\n",
    "%matplotlib inline\n",
    "pd.set_option(\"display.max_colwidth\", 200)"
   ]
  },
  {
   "cell_type": "code",
   "execution_count": 2,
   "id": "e45803e1-a681-4600-9e3a-4763f1001ce0",
   "metadata": {},
   "outputs": [
    {
     "data": {
      "text/html": [
       "<div>\n",
       "<style scoped>\n",
       "    .dataframe tbody tr th:only-of-type {\n",
       "        vertical-align: middle;\n",
       "    }\n",
       "\n",
       "    .dataframe tbody tr th {\n",
       "        vertical-align: top;\n",
       "    }\n",
       "\n",
       "    .dataframe thead th {\n",
       "        text-align: right;\n",
       "    }\n",
       "</style>\n",
       "<table border=\"1\" class=\"dataframe\">\n",
       "  <thead>\n",
       "    <tr style=\"text-align: right;\">\n",
       "      <th></th>\n",
       "      <th>RowNumber</th>\n",
       "      <th>CustomerId</th>\n",
       "      <th>Surname</th>\n",
       "      <th>CreditScore</th>\n",
       "      <th>Geography</th>\n",
       "      <th>Gender</th>\n",
       "      <th>Age</th>\n",
       "      <th>Tenure</th>\n",
       "      <th>Balance</th>\n",
       "      <th>NumOfProducts</th>\n",
       "      <th>HasCrCard</th>\n",
       "      <th>IsActiveMember</th>\n",
       "      <th>EstimatedSalary</th>\n",
       "      <th>Exited</th>\n",
       "    </tr>\n",
       "  </thead>\n",
       "  <tbody>\n",
       "    <tr>\n",
       "      <th>0</th>\n",
       "      <td>1</td>\n",
       "      <td>15634602</td>\n",
       "      <td>Hargrave</td>\n",
       "      <td>619</td>\n",
       "      <td>France</td>\n",
       "      <td>Female</td>\n",
       "      <td>42</td>\n",
       "      <td>2</td>\n",
       "      <td>0.00</td>\n",
       "      <td>1</td>\n",
       "      <td>1</td>\n",
       "      <td>1</td>\n",
       "      <td>101348.88</td>\n",
       "      <td>1</td>\n",
       "    </tr>\n",
       "    <tr>\n",
       "      <th>1</th>\n",
       "      <td>2</td>\n",
       "      <td>15647311</td>\n",
       "      <td>Hill</td>\n",
       "      <td>608</td>\n",
       "      <td>Spain</td>\n",
       "      <td>Female</td>\n",
       "      <td>41</td>\n",
       "      <td>1</td>\n",
       "      <td>83807.86</td>\n",
       "      <td>1</td>\n",
       "      <td>0</td>\n",
       "      <td>1</td>\n",
       "      <td>112542.58</td>\n",
       "      <td>0</td>\n",
       "    </tr>\n",
       "    <tr>\n",
       "      <th>2</th>\n",
       "      <td>3</td>\n",
       "      <td>15619304</td>\n",
       "      <td>Onio</td>\n",
       "      <td>502</td>\n",
       "      <td>France</td>\n",
       "      <td>Female</td>\n",
       "      <td>42</td>\n",
       "      <td>8</td>\n",
       "      <td>159660.80</td>\n",
       "      <td>3</td>\n",
       "      <td>1</td>\n",
       "      <td>0</td>\n",
       "      <td>113931.57</td>\n",
       "      <td>1</td>\n",
       "    </tr>\n",
       "    <tr>\n",
       "      <th>3</th>\n",
       "      <td>4</td>\n",
       "      <td>15701354</td>\n",
       "      <td>Boni</td>\n",
       "      <td>699</td>\n",
       "      <td>France</td>\n",
       "      <td>Female</td>\n",
       "      <td>39</td>\n",
       "      <td>1</td>\n",
       "      <td>0.00</td>\n",
       "      <td>2</td>\n",
       "      <td>0</td>\n",
       "      <td>0</td>\n",
       "      <td>93826.63</td>\n",
       "      <td>0</td>\n",
       "    </tr>\n",
       "    <tr>\n",
       "      <th>4</th>\n",
       "      <td>5</td>\n",
       "      <td>15737888</td>\n",
       "      <td>Mitchell</td>\n",
       "      <td>850</td>\n",
       "      <td>Spain</td>\n",
       "      <td>Female</td>\n",
       "      <td>43</td>\n",
       "      <td>2</td>\n",
       "      <td>125510.82</td>\n",
       "      <td>1</td>\n",
       "      <td>1</td>\n",
       "      <td>1</td>\n",
       "      <td>79084.10</td>\n",
       "      <td>0</td>\n",
       "    </tr>\n",
       "  </tbody>\n",
       "</table>\n",
       "</div>"
      ],
      "text/plain": [
       "   RowNumber  CustomerId   Surname  CreditScore Geography  Gender  Age  \\\n",
       "0          1    15634602  Hargrave          619    France  Female   42   \n",
       "1          2    15647311      Hill          608     Spain  Female   41   \n",
       "2          3    15619304      Onio          502    France  Female   42   \n",
       "3          4    15701354      Boni          699    France  Female   39   \n",
       "4          5    15737888  Mitchell          850     Spain  Female   43   \n",
       "\n",
       "   Tenure    Balance  NumOfProducts  HasCrCard  IsActiveMember  \\\n",
       "0       2       0.00              1          1               1   \n",
       "1       1   83807.86              1          0               1   \n",
       "2       8  159660.80              3          1               0   \n",
       "3       1       0.00              2          0               0   \n",
       "4       2  125510.82              1          1               1   \n",
       "\n",
       "   EstimatedSalary  Exited  \n",
       "0        101348.88       1  \n",
       "1        112542.58       0  \n",
       "2        113931.57       1  \n",
       "3         93826.63       0  \n",
       "4         79084.10       0  "
      ]
     },
     "execution_count": 2,
     "metadata": {},
     "output_type": "execute_result"
    }
   ],
   "source": [
    "df = pd.read_csv('data/Churn_Modelling.csv')\n",
    "df.head()"
   ]
  },
  {
   "cell_type": "code",
   "execution_count": 5,
   "id": "a4370f72-7572-44a9-824a-0d7e6bacd0be",
   "metadata": {},
   "outputs": [
    {
     "name": "stdout",
     "output_type": "stream",
     "text": [
      "<class 'pandas.core.frame.DataFrame'>\n",
      "RangeIndex: 10000 entries, 0 to 9999\n",
      "Data columns (total 11 columns):\n",
      " #   Column           Non-Null Count  Dtype  \n",
      "---  ------           --------------  -----  \n",
      " 0   CreditScore      10000 non-null  int64  \n",
      " 1   Geography        10000 non-null  object \n",
      " 2   Gender           10000 non-null  object \n",
      " 3   Age              10000 non-null  int64  \n",
      " 4   Tenure           10000 non-null  int64  \n",
      " 5   Balance          10000 non-null  float64\n",
      " 6   NumOfProducts    10000 non-null  int64  \n",
      " 7   HasCrCard        10000 non-null  int64  \n",
      " 8   IsActiveMember   10000 non-null  int64  \n",
      " 9   EstimatedSalary  10000 non-null  float64\n",
      " 10  Exited           10000 non-null  int64  \n",
      "dtypes: float64(2), int64(7), object(2)\n",
      "memory usage: 859.5+ KB\n"
     ]
    }
   ],
   "source": [
    "# Dropping unnecessary columns\n",
    "df.drop(['RowNumber','CustomerId','Surname'], axis=1, inplace=True)\n",
    "df.info()"
   ]
  },
  {
   "cell_type": "markdown",
   "id": "343d7fba-b4dd-49a1-a3a2-c0f776f5c7d8",
   "metadata": {},
   "source": [
    "# 2. Data splitting"
   ]
  },
  {
   "cell_type": "code",
   "execution_count": 8,
   "id": "75065d1d-788a-4e7f-b242-156ae7a5dca4",
   "metadata": {},
   "outputs": [],
   "source": [
    "train_df, test_df = train_test_split(df, test_size=0.3, random_state=123)\n"
   ]
  },
  {
   "cell_type": "code",
   "execution_count": 9,
   "id": "c9869b24-e4b4-4731-ab87-467cdbca5667",
   "metadata": {},
   "outputs": [
    {
     "data": {
      "text/plain": [
       "(7000, 11)"
      ]
     },
     "execution_count": 9,
     "metadata": {},
     "output_type": "execute_result"
    }
   ],
   "source": [
    "train_df.shape"
   ]
  },
  {
   "cell_type": "markdown",
   "id": "eb19e696-7e92-46d8-8153-9c3fa1244e38",
   "metadata": {},
   "source": [
    "# 3. EDA"
   ]
  },
  {
   "cell_type": "markdown",
   "id": "ca025e78-34e4-4027-8a34-16545433c5bc",
   "metadata": {},
   "source": [
    "## 3.1 Training data at a glance"
   ]
  },
  {
   "cell_type": "code",
   "execution_count": 10,
   "id": "018db8ab-3375-485d-ac72-631cd148f81e",
   "metadata": {},
   "outputs": [
    {
     "name": "stdout",
     "output_type": "stream",
     "text": [
      "<class 'pandas.core.frame.DataFrame'>\n",
      "Int64Index: 7000 entries, 3144 to 3582\n",
      "Data columns (total 11 columns):\n",
      " #   Column           Non-Null Count  Dtype  \n",
      "---  ------           --------------  -----  \n",
      " 0   CreditScore      7000 non-null   int64  \n",
      " 1   Geography        7000 non-null   object \n",
      " 2   Gender           7000 non-null   object \n",
      " 3   Age              7000 non-null   int64  \n",
      " 4   Tenure           7000 non-null   int64  \n",
      " 5   Balance          7000 non-null   float64\n",
      " 6   NumOfProducts    7000 non-null   int64  \n",
      " 7   HasCrCard        7000 non-null   int64  \n",
      " 8   IsActiveMember   7000 non-null   int64  \n",
      " 9   EstimatedSalary  7000 non-null   float64\n",
      " 10  Exited           7000 non-null   int64  \n",
      "dtypes: float64(2), int64(7), object(2)\n",
      "memory usage: 656.2+ KB\n"
     ]
    },
    {
     "data": {
      "text/html": [
       "<div>\n",
       "<style scoped>\n",
       "    .dataframe tbody tr th:only-of-type {\n",
       "        vertical-align: middle;\n",
       "    }\n",
       "\n",
       "    .dataframe tbody tr th {\n",
       "        vertical-align: top;\n",
       "    }\n",
       "\n",
       "    .dataframe thead th {\n",
       "        text-align: right;\n",
       "    }\n",
       "</style>\n",
       "<table border=\"1\" class=\"dataframe\">\n",
       "  <thead>\n",
       "    <tr style=\"text-align: right;\">\n",
       "      <th></th>\n",
       "      <th>CreditScore</th>\n",
       "      <th>Age</th>\n",
       "      <th>Tenure</th>\n",
       "      <th>Balance</th>\n",
       "      <th>NumOfProducts</th>\n",
       "      <th>HasCrCard</th>\n",
       "      <th>IsActiveMember</th>\n",
       "      <th>EstimatedSalary</th>\n",
       "      <th>Exited</th>\n",
       "    </tr>\n",
       "  </thead>\n",
       "  <tbody>\n",
       "    <tr>\n",
       "      <th>count</th>\n",
       "      <td>7000.000000</td>\n",
       "      <td>7000.000000</td>\n",
       "      <td>7000.000000</td>\n",
       "      <td>7000.000000</td>\n",
       "      <td>7000.000000</td>\n",
       "      <td>7000.000000</td>\n",
       "      <td>7000.000000</td>\n",
       "      <td>7000.000000</td>\n",
       "      <td>7000.000000</td>\n",
       "    </tr>\n",
       "    <tr>\n",
       "      <th>mean</th>\n",
       "      <td>650.144571</td>\n",
       "      <td>38.942571</td>\n",
       "      <td>5.020143</td>\n",
       "      <td>76448.489407</td>\n",
       "      <td>1.534429</td>\n",
       "      <td>0.705429</td>\n",
       "      <td>0.515286</td>\n",
       "      <td>99934.226306</td>\n",
       "      <td>0.204571</td>\n",
       "    </tr>\n",
       "    <tr>\n",
       "      <th>std</th>\n",
       "      <td>96.554892</td>\n",
       "      <td>10.612389</td>\n",
       "      <td>2.894639</td>\n",
       "      <td>62700.899244</td>\n",
       "      <td>0.582855</td>\n",
       "      <td>0.455882</td>\n",
       "      <td>0.499802</td>\n",
       "      <td>57555.469387</td>\n",
       "      <td>0.403417</td>\n",
       "    </tr>\n",
       "    <tr>\n",
       "      <th>min</th>\n",
       "      <td>350.000000</td>\n",
       "      <td>18.000000</td>\n",
       "      <td>0.000000</td>\n",
       "      <td>0.000000</td>\n",
       "      <td>1.000000</td>\n",
       "      <td>0.000000</td>\n",
       "      <td>0.000000</td>\n",
       "      <td>11.580000</td>\n",
       "      <td>0.000000</td>\n",
       "    </tr>\n",
       "    <tr>\n",
       "      <th>25%</th>\n",
       "      <td>583.000000</td>\n",
       "      <td>32.000000</td>\n",
       "      <td>3.000000</td>\n",
       "      <td>0.000000</td>\n",
       "      <td>1.000000</td>\n",
       "      <td>0.000000</td>\n",
       "      <td>0.000000</td>\n",
       "      <td>50743.832500</td>\n",
       "      <td>0.000000</td>\n",
       "    </tr>\n",
       "    <tr>\n",
       "      <th>50%</th>\n",
       "      <td>652.000000</td>\n",
       "      <td>37.000000</td>\n",
       "      <td>5.000000</td>\n",
       "      <td>96889.925000</td>\n",
       "      <td>1.000000</td>\n",
       "      <td>1.000000</td>\n",
       "      <td>1.000000</td>\n",
       "      <td>99729.890000</td>\n",
       "      <td>0.000000</td>\n",
       "    </tr>\n",
       "    <tr>\n",
       "      <th>75%</th>\n",
       "      <td>717.000000</td>\n",
       "      <td>44.000000</td>\n",
       "      <td>8.000000</td>\n",
       "      <td>127838.535000</td>\n",
       "      <td>2.000000</td>\n",
       "      <td>1.000000</td>\n",
       "      <td>1.000000</td>\n",
       "      <td>149458.040000</td>\n",
       "      <td>0.000000</td>\n",
       "    </tr>\n",
       "    <tr>\n",
       "      <th>max</th>\n",
       "      <td>850.000000</td>\n",
       "      <td>92.000000</td>\n",
       "      <td>10.000000</td>\n",
       "      <td>238387.560000</td>\n",
       "      <td>4.000000</td>\n",
       "      <td>1.000000</td>\n",
       "      <td>1.000000</td>\n",
       "      <td>199992.480000</td>\n",
       "      <td>1.000000</td>\n",
       "    </tr>\n",
       "  </tbody>\n",
       "</table>\n",
       "</div>"
      ],
      "text/plain": [
       "       CreditScore          Age       Tenure        Balance  NumOfProducts  \\\n",
       "count  7000.000000  7000.000000  7000.000000    7000.000000    7000.000000   \n",
       "mean    650.144571    38.942571     5.020143   76448.489407       1.534429   \n",
       "std      96.554892    10.612389     2.894639   62700.899244       0.582855   \n",
       "min     350.000000    18.000000     0.000000       0.000000       1.000000   \n",
       "25%     583.000000    32.000000     3.000000       0.000000       1.000000   \n",
       "50%     652.000000    37.000000     5.000000   96889.925000       1.000000   \n",
       "75%     717.000000    44.000000     8.000000  127838.535000       2.000000   \n",
       "max     850.000000    92.000000    10.000000  238387.560000       4.000000   \n",
       "\n",
       "         HasCrCard  IsActiveMember  EstimatedSalary       Exited  \n",
       "count  7000.000000     7000.000000      7000.000000  7000.000000  \n",
       "mean      0.705429        0.515286     99934.226306     0.204571  \n",
       "std       0.455882        0.499802     57555.469387     0.403417  \n",
       "min       0.000000        0.000000        11.580000     0.000000  \n",
       "25%       0.000000        0.000000     50743.832500     0.000000  \n",
       "50%       1.000000        1.000000     99729.890000     0.000000  \n",
       "75%       1.000000        1.000000    149458.040000     0.000000  \n",
       "max       1.000000        1.000000    199992.480000     1.000000  "
      ]
     },
     "execution_count": 10,
     "metadata": {},
     "output_type": "execute_result"
    }
   ],
   "source": [
    "train_df.info()\n",
    "train_df.describe()"
   ]
  },
  {
   "cell_type": "markdown",
   "id": "83ac66ce-f6f8-4bf2-8305-482b6eb9a5c2",
   "metadata": {},
   "source": [
    "## 3.2 Label Imbalance"
   ]
  },
  {
   "cell_type": "code",
   "execution_count": 11,
   "id": "1c3a8744-8867-4ddc-a807-3f59aeb1693b",
   "metadata": {},
   "outputs": [
    {
     "data": {
      "text/plain": [
       "0    0.795429\n",
       "1    0.204571\n",
       "Name: Exited, dtype: float64"
      ]
     },
     "execution_count": 11,
     "metadata": {},
     "output_type": "execute_result"
    }
   ],
   "source": [
    "train_df[\"Exited\"].value_counts(normalize=True)\n"
   ]
  },
  {
   "cell_type": "markdown",
   "id": "9ca4ea56-c2b4-4971-bf23-4052fa4284df",
   "metadata": {},
   "source": [
    "We have a class imbalance. Both classes seem importance here.\n",
    "\n",
    "We will be going to use macro-average f1 score as our evaluation metric."
   ]
  },
  {
   "cell_type": "markdown",
   "id": "be655995-f1d5-4a6b-8477-f61cb4b89130",
   "metadata": {},
   "source": [
    "## 3.3 separating class label & features"
   ]
  },
  {
   "cell_type": "code",
   "execution_count": 12,
   "id": "09e8ee63-bca5-42e5-8e1b-37a3ff116216",
   "metadata": {},
   "outputs": [],
   "source": [
    "X_train, y_train = (\n",
    "    train_df.drop(columns=[\"Exited\"]),\n",
    "    train_df[\"Exited\"],\n",
    ")\n",
    "X_test, y_test = (\n",
    "    test_df.drop(columns=[\"Exited\"]),\n",
    "    test_df[\"Exited\"],\n",
    ")"
   ]
  },
  {
   "cell_type": "markdown",
   "id": "c0ae4b8b-72c4-4247-a784-843ce51c4fd2",
   "metadata": {},
   "source": [
    "## 3.4 Correlation Plot"
   ]
  },
  {
   "cell_type": "code",
   "execution_count": 13,
   "id": "94e3cc16-e60c-45d1-a737-dd9c1c2bb10f",
   "metadata": {},
   "outputs": [
    {
     "data": {
      "application/vnd.vegalite.v4+json": {
       "$schema": "https://vega.github.io/schema/vega-lite/v4.17.0.json",
       "concat": [
        {
         "data": {
          "url": "http://localhost:61143/cf149d6db3dcc46531451717bd49072a.json"
         },
         "encoding": {
          "color": {
           "field": "value",
           "scale": {
            "domain": [
             -1,
             1
            ],
            "scheme": "blueorange"
           },
           "title": "",
           "type": "quantitative"
          },
          "opacity": {
           "condition": {
            "selection": "selector001",
            "value": 0.9
           },
           "value": 0.2
          },
          "size": {
           "field": "abs_value",
           "legend": null,
           "scale": {
            "domain": [
             0,
             1
            ]
           },
           "type": "quantitative"
          },
          "tooltip": {
           "field": "value",
           "format": ".2f",
           "type": "quantitative"
          },
          "x": {
           "field": "index",
           "sort": [
            "Exited",
            "EstimatedSalary",
            "IsActiveMember",
            "HasCrCard",
            "NumOfProducts",
            "Balance",
            "Tenure",
            "Age"
           ],
           "title": "",
           "type": "nominal"
          },
          "y": {
           "axis": {},
           "field": "variable",
           "sort": [
            "EstimatedSalary",
            "IsActiveMember",
            "HasCrCard",
            "NumOfProducts",
            "Balance",
            "Tenure",
            "Age",
            "CreditScore"
           ],
           "title": "",
           "type": "nominal"
          }
         },
         "mark": "circle",
         "selection": {
          "selector001": {
           "empty": "all",
           "fields": [
            "variable",
            "index"
           ],
           "nearest": true,
           "on": "mouseover",
           "type": "multi"
          }
         },
         "title": "Pearson correlations",
         "transform": [
          {
           "as": "abs_value",
           "calculate": "abs(datum.value)"
          }
         ]
        },
        {
         "data": {
          "url": "http://localhost:61143/d9dd3367c2e5bc8a368c368574855f9e.json"
         },
         "encoding": {
          "color": {
           "field": "value",
           "scale": {
            "domain": [
             -1,
             1
            ],
            "scheme": "blueorange"
           },
           "title": "",
           "type": "quantitative"
          },
          "opacity": {
           "condition": {
            "selection": "selector001",
            "value": 0.9
           },
           "value": 0.2
          },
          "size": {
           "field": "abs_value",
           "legend": null,
           "scale": {
            "domain": [
             0,
             1
            ]
           },
           "type": "quantitative"
          },
          "tooltip": {
           "field": "value",
           "format": ".2f",
           "type": "quantitative"
          },
          "x": {
           "field": "index",
           "sort": [
            "Exited",
            "EstimatedSalary",
            "IsActiveMember",
            "HasCrCard",
            "NumOfProducts",
            "Balance",
            "Tenure",
            "Age"
           ],
           "title": "",
           "type": "nominal"
          },
          "y": {
           "axis": {
            "labels": false
           },
           "field": "variable",
           "sort": [
            "EstimatedSalary",
            "IsActiveMember",
            "HasCrCard",
            "NumOfProducts",
            "Balance",
            "Tenure",
            "Age",
            "CreditScore"
           ],
           "title": "",
           "type": "nominal"
          }
         },
         "mark": "circle",
         "selection": {
          "selector001": {
           "empty": "all",
           "fields": [
            "variable",
            "index"
           ],
           "nearest": true,
           "on": "mouseover",
           "type": "multi"
          }
         },
         "title": "Spearman correlations",
         "transform": [
          {
           "as": "abs_value",
           "calculate": "abs(datum.value)"
          }
         ]
        }
       ],
       "config": {
        "view": {
         "continuousHeight": 300,
         "continuousWidth": 400,
         "strokeWidth": 0
        }
       },
       "resolve": {
        "axis": {
         "y": "shared"
        }
       }
      },
      "image/png": "[encoded data removed]",
      "text/plain": [
       "<VegaLite 4 object>\n",
       "\n",
       "If you see this message, it means the renderer has not been properly enabled\n",
       "for the frontend that you are using. For more information, see\n",
       "https://altair-viz.github.io/user_guide/troubleshooting.html\n"
      ]
     },
     "execution_count": 13,
     "metadata": {},
     "output_type": "execute_result"
    }
   ],
   "source": [
    "import altair_ally as aly\n",
    "from altair_data_server import data_server\n",
    "\n",
    "aly.alt.data_transformers.enable('data_server')\n",
    "aly.alt.renderers.enable('mimetype')\n",
    "\n",
    "aly.corr(train_df)"
   ]
  },
  {
   "cell_type": "code",
   "execution_count": 15,
   "id": "63a33986-23e7-4403-822f-caa08f02498c",
   "metadata": {},
   "outputs": [
    {
     "data": {
      "text/html": [
       "<style type=\"text/css\">\n",
       "#T_13cef_row0_col0, #T_13cef_row1_col1, #T_13cef_row2_col2, #T_13cef_row3_col3, #T_13cef_row4_col4, #T_13cef_row5_col5, #T_13cef_row6_col6, #T_13cef_row7_col7, #T_13cef_row8_col8 {\n",
       "  background-color: #023858;\n",
       "  color: #f1f1f1;\n",
       "}\n",
       "#T_13cef_row0_col1 {\n",
       "  background-color: #f6eff7;\n",
       "  color: #000000;\n",
       "}\n",
       "#T_13cef_row0_col2, #T_13cef_row5_col0 {\n",
       "  background-color: #fbf3f9;\n",
       "  color: #000000;\n",
       "}\n",
       "#T_13cef_row0_col3, #T_13cef_row0_col4, #T_13cef_row6_col4, #T_13cef_row7_col3, #T_13cef_row7_col4 {\n",
       "  background-color: #d1d2e6;\n",
       "  color: #000000;\n",
       "}\n",
       "#T_13cef_row0_col5, #T_13cef_row1_col2, #T_13cef_row8_col2 {\n",
       "  background-color: #fef6fa;\n",
       "  color: #000000;\n",
       "}\n",
       "#T_13cef_row0_col6, #T_13cef_row8_col4 {\n",
       "  background-color: #e7e3f0;\n",
       "  color: #000000;\n",
       "}\n",
       "#T_13cef_row0_col7, #T_13cef_row3_col5, #T_13cef_row4_col5, #T_13cef_row7_col5 {\n",
       "  background-color: #fef6fb;\n",
       "  color: #000000;\n",
       "}\n",
       "#T_13cef_row0_col8 {\n",
       "  background-color: #f0eaf4;\n",
       "  color: #000000;\n",
       "}\n",
       "#T_13cef_row1_col0, #T_13cef_row2_col0, #T_13cef_row2_col5 {\n",
       "  background-color: #faf3f9;\n",
       "  color: #000000;\n",
       "}\n",
       "#T_13cef_row1_col3 {\n",
       "  background-color: #cdd0e5;\n",
       "  color: #000000;\n",
       "}\n",
       "#T_13cef_row1_col4 {\n",
       "  background-color: #dddbec;\n",
       "  color: #000000;\n",
       "}\n",
       "#T_13cef_row1_col5, #T_13cef_row2_col7, #T_13cef_row3_col2, #T_13cef_row4_col7, #T_13cef_row8_col5, #T_13cef_row8_col7 {\n",
       "  background-color: #fdf5fa;\n",
       "  color: #000000;\n",
       "}\n",
       "#T_13cef_row1_col6 {\n",
       "  background-color: #e3e0ee;\n",
       "  color: #000000;\n",
       "}\n",
       "#T_13cef_row1_col7, #T_13cef_row3_col4, #T_13cef_row4_col1, #T_13cef_row4_col3, #T_13cef_row5_col7, #T_13cef_row6_col2, #T_13cef_row6_col5, #T_13cef_row6_col7, #T_13cef_row6_col8, #T_13cef_row8_col0, #T_13cef_row8_col6 {\n",
       "  background-color: #fff7fb;\n",
       "  color: #000000;\n",
       "}\n",
       "#T_13cef_row1_col8 {\n",
       "  background-color: #9ab8d8;\n",
       "  color: #000000;\n",
       "}\n",
       "#T_13cef_row2_col1, #T_13cef_row7_col2 {\n",
       "  background-color: #faf2f8;\n",
       "  color: #000000;\n",
       "}\n",
       "#T_13cef_row2_col3, #T_13cef_row5_col3, #T_13cef_row6_col3 {\n",
       "  background-color: #d4d4e8;\n",
       "  color: #000000;\n",
       "}\n",
       "#T_13cef_row2_col4 {\n",
       "  background-color: #d0d1e6;\n",
       "  color: #000000;\n",
       "}\n",
       "#T_13cef_row2_col6 {\n",
       "  background-color: #efe9f3;\n",
       "  color: #000000;\n",
       "}\n",
       "#T_13cef_row2_col8 {\n",
       "  background-color: #eee8f3;\n",
       "  color: #000000;\n",
       "}\n",
       "#T_13cef_row3_col0, #T_13cef_row4_col0, #T_13cef_row4_col2 {\n",
       "  background-color: #f9f2f8;\n",
       "  color: #000000;\n",
       "}\n",
       "#T_13cef_row3_col1 {\n",
       "  background-color: #f2ecf5;\n",
       "  color: #000000;\n",
       "}\n",
       "#T_13cef_row3_col6 {\n",
       "  background-color: #ede7f2;\n",
       "  color: #000000;\n",
       "}\n",
       "#T_13cef_row3_col7 {\n",
       "  background-color: #fcf4fa;\n",
       "  color: #000000;\n",
       "}\n",
       "#T_13cef_row3_col8 {\n",
       "  background-color: #d5d5e8;\n",
       "  color: #000000;\n",
       "}\n",
       "#T_13cef_row4_col6 {\n",
       "  background-color: #e8e4f0;\n",
       "  color: #000000;\n",
       "}\n",
       "#T_13cef_row4_col8, #T_13cef_row7_col0 {\n",
       "  background-color: #fbf4f9;\n",
       "  color: #000000;\n",
       "}\n",
       "#T_13cef_row5_col1, #T_13cef_row6_col0 {\n",
       "  background-color: #f7f0f7;\n",
       "  color: #000000;\n",
       "}\n",
       "#T_13cef_row5_col2, #T_13cef_row7_col1 {\n",
       "  background-color: #f8f1f8;\n",
       "  color: #000000;\n",
       "}\n",
       "#T_13cef_row5_col4 {\n",
       "  background-color: #d3d4e7;\n",
       "  color: #000000;\n",
       "}\n",
       "#T_13cef_row5_col6 {\n",
       "  background-color: #ede8f3;\n",
       "  color: #000000;\n",
       "}\n",
       "#T_13cef_row5_col8, #T_13cef_row7_col8 {\n",
       "  background-color: #eae6f1;\n",
       "  color: #000000;\n",
       "}\n",
       "#T_13cef_row6_col1 {\n",
       "  background-color: #f1ebf4;\n",
       "  color: #000000;\n",
       "}\n",
       "#T_13cef_row7_col6 {\n",
       "  background-color: #ece7f2;\n",
       "  color: #000000;\n",
       "}\n",
       "#T_13cef_row8_col1 {\n",
       "  background-color: #adc1dd;\n",
       "  color: #000000;\n",
       "}\n",
       "#T_13cef_row8_col3 {\n",
       "  background-color: #b7c5df;\n",
       "  color: #000000;\n",
       "}\n",
       "</style>\n",
       "<table id=\"T_13cef\">\n",
       "  <thead>\n",
       "    <tr>\n",
       "      <th class=\"blank level0\" >&nbsp;</th>\n",
       "      <th id=\"T_13cef_level0_col0\" class=\"col_heading level0 col0\" >CreditScore</th>\n",
       "      <th id=\"T_13cef_level0_col1\" class=\"col_heading level0 col1\" >Age</th>\n",
       "      <th id=\"T_13cef_level0_col2\" class=\"col_heading level0 col2\" >Tenure</th>\n",
       "      <th id=\"T_13cef_level0_col3\" class=\"col_heading level0 col3\" >Balance</th>\n",
       "      <th id=\"T_13cef_level0_col4\" class=\"col_heading level0 col4\" >NumOfProducts</th>\n",
       "      <th id=\"T_13cef_level0_col5\" class=\"col_heading level0 col5\" >HasCrCard</th>\n",
       "      <th id=\"T_13cef_level0_col6\" class=\"col_heading level0 col6\" >IsActiveMember</th>\n",
       "      <th id=\"T_13cef_level0_col7\" class=\"col_heading level0 col7\" >EstimatedSalary</th>\n",
       "      <th id=\"T_13cef_level0_col8\" class=\"col_heading level0 col8\" >Exited</th>\n",
       "    </tr>\n",
       "  </thead>\n",
       "  <tbody>\n",
       "    <tr>\n",
       "      <th id=\"T_13cef_level0_row0\" class=\"row_heading level0 row0\" >CreditScore</th>\n",
       "      <td id=\"T_13cef_row0_col0\" class=\"data row0 col0\" >1.000000</td>\n",
       "      <td id=\"T_13cef_row0_col1\" class=\"data row0 col1\" >0.006407</td>\n",
       "      <td id=\"T_13cef_row0_col2\" class=\"data row0 col2\" >0.004991</td>\n",
       "      <td id=\"T_13cef_row0_col3\" class=\"data row0 col3\" >0.012883</td>\n",
       "      <td id=\"T_13cef_row0_col4\" class=\"data row0 col4\" >0.012178</td>\n",
       "      <td id=\"T_13cef_row0_col5\" class=\"data row0 col5\" >0.000098</td>\n",
       "      <td id=\"T_13cef_row0_col6\" class=\"data row0 col6\" >0.027965</td>\n",
       "      <td id=\"T_13cef_row0_col7\" class=\"data row0 col7\" >-0.000284</td>\n",
       "      <td id=\"T_13cef_row0_col8\" class=\"data row0 col8\" >-0.028045</td>\n",
       "    </tr>\n",
       "    <tr>\n",
       "      <th id=\"T_13cef_level0_row1\" class=\"row_heading level0 row1\" >Age</th>\n",
       "      <td id=\"T_13cef_row1_col0\" class=\"data row1 col0\" >0.006407</td>\n",
       "      <td id=\"T_13cef_row1_col1\" class=\"data row1 col1\" >1.000000</td>\n",
       "      <td id=\"T_13cef_row1_col2\" class=\"data row1 col2\" >-0.015025</td>\n",
       "      <td id=\"T_13cef_row1_col3\" class=\"data row1 col3\" >0.032517</td>\n",
       "      <td id=\"T_13cef_row1_col4\" class=\"data row1 col4\" >-0.055963</td>\n",
       "      <td id=\"T_13cef_row1_col5\" class=\"data row1 col5\" >0.004114</td>\n",
       "      <td id=\"T_13cef_row1_col6\" class=\"data row1 col6\" >0.043716</td>\n",
       "      <td id=\"T_13cef_row1_col7\" class=\"data row1 col7\" >-0.003896</td>\n",
       "      <td id=\"T_13cef_row1_col8\" class=\"data row1 col8\" >0.318281</td>\n",
       "    </tr>\n",
       "    <tr>\n",
       "      <th id=\"T_13cef_level0_row2\" class=\"row_heading level0 row2\" >Tenure</th>\n",
       "      <td id=\"T_13cef_row2_col0\" class=\"data row2 col0\" >0.004991</td>\n",
       "      <td id=\"T_13cef_row2_col1\" class=\"data row2 col1\" >-0.015025</td>\n",
       "      <td id=\"T_13cef_row2_col2\" class=\"data row2 col2\" >1.000000</td>\n",
       "      <td id=\"T_13cef_row2_col3\" class=\"data row2 col3\" >-0.007421</td>\n",
       "      <td id=\"T_13cef_row2_col4\" class=\"data row2 col4\" >0.017971</td>\n",
       "      <td id=\"T_13cef_row2_col5\" class=\"data row2 col5\" >0.022227</td>\n",
       "      <td id=\"T_13cef_row2_col6\" class=\"data row2 col6\" >-0.023151</td>\n",
       "      <td id=\"T_13cef_row2_col7\" class=\"data row2 col7\" >0.014469</td>\n",
       "      <td id=\"T_13cef_row2_col8\" class=\"data row2 col8\" >-0.013372</td>\n",
       "    </tr>\n",
       "    <tr>\n",
       "      <th id=\"T_13cef_level0_row3\" class=\"row_heading level0 row3\" >Balance</th>\n",
       "      <td id=\"T_13cef_row3_col0\" class=\"data row3 col0\" >0.012883</td>\n",
       "      <td id=\"T_13cef_row3_col1\" class=\"data row3 col1\" >0.032517</td>\n",
       "      <td id=\"T_13cef_row3_col2\" class=\"data row3 col2\" >-0.007421</td>\n",
       "      <td id=\"T_13cef_row3_col3\" class=\"data row3 col3\" >1.000000</td>\n",
       "      <td id=\"T_13cef_row3_col4\" class=\"data row3 col4\" >-0.310379</td>\n",
       "      <td id=\"T_13cef_row3_col5\" class=\"data row3 col5\" >-0.003376</td>\n",
       "      <td id=\"T_13cef_row3_col6\" class=\"data row3 col6\" >-0.005624</td>\n",
       "      <td id=\"T_13cef_row3_col7\" class=\"data row3 col7\" >0.016952</td>\n",
       "      <td id=\"T_13cef_row3_col8\" class=\"data row3 col8\" >0.114544</td>\n",
       "    </tr>\n",
       "    <tr>\n",
       "      <th id=\"T_13cef_level0_row4\" class=\"row_heading level0 row4\" >NumOfProducts</th>\n",
       "      <td id=\"T_13cef_row4_col0\" class=\"data row4 col0\" >0.012178</td>\n",
       "      <td id=\"T_13cef_row4_col1\" class=\"data row4 col1\" >-0.055963</td>\n",
       "      <td id=\"T_13cef_row4_col2\" class=\"data row4 col2\" >0.017971</td>\n",
       "      <td id=\"T_13cef_row4_col3\" class=\"data row4 col3\" >-0.310379</td>\n",
       "      <td id=\"T_13cef_row4_col4\" class=\"data row4 col4\" >1.000000</td>\n",
       "      <td id=\"T_13cef_row4_col5\" class=\"data row4 col5\" >-0.002624</td>\n",
       "      <td id=\"T_13cef_row4_col6\" class=\"data row4 col6\" >0.015832</td>\n",
       "      <td id=\"T_13cef_row4_col7\" class=\"data row4 col7\" >0.012755</td>\n",
       "      <td id=\"T_13cef_row4_col8\" class=\"data row4 col8\" >-0.117231</td>\n",
       "    </tr>\n",
       "    <tr>\n",
       "      <th id=\"T_13cef_level0_row5\" class=\"row_heading level0 row5\" >HasCrCard</th>\n",
       "      <td id=\"T_13cef_row5_col0\" class=\"data row5 col0\" >0.000098</td>\n",
       "      <td id=\"T_13cef_row5_col1\" class=\"data row5 col1\" >0.004114</td>\n",
       "      <td id=\"T_13cef_row5_col2\" class=\"data row5 col2\" >0.022227</td>\n",
       "      <td id=\"T_13cef_row5_col3\" class=\"data row5 col3\" >-0.003376</td>\n",
       "      <td id=\"T_13cef_row5_col4\" class=\"data row5 col4\" >-0.002624</td>\n",
       "      <td id=\"T_13cef_row5_col5\" class=\"data row5 col5\" >1.000000</td>\n",
       "      <td id=\"T_13cef_row5_col6\" class=\"data row5 col6\" >-0.009708</td>\n",
       "      <td id=\"T_13cef_row5_col7\" class=\"data row5 col7\" >-0.005103</td>\n",
       "      <td id=\"T_13cef_row5_col8\" class=\"data row5 col8\" >0.006080</td>\n",
       "    </tr>\n",
       "    <tr>\n",
       "      <th id=\"T_13cef_level0_row6\" class=\"row_heading level0 row6\" >IsActiveMember</th>\n",
       "      <td id=\"T_13cef_row6_col0\" class=\"data row6 col0\" >0.027965</td>\n",
       "      <td id=\"T_13cef_row6_col1\" class=\"data row6 col1\" >0.043716</td>\n",
       "      <td id=\"T_13cef_row6_col2\" class=\"data row6 col2\" >-0.023151</td>\n",
       "      <td id=\"T_13cef_row6_col3\" class=\"data row6 col3\" >-0.005624</td>\n",
       "      <td id=\"T_13cef_row6_col4\" class=\"data row6 col4\" >0.015832</td>\n",
       "      <td id=\"T_13cef_row6_col5\" class=\"data row6 col5\" >-0.009708</td>\n",
       "      <td id=\"T_13cef_row6_col6\" class=\"data row6 col6\" >1.000000</td>\n",
       "      <td id=\"T_13cef_row6_col7\" class=\"data row6 col7\" >-0.003058</td>\n",
       "      <td id=\"T_13cef_row6_col8\" class=\"data row6 col8\" >-0.146605</td>\n",
       "    </tr>\n",
       "    <tr>\n",
       "      <th id=\"T_13cef_level0_row7\" class=\"row_heading level0 row7\" >EstimatedSalary</th>\n",
       "      <td id=\"T_13cef_row7_col0\" class=\"data row7 col0\" >-0.000284</td>\n",
       "      <td id=\"T_13cef_row7_col1\" class=\"data row7 col1\" >-0.003896</td>\n",
       "      <td id=\"T_13cef_row7_col2\" class=\"data row7 col2\" >0.014469</td>\n",
       "      <td id=\"T_13cef_row7_col3\" class=\"data row7 col3\" >0.016952</td>\n",
       "      <td id=\"T_13cef_row7_col4\" class=\"data row7 col4\" >0.012755</td>\n",
       "      <td id=\"T_13cef_row7_col5\" class=\"data row7 col5\" >-0.005103</td>\n",
       "      <td id=\"T_13cef_row7_col6\" class=\"data row7 col6\" >-0.003058</td>\n",
       "      <td id=\"T_13cef_row7_col7\" class=\"data row7 col7\" >1.000000</td>\n",
       "      <td id=\"T_13cef_row7_col8\" class=\"data row7 col8\" >0.008461</td>\n",
       "    </tr>\n",
       "    <tr>\n",
       "      <th id=\"T_13cef_level0_row8\" class=\"row_heading level0 row8\" >Exited</th>\n",
       "      <td id=\"T_13cef_row8_col0\" class=\"data row8 col0\" >-0.028045</td>\n",
       "      <td id=\"T_13cef_row8_col1\" class=\"data row8 col1\" >0.318281</td>\n",
       "      <td id=\"T_13cef_row8_col2\" class=\"data row8 col2\" >-0.013372</td>\n",
       "      <td id=\"T_13cef_row8_col3\" class=\"data row8 col3\" >0.114544</td>\n",
       "      <td id=\"T_13cef_row8_col4\" class=\"data row8 col4\" >-0.117231</td>\n",
       "      <td id=\"T_13cef_row8_col5\" class=\"data row8 col5\" >0.006080</td>\n",
       "      <td id=\"T_13cef_row8_col6\" class=\"data row8 col6\" >-0.146605</td>\n",
       "      <td id=\"T_13cef_row8_col7\" class=\"data row8 col7\" >0.008461</td>\n",
       "      <td id=\"T_13cef_row8_col8\" class=\"data row8 col8\" >1.000000</td>\n",
       "    </tr>\n",
       "  </tbody>\n",
       "</table>\n"
      ],
      "text/plain": [
       "<pandas.io.formats.style.Styler at 0x15c4cd5d630>"
      ]
     },
     "execution_count": 15,
     "metadata": {},
     "output_type": "execute_result"
    }
   ],
   "source": [
    "train_df.corr('spearman').style.background_gradient()"
   ]
  },
  {
   "cell_type": "code",
   "execution_count": 17,
   "id": "328232f5-f44c-4e4a-862f-8bc748f3dbb9",
   "metadata": {},
   "outputs": [
    {
     "data": {
      "application/vnd.vegalite.v4+json": {
       "$schema": "https://vega.github.io/schema/vega-lite/v4.17.0.json",
       "columns": 3,
       "concat": [
        {
         "data": {
          "url": "http://localhost:61143/c6d0ed1441e7789f3f45fb2440058cbe.json"
         },
         "title": {
          "anchor": "middle",
          "text": "Geography"
         },
         "vconcat": [
          {
           "encoding": {
            "color": {
             "field": "",
             "title": null,
             "type": "quantitative"
            },
            "row": {
             "field": "Geography",
             "header": {
              "labelAlign": "left",
              "labelAngle": 0,
              "labelPadding": 5
             },
             "title": null,
             "type": "nominal"
            },
            "x": {
             "aggregate": "count",
             "type": "quantitative"
            },
            "y": {
             "axis": {
              "domain": true,
              "labels": false,
              "ticks": false,
              "title": ""
             },
             "field": "",
             "title": null,
             "type": "quantitative"
            }
           },
           "mark": "bar",
           "width": 120
          }
         ]
        },
        {
         "data": {
          "url": "http://localhost:61143/6f674b714106ebd9c95148fb52cdb0e3.json"
         },
         "title": {
          "anchor": "middle",
          "text": "Gender"
         },
         "vconcat": [
          {
           "encoding": {
            "color": {
             "field": "",
             "title": null,
             "type": "quantitative"
            },
            "row": {
             "field": "Gender",
             "header": {
              "labelAlign": "left",
              "labelAngle": 0,
              "labelPadding": 5
             },
             "title": null,
             "type": "nominal"
            },
            "x": {
             "aggregate": "count",
             "type": "quantitative"
            },
            "y": {
             "axis": {
              "domain": true,
              "labels": false,
              "ticks": false,
              "title": ""
             },
             "field": "",
             "title": null,
             "type": "quantitative"
            }
           },
           "mark": "bar",
           "width": 120
          }
         ]
        },
        {
         "data": {
          "url": "http://localhost:61143/0ce02644e4cb8a975ab2fc7d4d61a32a.json"
         },
         "title": {
          "anchor": "middle",
          "text": "Tenure"
         },
         "vconcat": [
          {
           "encoding": {
            "color": {
             "field": "",
             "title": null,
             "type": "quantitative"
            },
            "row": {
             "field": "Tenure",
             "header": {
              "labelAlign": "left",
              "labelAngle": 0,
              "labelPadding": 5
             },
             "title": null,
             "type": "quantitative"
            },
            "x": {
             "aggregate": "count",
             "type": "quantitative"
            },
            "y": {
             "axis": {
              "domain": true,
              "labels": false,
              "ticks": false,
              "title": ""
             },
             "field": "",
             "title": null,
             "type": "quantitative"
            }
           },
           "mark": "bar",
           "width": 120
          }
         ]
        },
        {
         "data": {
          "url": "http://localhost:61143/ea81ebbc0390cde1a05b78bffb323070.json"
         },
         "title": {
          "anchor": "middle",
          "text": "NumOfProducts"
         },
         "vconcat": [
          {
           "encoding": {
            "color": {
             "field": "",
             "title": null,
             "type": "quantitative"
            },
            "row": {
             "field": "NumOfProducts",
             "header": {
              "labelAlign": "left",
              "labelAngle": 0,
              "labelPadding": 5
             },
             "title": null,
             "type": "quantitative"
            },
            "x": {
             "aggregate": "count",
             "type": "quantitative"
            },
            "y": {
             "axis": {
              "domain": true,
              "labels": false,
              "ticks": false,
              "title": ""
             },
             "field": "",
             "title": null,
             "type": "quantitative"
            }
           },
           "mark": "bar",
           "width": 120
          }
         ]
        },
        {
         "data": {
          "url": "http://localhost:61143/4c0976212e1c40473c4221f722b2bc6d.json"
         },
         "title": {
          "anchor": "middle",
          "text": "HasCrCard"
         },
         "vconcat": [
          {
           "encoding": {
            "color": {
             "field": "",
             "title": null,
             "type": "quantitative"
            },
            "row": {
             "field": "HasCrCard",
             "header": {
              "labelAlign": "left",
              "labelAngle": 0,
              "labelPadding": 5
             },
             "title": null,
             "type": "quantitative"
            },
            "x": {
             "aggregate": "count",
             "type": "quantitative"
            },
            "y": {
             "axis": {
              "domain": true,
              "labels": false,
              "ticks": false,
              "title": ""
             },
             "field": "",
             "title": null,
             "type": "quantitative"
            }
           },
           "mark": "bar",
           "width": 120
          }
         ]
        },
        {
         "data": {
          "url": "http://localhost:61143/e80ebe3d48002eb8bdf9703125ec9182.json"
         },
         "title": {
          "anchor": "middle",
          "text": "IsActiveMember"
         },
         "vconcat": [
          {
           "encoding": {
            "color": {
             "field": "",
             "title": null,
             "type": "quantitative"
            },
            "row": {
             "field": "IsActiveMember",
             "header": {
              "labelAlign": "left",
              "labelAngle": 0,
              "labelPadding": 5
             },
             "title": null,
             "type": "quantitative"
            },
            "x": {
             "aggregate": "count",
             "type": "quantitative"
            },
            "y": {
             "axis": {
              "domain": true,
              "labels": false,
              "ticks": false,
              "title": ""
             },
             "field": "",
             "title": null,
             "type": "quantitative"
            }
           },
           "mark": "bar",
           "width": 120
          }
         ]
        },
        {
         "data": {
          "url": "http://localhost:61143/bc5ee738e5e73d2c50eae1bc946f7026.json"
         },
         "title": {
          "anchor": "middle",
          "text": "Exited"
         },
         "vconcat": [
          {
           "encoding": {
            "color": {
             "field": "",
             "title": null,
             "type": "quantitative"
            },
            "row": {
             "field": "Exited",
             "header": {
              "labelAlign": "left",
              "labelAngle": 0,
              "labelPadding": 5
             },
             "title": null,
             "type": "quantitative"
            },
            "x": {
             "aggregate": "count",
             "type": "quantitative"
            },
            "y": {
             "axis": {
              "domain": true,
              "labels": false,
              "ticks": false,
              "title": ""
             },
             "field": "",
             "title": null,
             "type": "quantitative"
            }
           },
           "mark": "bar",
           "width": 120
          }
         ]
        }
       ],
       "config": {
        "facet": {
         "spacing": 0
        },
        "scale": {
         "bandPaddingInner": 0.06,
         "bandPaddingOuter": 0.4
        },
        "view": {
         "continuousHeight": 300,
         "continuousWidth": 400,
         "stroke": null
        }
       },
       "resolve": {
        "scale": {
         "y": "independent"
        }
       }
      },
      "image/png": "[encoded data removed]",
      "text/plain": [
       "<VegaLite 4 object>\n",
       "\n",
       "If you see this message, it means the renderer has not been properly enabled\n",
       "for the frontend that you are using. For more information, see\n",
       "https://altair-viz.github.io/user_guide/troubleshooting.html\n"
      ]
     },
     "execution_count": 17,
     "metadata": {},
     "output_type": "execute_result"
    }
   ],
   "source": [
    "aly.dist(train_df[train_df.columns[train_df.nunique() <= 20]].astype('object'), dtype='object').resolve_scale(y='independent')\n"
   ]
  },
  {
   "cell_type": "code",
   "execution_count": null,
   "id": "05ca3303-5778-4348-8ef0-65a203217af9",
   "metadata": {},
   "outputs": [],
   "source": []
  }
 ],
 "metadata": {
  "kernelspec": {
   "display_name": "Python [conda env:.conda-573]",
   "language": "python",
   "name": "conda-env-.conda-573-py"
  },
  "language_info": {
   "codemirror_mode": {
    "name": "ipython",
    "version": 3
   },
   "file_extension": ".py",
   "mimetype": "text/x-python",
   "name": "python",
   "nbconvert_exporter": "python",
   "pygments_lexer": "ipython3",
   "version": "3.10.6"
  }
 },
 "nbformat": 4,
 "nbformat_minor": 5
}
