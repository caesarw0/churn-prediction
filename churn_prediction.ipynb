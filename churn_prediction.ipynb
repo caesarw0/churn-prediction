{
 "cells": [
  {
   "cell_type": "markdown",
   "id": "415a60e2-c153-4dcb-abd4-1095382ea484",
   "metadata": {},
   "source": [
    "# Credit Card Customer Churn Prediction"
   ]
  },
  {
   "cell_type": "markdown",
   "id": "1013a884-cac8-4ef1-9ddb-16afc68b80e8",
   "metadata": {},
   "source": [
    "**Brief Summary**\n",
    "\n",
    "- Applied linear (logistic regression) & non-linear model (SVC, 3 tree-based models) prediction.\n",
    "\n",
    "- Data splitting with train (0.7) and test (0.3).\n",
    "\n",
    "- Best performing model is LGBM classifier with tuned hyperparameter, the best score for testing data is 0.769 Macro-average f1 score."
   ]
  },
  {
   "cell_type": "markdown",
   "id": "b2bdfad9-d4f7-48ad-85dd-831cda60c5b9",
   "metadata": {},
   "source": [
    "# 1. Problem definition & Data Reading"
   ]
  },
  {
   "cell_type": "markdown",
   "id": "69578769-27e5-4d2c-a34c-8d66ae0f0d45",
   "metadata": {},
   "source": [
    "- classification problem (prediction whether the customer stayed (0) or exited (1) the bank)\n",
    "- given the related features (e.g. credit score, balance, number of products)"
   ]
  },
  {
   "cell_type": "code",
   "execution_count": 1,
   "id": "24cb017e-3f0d-4d21-9057-34d2c33e81a0",
   "metadata": {},
   "outputs": [],
   "source": [
    "import os\n",
    "import sys\n",
    "\n",
    "import IPython\n",
    "import matplotlib.pyplot as plt\n",
    "import mglearn\n",
    "import numpy as np\n",
    "import pandas as pd\n",
    "from IPython.display import HTML, display\n",
    "from sklearn.dummy import DummyClassifier\n",
    "from sklearn.linear_model import LogisticRegression\n",
    "from scipy.stats import lognorm, loguniform, randint\n",
    "from sklearn.model_selection import RandomizedSearchCV\n",
    "\n",
    "from sklearn.model_selection import cross_val_score, cross_validate, train_test_split\n",
    "from sklearn.pipeline import Pipeline, make_pipeline\n",
    "from IPython.display import Image\n",
    "from sklearn.compose import ColumnTransformer, make_column_transformer\n",
    "from sklearn.preprocessing import OneHotEncoder, OrdinalEncoder, StandardScaler, OneHotEncoder\n",
    "from sklearn.feature_extraction.text import CountVectorizer\n",
    "import seaborn as sns\n",
    "import matplotlib.pyplot as plt\n",
    "import altair as alt\n",
    "%matplotlib inline\n",
    "pd.set_option(\"display.max_colwidth\", 200)"
   ]
  },
  {
   "cell_type": "code",
   "execution_count": 2,
   "id": "e45803e1-a681-4600-9e3a-4763f1001ce0",
   "metadata": {},
   "outputs": [
    {
     "data": {
      "text/html": [
       "<div>\n",
       "<style scoped>\n",
       "    .dataframe tbody tr th:only-of-type {\n",
       "        vertical-align: middle;\n",
       "    }\n",
       "\n",
       "    .dataframe tbody tr th {\n",
       "        vertical-align: top;\n",
       "    }\n",
       "\n",
       "    .dataframe thead th {\n",
       "        text-align: right;\n",
       "    }\n",
       "</style>\n",
       "<table border=\"1\" class=\"dataframe\">\n",
       "  <thead>\n",
       "    <tr style=\"text-align: right;\">\n",
       "      <th></th>\n",
       "      <th>RowNumber</th>\n",
       "      <th>CustomerId</th>\n",
       "      <th>Surname</th>\n",
       "      <th>CreditScore</th>\n",
       "      <th>Geography</th>\n",
       "      <th>Gender</th>\n",
       "      <th>Age</th>\n",
       "      <th>Tenure</th>\n",
       "      <th>Balance</th>\n",
       "      <th>NumOfProducts</th>\n",
       "      <th>HasCrCard</th>\n",
       "      <th>IsActiveMember</th>\n",
       "      <th>EstimatedSalary</th>\n",
       "      <th>Exited</th>\n",
       "    </tr>\n",
       "  </thead>\n",
       "  <tbody>\n",
       "    <tr>\n",
       "      <th>0</th>\n",
       "      <td>1</td>\n",
       "      <td>15634602</td>\n",
       "      <td>Hargrave</td>\n",
       "      <td>619</td>\n",
       "      <td>France</td>\n",
       "      <td>Female</td>\n",
       "      <td>42</td>\n",
       "      <td>2</td>\n",
       "      <td>0.00</td>\n",
       "      <td>1</td>\n",
       "      <td>1</td>\n",
       "      <td>1</td>\n",
       "      <td>101348.88</td>\n",
       "      <td>1</td>\n",
       "    </tr>\n",
       "    <tr>\n",
       "      <th>1</th>\n",
       "      <td>2</td>\n",
       "      <td>15647311</td>\n",
       "      <td>Hill</td>\n",
       "      <td>608</td>\n",
       "      <td>Spain</td>\n",
       "      <td>Female</td>\n",
       "      <td>41</td>\n",
       "      <td>1</td>\n",
       "      <td>83807.86</td>\n",
       "      <td>1</td>\n",
       "      <td>0</td>\n",
       "      <td>1</td>\n",
       "      <td>112542.58</td>\n",
       "      <td>0</td>\n",
       "    </tr>\n",
       "    <tr>\n",
       "      <th>2</th>\n",
       "      <td>3</td>\n",
       "      <td>15619304</td>\n",
       "      <td>Onio</td>\n",
       "      <td>502</td>\n",
       "      <td>France</td>\n",
       "      <td>Female</td>\n",
       "      <td>42</td>\n",
       "      <td>8</td>\n",
       "      <td>159660.80</td>\n",
       "      <td>3</td>\n",
       "      <td>1</td>\n",
       "      <td>0</td>\n",
       "      <td>113931.57</td>\n",
       "      <td>1</td>\n",
       "    </tr>\n",
       "    <tr>\n",
       "      <th>3</th>\n",
       "      <td>4</td>\n",
       "      <td>15701354</td>\n",
       "      <td>Boni</td>\n",
       "      <td>699</td>\n",
       "      <td>France</td>\n",
       "      <td>Female</td>\n",
       "      <td>39</td>\n",
       "      <td>1</td>\n",
       "      <td>0.00</td>\n",
       "      <td>2</td>\n",
       "      <td>0</td>\n",
       "      <td>0</td>\n",
       "      <td>93826.63</td>\n",
       "      <td>0</td>\n",
       "    </tr>\n",
       "    <tr>\n",
       "      <th>4</th>\n",
       "      <td>5</td>\n",
       "      <td>15737888</td>\n",
       "      <td>Mitchell</td>\n",
       "      <td>850</td>\n",
       "      <td>Spain</td>\n",
       "      <td>Female</td>\n",
       "      <td>43</td>\n",
       "      <td>2</td>\n",
       "      <td>125510.82</td>\n",
       "      <td>1</td>\n",
       "      <td>1</td>\n",
       "      <td>1</td>\n",
       "      <td>79084.10</td>\n",
       "      <td>0</td>\n",
       "    </tr>\n",
       "  </tbody>\n",
       "</table>\n",
       "</div>"
      ],
      "text/plain": [
       "   RowNumber  CustomerId   Surname  CreditScore Geography  Gender  Age  \\\n",
       "0          1    15634602  Hargrave          619    France  Female   42   \n",
       "1          2    15647311      Hill          608     Spain  Female   41   \n",
       "2          3    15619304      Onio          502    France  Female   42   \n",
       "3          4    15701354      Boni          699    France  Female   39   \n",
       "4          5    15737888  Mitchell          850     Spain  Female   43   \n",
       "\n",
       "   Tenure    Balance  NumOfProducts  HasCrCard  IsActiveMember  \\\n",
       "0       2       0.00              1          1               1   \n",
       "1       1   83807.86              1          0               1   \n",
       "2       8  159660.80              3          1               0   \n",
       "3       1       0.00              2          0               0   \n",
       "4       2  125510.82              1          1               1   \n",
       "\n",
       "   EstimatedSalary  Exited  \n",
       "0        101348.88       1  \n",
       "1        112542.58       0  \n",
       "2        113931.57       1  \n",
       "3         93826.63       0  \n",
       "4         79084.10       0  "
      ]
     },
     "execution_count": 2,
     "metadata": {},
     "output_type": "execute_result"
    }
   ],
   "source": [
    "df = pd.read_csv('data/Churn_Modelling.csv')\n",
    "df.head()"
   ]
  },
  {
   "cell_type": "code",
   "execution_count": 3,
   "id": "a4370f72-7572-44a9-824a-0d7e6bacd0be",
   "metadata": {},
   "outputs": [
    {
     "name": "stdout",
     "output_type": "stream",
     "text": [
      "<class 'pandas.core.frame.DataFrame'>\n",
      "RangeIndex: 10000 entries, 0 to 9999\n",
      "Data columns (total 11 columns):\n",
      " #   Column           Non-Null Count  Dtype  \n",
      "---  ------           --------------  -----  \n",
      " 0   CreditScore      10000 non-null  int64  \n",
      " 1   Geography        10000 non-null  object \n",
      " 2   Gender           10000 non-null  object \n",
      " 3   Age              10000 non-null  int64  \n",
      " 4   Tenure           10000 non-null  int64  \n",
      " 5   Balance          10000 non-null  float64\n",
      " 6   NumOfProducts    10000 non-null  int64  \n",
      " 7   HasCrCard        10000 non-null  int64  \n",
      " 8   IsActiveMember   10000 non-null  int64  \n",
      " 9   EstimatedSalary  10000 non-null  float64\n",
      " 10  Exited           10000 non-null  int64  \n",
      "dtypes: float64(2), int64(7), object(2)\n",
      "memory usage: 859.5+ KB\n"
     ]
    }
   ],
   "source": [
    "# Dropping unnecessary columns\n",
    "df.drop(['RowNumber','CustomerId','Surname'], axis=1, inplace=True)\n",
    "df.info()"
   ]
  },
  {
   "cell_type": "markdown",
   "id": "343d7fba-b4dd-49a1-a3a2-c0f776f5c7d8",
   "metadata": {},
   "source": [
    "# 2. Data splitting"
   ]
  },
  {
   "cell_type": "code",
   "execution_count": 4,
   "id": "75065d1d-788a-4e7f-b242-156ae7a5dca4",
   "metadata": {},
   "outputs": [],
   "source": [
    "train_df, test_df = train_test_split(df, test_size=0.3, random_state=123)\n"
   ]
  },
  {
   "cell_type": "code",
   "execution_count": 5,
   "id": "c9869b24-e4b4-4731-ab87-467cdbca5667",
   "metadata": {},
   "outputs": [
    {
     "data": {
      "text/plain": [
       "(7000, 11)"
      ]
     },
     "execution_count": 5,
     "metadata": {},
     "output_type": "execute_result"
    }
   ],
   "source": [
    "train_df.shape"
   ]
  },
  {
   "cell_type": "markdown",
   "id": "eb19e696-7e92-46d8-8153-9c3fa1244e38",
   "metadata": {},
   "source": [
    "# 3. EDA"
   ]
  },
  {
   "cell_type": "markdown",
   "id": "ca025e78-34e4-4027-8a34-16545433c5bc",
   "metadata": {},
   "source": [
    "## 3.1 Training data at a glance"
   ]
  },
  {
   "cell_type": "code",
   "execution_count": 6,
   "id": "018db8ab-3375-485d-ac72-631cd148f81e",
   "metadata": {},
   "outputs": [
    {
     "name": "stdout",
     "output_type": "stream",
     "text": [
      "<class 'pandas.core.frame.DataFrame'>\n",
      "Int64Index: 7000 entries, 3144 to 3582\n",
      "Data columns (total 11 columns):\n",
      " #   Column           Non-Null Count  Dtype  \n",
      "---  ------           --------------  -----  \n",
      " 0   CreditScore      7000 non-null   int64  \n",
      " 1   Geography        7000 non-null   object \n",
      " 2   Gender           7000 non-null   object \n",
      " 3   Age              7000 non-null   int64  \n",
      " 4   Tenure           7000 non-null   int64  \n",
      " 5   Balance          7000 non-null   float64\n",
      " 6   NumOfProducts    7000 non-null   int64  \n",
      " 7   HasCrCard        7000 non-null   int64  \n",
      " 8   IsActiveMember   7000 non-null   int64  \n",
      " 9   EstimatedSalary  7000 non-null   float64\n",
      " 10  Exited           7000 non-null   int64  \n",
      "dtypes: float64(2), int64(7), object(2)\n",
      "memory usage: 656.2+ KB\n"
     ]
    },
    {
     "data": {
      "text/html": [
       "<div>\n",
       "<style scoped>\n",
       "    .dataframe tbody tr th:only-of-type {\n",
       "        vertical-align: middle;\n",
       "    }\n",
       "\n",
       "    .dataframe tbody tr th {\n",
       "        vertical-align: top;\n",
       "    }\n",
       "\n",
       "    .dataframe thead th {\n",
       "        text-align: right;\n",
       "    }\n",
       "</style>\n",
       "<table border=\"1\" class=\"dataframe\">\n",
       "  <thead>\n",
       "    <tr style=\"text-align: right;\">\n",
       "      <th></th>\n",
       "      <th>CreditScore</th>\n",
       "      <th>Age</th>\n",
       "      <th>Tenure</th>\n",
       "      <th>Balance</th>\n",
       "      <th>NumOfProducts</th>\n",
       "      <th>HasCrCard</th>\n",
       "      <th>IsActiveMember</th>\n",
       "      <th>EstimatedSalary</th>\n",
       "      <th>Exited</th>\n",
       "    </tr>\n",
       "  </thead>\n",
       "  <tbody>\n",
       "    <tr>\n",
       "      <th>count</th>\n",
       "      <td>7000.000000</td>\n",
       "      <td>7000.000000</td>\n",
       "      <td>7000.000000</td>\n",
       "      <td>7000.000000</td>\n",
       "      <td>7000.000000</td>\n",
       "      <td>7000.000000</td>\n",
       "      <td>7000.000000</td>\n",
       "      <td>7000.000000</td>\n",
       "      <td>7000.000000</td>\n",
       "    </tr>\n",
       "    <tr>\n",
       "      <th>mean</th>\n",
       "      <td>650.144571</td>\n",
       "      <td>38.942571</td>\n",
       "      <td>5.020143</td>\n",
       "      <td>76448.489407</td>\n",
       "      <td>1.534429</td>\n",
       "      <td>0.705429</td>\n",
       "      <td>0.515286</td>\n",
       "      <td>99934.226306</td>\n",
       "      <td>0.204571</td>\n",
       "    </tr>\n",
       "    <tr>\n",
       "      <th>std</th>\n",
       "      <td>96.554892</td>\n",
       "      <td>10.612389</td>\n",
       "      <td>2.894639</td>\n",
       "      <td>62700.899244</td>\n",
       "      <td>0.582855</td>\n",
       "      <td>0.455882</td>\n",
       "      <td>0.499802</td>\n",
       "      <td>57555.469387</td>\n",
       "      <td>0.403417</td>\n",
       "    </tr>\n",
       "    <tr>\n",
       "      <th>min</th>\n",
       "      <td>350.000000</td>\n",
       "      <td>18.000000</td>\n",
       "      <td>0.000000</td>\n",
       "      <td>0.000000</td>\n",
       "      <td>1.000000</td>\n",
       "      <td>0.000000</td>\n",
       "      <td>0.000000</td>\n",
       "      <td>11.580000</td>\n",
       "      <td>0.000000</td>\n",
       "    </tr>\n",
       "    <tr>\n",
       "      <th>25%</th>\n",
       "      <td>583.000000</td>\n",
       "      <td>32.000000</td>\n",
       "      <td>3.000000</td>\n",
       "      <td>0.000000</td>\n",
       "      <td>1.000000</td>\n",
       "      <td>0.000000</td>\n",
       "      <td>0.000000</td>\n",
       "      <td>50743.832500</td>\n",
       "      <td>0.000000</td>\n",
       "    </tr>\n",
       "    <tr>\n",
       "      <th>50%</th>\n",
       "      <td>652.000000</td>\n",
       "      <td>37.000000</td>\n",
       "      <td>5.000000</td>\n",
       "      <td>96889.925000</td>\n",
       "      <td>1.000000</td>\n",
       "      <td>1.000000</td>\n",
       "      <td>1.000000</td>\n",
       "      <td>99729.890000</td>\n",
       "      <td>0.000000</td>\n",
       "    </tr>\n",
       "    <tr>\n",
       "      <th>75%</th>\n",
       "      <td>717.000000</td>\n",
       "      <td>44.000000</td>\n",
       "      <td>8.000000</td>\n",
       "      <td>127838.535000</td>\n",
       "      <td>2.000000</td>\n",
       "      <td>1.000000</td>\n",
       "      <td>1.000000</td>\n",
       "      <td>149458.040000</td>\n",
       "      <td>0.000000</td>\n",
       "    </tr>\n",
       "    <tr>\n",
       "      <th>max</th>\n",
       "      <td>850.000000</td>\n",
       "      <td>92.000000</td>\n",
       "      <td>10.000000</td>\n",
       "      <td>238387.560000</td>\n",
       "      <td>4.000000</td>\n",
       "      <td>1.000000</td>\n",
       "      <td>1.000000</td>\n",
       "      <td>199992.480000</td>\n",
       "      <td>1.000000</td>\n",
       "    </tr>\n",
       "  </tbody>\n",
       "</table>\n",
       "</div>"
      ],
      "text/plain": [
       "       CreditScore          Age       Tenure        Balance  NumOfProducts  \\\n",
       "count  7000.000000  7000.000000  7000.000000    7000.000000    7000.000000   \n",
       "mean    650.144571    38.942571     5.020143   76448.489407       1.534429   \n",
       "std      96.554892    10.612389     2.894639   62700.899244       0.582855   \n",
       "min     350.000000    18.000000     0.000000       0.000000       1.000000   \n",
       "25%     583.000000    32.000000     3.000000       0.000000       1.000000   \n",
       "50%     652.000000    37.000000     5.000000   96889.925000       1.000000   \n",
       "75%     717.000000    44.000000     8.000000  127838.535000       2.000000   \n",
       "max     850.000000    92.000000    10.000000  238387.560000       4.000000   \n",
       "\n",
       "         HasCrCard  IsActiveMember  EstimatedSalary       Exited  \n",
       "count  7000.000000     7000.000000      7000.000000  7000.000000  \n",
       "mean      0.705429        0.515286     99934.226306     0.204571  \n",
       "std       0.455882        0.499802     57555.469387     0.403417  \n",
       "min       0.000000        0.000000        11.580000     0.000000  \n",
       "25%       0.000000        0.000000     50743.832500     0.000000  \n",
       "50%       1.000000        1.000000     99729.890000     0.000000  \n",
       "75%       1.000000        1.000000    149458.040000     0.000000  \n",
       "max       1.000000        1.000000    199992.480000     1.000000  "
      ]
     },
     "execution_count": 6,
     "metadata": {},
     "output_type": "execute_result"
    }
   ],
   "source": [
    "train_df.info()\n",
    "train_df.describe()"
   ]
  },
  {
   "cell_type": "markdown",
   "id": "83ac66ce-f6f8-4bf2-8305-482b6eb9a5c2",
   "metadata": {},
   "source": [
    "## 3.2 Label Imbalance"
   ]
  },
  {
   "cell_type": "code",
   "execution_count": 7,
   "id": "1c3a8744-8867-4ddc-a807-3f59aeb1693b",
   "metadata": {},
   "outputs": [
    {
     "data": {
      "text/plain": [
       "0    0.795429\n",
       "1    0.204571\n",
       "Name: Exited, dtype: float64"
      ]
     },
     "execution_count": 7,
     "metadata": {},
     "output_type": "execute_result"
    }
   ],
   "source": [
    "train_df[\"Exited\"].value_counts(normalize=True)\n"
   ]
  },
  {
   "cell_type": "markdown",
   "id": "9ca4ea56-c2b4-4971-bf23-4052fa4284df",
   "metadata": {},
   "source": [
    "We have a class imbalance. Both classes seem importance here.\n",
    "\n",
    "We will be going to use macro-average f1 score as our evaluation metric."
   ]
  },
  {
   "cell_type": "code",
   "execution_count": 8,
   "id": "b2ef11f7-71d1-4160-8a17-abeef987a9d4",
   "metadata": {},
   "outputs": [],
   "source": [
    "from sklearn.metrics import f1_score, make_scorer, recall_score\n",
    "\n",
    "custom_scorer = make_scorer(f1_score, average=\"macro\")\n",
    "scoring_metric = custom_scorer"
   ]
  },
  {
   "cell_type": "markdown",
   "id": "be655995-f1d5-4a6b-8477-f61cb4b89130",
   "metadata": {},
   "source": [
    "## 3.3 separating class label & features"
   ]
  },
  {
   "cell_type": "code",
   "execution_count": 9,
   "id": "09e8ee63-bca5-42e5-8e1b-37a3ff116216",
   "metadata": {},
   "outputs": [],
   "source": [
    "X_train, y_train = (\n",
    "    train_df.drop(columns=[\"Exited\"]),\n",
    "    train_df[\"Exited\"],\n",
    ")\n",
    "X_test, y_test = (\n",
    "    test_df.drop(columns=[\"Exited\"]),\n",
    "    test_df[\"Exited\"],\n",
    ")"
   ]
  },
  {
   "cell_type": "markdown",
   "id": "c0ae4b8b-72c4-4247-a784-843ce51c4fd2",
   "metadata": {},
   "source": [
    "## 3.4 Correlation Plot"
   ]
  },
  {
   "cell_type": "code",
   "execution_count": 10,
   "id": "94e3cc16-e60c-45d1-a737-dd9c1c2bb10f",
   "metadata": {},
   "outputs": [
    {
     "data": {
      "application/vnd.vegalite.v4+json": {
       "$schema": "https://vega.github.io/schema/vega-lite/v4.17.0.json",
       "concat": [
        {
         "data": {
          "url": "http://localhost:53935/cf149d6db3dcc46531451717bd49072a.json"
         },
         "encoding": {
          "color": {
           "field": "value",
           "scale": {
            "domain": [
             -1,
             1
            ],
            "scheme": "blueorange"
           },
           "title": "",
           "type": "quantitative"
          },
          "opacity": {
           "condition": {
            "selection": "selector001",
            "value": 0.9
           },
           "value": 0.2
          },
          "size": {
           "field": "abs_value",
           "legend": null,
           "scale": {
            "domain": [
             0,
             1
            ]
           },
           "type": "quantitative"
          },
          "tooltip": {
           "field": "value",
           "format": ".2f",
           "type": "quantitative"
          },
          "x": {
           "field": "index",
           "sort": [
            "Exited",
            "EstimatedSalary",
            "IsActiveMember",
            "HasCrCard",
            "NumOfProducts",
            "Balance",
            "Tenure",
            "Age"
           ],
           "title": "",
           "type": "nominal"
          },
          "y": {
           "axis": {},
           "field": "variable",
           "sort": [
            "EstimatedSalary",
            "IsActiveMember",
            "HasCrCard",
            "NumOfProducts",
            "Balance",
            "Tenure",
            "Age",
            "CreditScore"
           ],
           "title": "",
           "type": "nominal"
          }
         },
         "mark": "circle",
         "selection": {
          "selector001": {
           "empty": "all",
           "fields": [
            "variable",
            "index"
           ],
           "nearest": true,
           "on": "mouseover",
           "type": "multi"
          }
         },
         "title": "Pearson correlations",
         "transform": [
          {
           "as": "abs_value",
           "calculate": "abs(datum.value)"
          }
         ]
        },
        {
         "data": {
          "url": "http://localhost:53935/d9dd3367c2e5bc8a368c368574855f9e.json"
         },
         "encoding": {
          "color": {
           "field": "value",
           "scale": {
            "domain": [
             -1,
             1
            ],
            "scheme": "blueorange"
           },
           "title": "",
           "type": "quantitative"
          },
          "opacity": {
           "condition": {
            "selection": "selector001",
            "value": 0.9
           },
           "value": 0.2
          },
          "size": {
           "field": "abs_value",
           "legend": null,
           "scale": {
            "domain": [
             0,
             1
            ]
           },
           "type": "quantitative"
          },
          "tooltip": {
           "field": "value",
           "format": ".2f",
           "type": "quantitative"
          },
          "x": {
           "field": "index",
           "sort": [
            "Exited",
            "EstimatedSalary",
            "IsActiveMember",
            "HasCrCard",
            "NumOfProducts",
            "Balance",
            "Tenure",
            "Age"
           ],
           "title": "",
           "type": "nominal"
          },
          "y": {
           "axis": {
            "labels": false
           },
           "field": "variable",
           "sort": [
            "EstimatedSalary",
            "IsActiveMember",
            "HasCrCard",
            "NumOfProducts",
            "Balance",
            "Tenure",
            "Age",
            "CreditScore"
           ],
           "title": "",
           "type": "nominal"
          }
         },
         "mark": "circle",
         "selection": {
          "selector001": {
           "empty": "all",
           "fields": [
            "variable",
            "index"
           ],
           "nearest": true,
           "on": "mouseover",
           "type": "multi"
          }
         },
         "title": "Spearman correlations",
         "transform": [
          {
           "as": "abs_value",
           "calculate": "abs(datum.value)"
          }
         ]
        }
       ],
       "config": {
        "view": {
         "continuousHeight": 300,
         "continuousWidth": 400,
         "strokeWidth": 0
        }
       },
       "resolve": {
        "axis": {
         "y": "shared"
        }
       }
      },
      "image/png": "[encoded data removed]",
      "text/plain": [
       "<VegaLite 4 object>\n",
       "\n",
       "If you see this message, it means the renderer has not been properly enabled\n",
       "for the frontend that you are using. For more information, see\n",
       "https://altair-viz.github.io/user_guide/troubleshooting.html\n"
      ]
     },
     "execution_count": 10,
     "metadata": {},
     "output_type": "execute_result"
    }
   ],
   "source": [
    "import altair_ally as aly\n",
    "from altair_data_server import data_server\n",
    "\n",
    "aly.alt.data_transformers.enable('data_server')\n",
    "aly.alt.renderers.enable('mimetype')\n",
    "\n",
    "aly.corr(train_df)"
   ]
  },
  {
   "cell_type": "code",
   "execution_count": 11,
   "id": "63a33986-23e7-4403-822f-caa08f02498c",
   "metadata": {},
   "outputs": [
    {
     "data": {
      "text/html": [
       "<style type=\"text/css\">\n",
       "#T_e57c8_row0_col0, #T_e57c8_row1_col1, #T_e57c8_row2_col2, #T_e57c8_row3_col3, #T_e57c8_row4_col4, #T_e57c8_row5_col5, #T_e57c8_row6_col6, #T_e57c8_row7_col7, #T_e57c8_row8_col8 {\n",
       "  background-color: #023858;\n",
       "  color: #f1f1f1;\n",
       "}\n",
       "#T_e57c8_row0_col1 {\n",
       "  background-color: #f6eff7;\n",
       "  color: #000000;\n",
       "}\n",
       "#T_e57c8_row0_col2, #T_e57c8_row5_col0 {\n",
       "  background-color: #fbf3f9;\n",
       "  color: #000000;\n",
       "}\n",
       "#T_e57c8_row0_col3, #T_e57c8_row0_col4, #T_e57c8_row6_col4, #T_e57c8_row7_col3, #T_e57c8_row7_col4 {\n",
       "  background-color: #d1d2e6;\n",
       "  color: #000000;\n",
       "}\n",
       "#T_e57c8_row0_col5, #T_e57c8_row1_col2, #T_e57c8_row8_col2 {\n",
       "  background-color: #fef6fa;\n",
       "  color: #000000;\n",
       "}\n",
       "#T_e57c8_row0_col6, #T_e57c8_row8_col4 {\n",
       "  background-color: #e7e3f0;\n",
       "  color: #000000;\n",
       "}\n",
       "#T_e57c8_row0_col7, #T_e57c8_row3_col5, #T_e57c8_row4_col5, #T_e57c8_row7_col5 {\n",
       "  background-color: #fef6fb;\n",
       "  color: #000000;\n",
       "}\n",
       "#T_e57c8_row0_col8 {\n",
       "  background-color: #f0eaf4;\n",
       "  color: #000000;\n",
       "}\n",
       "#T_e57c8_row1_col0, #T_e57c8_row2_col0, #T_e57c8_row2_col5 {\n",
       "  background-color: #faf3f9;\n",
       "  color: #000000;\n",
       "}\n",
       "#T_e57c8_row1_col3 {\n",
       "  background-color: #cdd0e5;\n",
       "  color: #000000;\n",
       "}\n",
       "#T_e57c8_row1_col4 {\n",
       "  background-color: #dddbec;\n",
       "  color: #000000;\n",
       "}\n",
       "#T_e57c8_row1_col5, #T_e57c8_row2_col7, #T_e57c8_row3_col2, #T_e57c8_row4_col7, #T_e57c8_row8_col5, #T_e57c8_row8_col7 {\n",
       "  background-color: #fdf5fa;\n",
       "  color: #000000;\n",
       "}\n",
       "#T_e57c8_row1_col6 {\n",
       "  background-color: #e3e0ee;\n",
       "  color: #000000;\n",
       "}\n",
       "#T_e57c8_row1_col7, #T_e57c8_row3_col4, #T_e57c8_row4_col1, #T_e57c8_row4_col3, #T_e57c8_row5_col7, #T_e57c8_row6_col2, #T_e57c8_row6_col5, #T_e57c8_row6_col7, #T_e57c8_row6_col8, #T_e57c8_row8_col0, #T_e57c8_row8_col6 {\n",
       "  background-color: #fff7fb;\n",
       "  color: #000000;\n",
       "}\n",
       "#T_e57c8_row1_col8 {\n",
       "  background-color: #9ab8d8;\n",
       "  color: #000000;\n",
       "}\n",
       "#T_e57c8_row2_col1, #T_e57c8_row7_col2 {\n",
       "  background-color: #faf2f8;\n",
       "  color: #000000;\n",
       "}\n",
       "#T_e57c8_row2_col3, #T_e57c8_row5_col3, #T_e57c8_row6_col3 {\n",
       "  background-color: #d4d4e8;\n",
       "  color: #000000;\n",
       "}\n",
       "#T_e57c8_row2_col4 {\n",
       "  background-color: #d0d1e6;\n",
       "  color: #000000;\n",
       "}\n",
       "#T_e57c8_row2_col6 {\n",
       "  background-color: #efe9f3;\n",
       "  color: #000000;\n",
       "}\n",
       "#T_e57c8_row2_col8 {\n",
       "  background-color: #eee8f3;\n",
       "  color: #000000;\n",
       "}\n",
       "#T_e57c8_row3_col0, #T_e57c8_row4_col0, #T_e57c8_row4_col2 {\n",
       "  background-color: #f9f2f8;\n",
       "  color: #000000;\n",
       "}\n",
       "#T_e57c8_row3_col1 {\n",
       "  background-color: #f2ecf5;\n",
       "  color: #000000;\n",
       "}\n",
       "#T_e57c8_row3_col6 {\n",
       "  background-color: #ede7f2;\n",
       "  color: #000000;\n",
       "}\n",
       "#T_e57c8_row3_col7 {\n",
       "  background-color: #fcf4fa;\n",
       "  color: #000000;\n",
       "}\n",
       "#T_e57c8_row3_col8 {\n",
       "  background-color: #d5d5e8;\n",
       "  color: #000000;\n",
       "}\n",
       "#T_e57c8_row4_col6 {\n",
       "  background-color: #e8e4f0;\n",
       "  color: #000000;\n",
       "}\n",
       "#T_e57c8_row4_col8, #T_e57c8_row7_col0 {\n",
       "  background-color: #fbf4f9;\n",
       "  color: #000000;\n",
       "}\n",
       "#T_e57c8_row5_col1, #T_e57c8_row6_col0 {\n",
       "  background-color: #f7f0f7;\n",
       "  color: #000000;\n",
       "}\n",
       "#T_e57c8_row5_col2, #T_e57c8_row7_col1 {\n",
       "  background-color: #f8f1f8;\n",
       "  color: #000000;\n",
       "}\n",
       "#T_e57c8_row5_col4 {\n",
       "  background-color: #d3d4e7;\n",
       "  color: #000000;\n",
       "}\n",
       "#T_e57c8_row5_col6 {\n",
       "  background-color: #ede8f3;\n",
       "  color: #000000;\n",
       "}\n",
       "#T_e57c8_row5_col8, #T_e57c8_row7_col8 {\n",
       "  background-color: #eae6f1;\n",
       "  color: #000000;\n",
       "}\n",
       "#T_e57c8_row6_col1 {\n",
       "  background-color: #f1ebf4;\n",
       "  color: #000000;\n",
       "}\n",
       "#T_e57c8_row7_col6 {\n",
       "  background-color: #ece7f2;\n",
       "  color: #000000;\n",
       "}\n",
       "#T_e57c8_row8_col1 {\n",
       "  background-color: #adc1dd;\n",
       "  color: #000000;\n",
       "}\n",
       "#T_e57c8_row8_col3 {\n",
       "  background-color: #b7c5df;\n",
       "  color: #000000;\n",
       "}\n",
       "</style>\n",
       "<table id=\"T_e57c8\">\n",
       "  <thead>\n",
       "    <tr>\n",
       "      <th class=\"blank level0\" >&nbsp;</th>\n",
       "      <th id=\"T_e57c8_level0_col0\" class=\"col_heading level0 col0\" >CreditScore</th>\n",
       "      <th id=\"T_e57c8_level0_col1\" class=\"col_heading level0 col1\" >Age</th>\n",
       "      <th id=\"T_e57c8_level0_col2\" class=\"col_heading level0 col2\" >Tenure</th>\n",
       "      <th id=\"T_e57c8_level0_col3\" class=\"col_heading level0 col3\" >Balance</th>\n",
       "      <th id=\"T_e57c8_level0_col4\" class=\"col_heading level0 col4\" >NumOfProducts</th>\n",
       "      <th id=\"T_e57c8_level0_col5\" class=\"col_heading level0 col5\" >HasCrCard</th>\n",
       "      <th id=\"T_e57c8_level0_col6\" class=\"col_heading level0 col6\" >IsActiveMember</th>\n",
       "      <th id=\"T_e57c8_level0_col7\" class=\"col_heading level0 col7\" >EstimatedSalary</th>\n",
       "      <th id=\"T_e57c8_level0_col8\" class=\"col_heading level0 col8\" >Exited</th>\n",
       "    </tr>\n",
       "  </thead>\n",
       "  <tbody>\n",
       "    <tr>\n",
       "      <th id=\"T_e57c8_level0_row0\" class=\"row_heading level0 row0\" >CreditScore</th>\n",
       "      <td id=\"T_e57c8_row0_col0\" class=\"data row0 col0\" >1.000000</td>\n",
       "      <td id=\"T_e57c8_row0_col1\" class=\"data row0 col1\" >0.006407</td>\n",
       "      <td id=\"T_e57c8_row0_col2\" class=\"data row0 col2\" >0.004991</td>\n",
       "      <td id=\"T_e57c8_row0_col3\" class=\"data row0 col3\" >0.012883</td>\n",
       "      <td id=\"T_e57c8_row0_col4\" class=\"data row0 col4\" >0.012178</td>\n",
       "      <td id=\"T_e57c8_row0_col5\" class=\"data row0 col5\" >0.000098</td>\n",
       "      <td id=\"T_e57c8_row0_col6\" class=\"data row0 col6\" >0.027965</td>\n",
       "      <td id=\"T_e57c8_row0_col7\" class=\"data row0 col7\" >-0.000284</td>\n",
       "      <td id=\"T_e57c8_row0_col8\" class=\"data row0 col8\" >-0.028045</td>\n",
       "    </tr>\n",
       "    <tr>\n",
       "      <th id=\"T_e57c8_level0_row1\" class=\"row_heading level0 row1\" >Age</th>\n",
       "      <td id=\"T_e57c8_row1_col0\" class=\"data row1 col0\" >0.006407</td>\n",
       "      <td id=\"T_e57c8_row1_col1\" class=\"data row1 col1\" >1.000000</td>\n",
       "      <td id=\"T_e57c8_row1_col2\" class=\"data row1 col2\" >-0.015025</td>\n",
       "      <td id=\"T_e57c8_row1_col3\" class=\"data row1 col3\" >0.032517</td>\n",
       "      <td id=\"T_e57c8_row1_col4\" class=\"data row1 col4\" >-0.055963</td>\n",
       "      <td id=\"T_e57c8_row1_col5\" class=\"data row1 col5\" >0.004114</td>\n",
       "      <td id=\"T_e57c8_row1_col6\" class=\"data row1 col6\" >0.043716</td>\n",
       "      <td id=\"T_e57c8_row1_col7\" class=\"data row1 col7\" >-0.003896</td>\n",
       "      <td id=\"T_e57c8_row1_col8\" class=\"data row1 col8\" >0.318281</td>\n",
       "    </tr>\n",
       "    <tr>\n",
       "      <th id=\"T_e57c8_level0_row2\" class=\"row_heading level0 row2\" >Tenure</th>\n",
       "      <td id=\"T_e57c8_row2_col0\" class=\"data row2 col0\" >0.004991</td>\n",
       "      <td id=\"T_e57c8_row2_col1\" class=\"data row2 col1\" >-0.015025</td>\n",
       "      <td id=\"T_e57c8_row2_col2\" class=\"data row2 col2\" >1.000000</td>\n",
       "      <td id=\"T_e57c8_row2_col3\" class=\"data row2 col3\" >-0.007421</td>\n",
       "      <td id=\"T_e57c8_row2_col4\" class=\"data row2 col4\" >0.017971</td>\n",
       "      <td id=\"T_e57c8_row2_col5\" class=\"data row2 col5\" >0.022227</td>\n",
       "      <td id=\"T_e57c8_row2_col6\" class=\"data row2 col6\" >-0.023151</td>\n",
       "      <td id=\"T_e57c8_row2_col7\" class=\"data row2 col7\" >0.014469</td>\n",
       "      <td id=\"T_e57c8_row2_col8\" class=\"data row2 col8\" >-0.013372</td>\n",
       "    </tr>\n",
       "    <tr>\n",
       "      <th id=\"T_e57c8_level0_row3\" class=\"row_heading level0 row3\" >Balance</th>\n",
       "      <td id=\"T_e57c8_row3_col0\" class=\"data row3 col0\" >0.012883</td>\n",
       "      <td id=\"T_e57c8_row3_col1\" class=\"data row3 col1\" >0.032517</td>\n",
       "      <td id=\"T_e57c8_row3_col2\" class=\"data row3 col2\" >-0.007421</td>\n",
       "      <td id=\"T_e57c8_row3_col3\" class=\"data row3 col3\" >1.000000</td>\n",
       "      <td id=\"T_e57c8_row3_col4\" class=\"data row3 col4\" >-0.310379</td>\n",
       "      <td id=\"T_e57c8_row3_col5\" class=\"data row3 col5\" >-0.003376</td>\n",
       "      <td id=\"T_e57c8_row3_col6\" class=\"data row3 col6\" >-0.005624</td>\n",
       "      <td id=\"T_e57c8_row3_col7\" class=\"data row3 col7\" >0.016952</td>\n",
       "      <td id=\"T_e57c8_row3_col8\" class=\"data row3 col8\" >0.114544</td>\n",
       "    </tr>\n",
       "    <tr>\n",
       "      <th id=\"T_e57c8_level0_row4\" class=\"row_heading level0 row4\" >NumOfProducts</th>\n",
       "      <td id=\"T_e57c8_row4_col0\" class=\"data row4 col0\" >0.012178</td>\n",
       "      <td id=\"T_e57c8_row4_col1\" class=\"data row4 col1\" >-0.055963</td>\n",
       "      <td id=\"T_e57c8_row4_col2\" class=\"data row4 col2\" >0.017971</td>\n",
       "      <td id=\"T_e57c8_row4_col3\" class=\"data row4 col3\" >-0.310379</td>\n",
       "      <td id=\"T_e57c8_row4_col4\" class=\"data row4 col4\" >1.000000</td>\n",
       "      <td id=\"T_e57c8_row4_col5\" class=\"data row4 col5\" >-0.002624</td>\n",
       "      <td id=\"T_e57c8_row4_col6\" class=\"data row4 col6\" >0.015832</td>\n",
       "      <td id=\"T_e57c8_row4_col7\" class=\"data row4 col7\" >0.012755</td>\n",
       "      <td id=\"T_e57c8_row4_col8\" class=\"data row4 col8\" >-0.117231</td>\n",
       "    </tr>\n",
       "    <tr>\n",
       "      <th id=\"T_e57c8_level0_row5\" class=\"row_heading level0 row5\" >HasCrCard</th>\n",
       "      <td id=\"T_e57c8_row5_col0\" class=\"data row5 col0\" >0.000098</td>\n",
       "      <td id=\"T_e57c8_row5_col1\" class=\"data row5 col1\" >0.004114</td>\n",
       "      <td id=\"T_e57c8_row5_col2\" class=\"data row5 col2\" >0.022227</td>\n",
       "      <td id=\"T_e57c8_row5_col3\" class=\"data row5 col3\" >-0.003376</td>\n",
       "      <td id=\"T_e57c8_row5_col4\" class=\"data row5 col4\" >-0.002624</td>\n",
       "      <td id=\"T_e57c8_row5_col5\" class=\"data row5 col5\" >1.000000</td>\n",
       "      <td id=\"T_e57c8_row5_col6\" class=\"data row5 col6\" >-0.009708</td>\n",
       "      <td id=\"T_e57c8_row5_col7\" class=\"data row5 col7\" >-0.005103</td>\n",
       "      <td id=\"T_e57c8_row5_col8\" class=\"data row5 col8\" >0.006080</td>\n",
       "    </tr>\n",
       "    <tr>\n",
       "      <th id=\"T_e57c8_level0_row6\" class=\"row_heading level0 row6\" >IsActiveMember</th>\n",
       "      <td id=\"T_e57c8_row6_col0\" class=\"data row6 col0\" >0.027965</td>\n",
       "      <td id=\"T_e57c8_row6_col1\" class=\"data row6 col1\" >0.043716</td>\n",
       "      <td id=\"T_e57c8_row6_col2\" class=\"data row6 col2\" >-0.023151</td>\n",
       "      <td id=\"T_e57c8_row6_col3\" class=\"data row6 col3\" >-0.005624</td>\n",
       "      <td id=\"T_e57c8_row6_col4\" class=\"data row6 col4\" >0.015832</td>\n",
       "      <td id=\"T_e57c8_row6_col5\" class=\"data row6 col5\" >-0.009708</td>\n",
       "      <td id=\"T_e57c8_row6_col6\" class=\"data row6 col6\" >1.000000</td>\n",
       "      <td id=\"T_e57c8_row6_col7\" class=\"data row6 col7\" >-0.003058</td>\n",
       "      <td id=\"T_e57c8_row6_col8\" class=\"data row6 col8\" >-0.146605</td>\n",
       "    </tr>\n",
       "    <tr>\n",
       "      <th id=\"T_e57c8_level0_row7\" class=\"row_heading level0 row7\" >EstimatedSalary</th>\n",
       "      <td id=\"T_e57c8_row7_col0\" class=\"data row7 col0\" >-0.000284</td>\n",
       "      <td id=\"T_e57c8_row7_col1\" class=\"data row7 col1\" >-0.003896</td>\n",
       "      <td id=\"T_e57c8_row7_col2\" class=\"data row7 col2\" >0.014469</td>\n",
       "      <td id=\"T_e57c8_row7_col3\" class=\"data row7 col3\" >0.016952</td>\n",
       "      <td id=\"T_e57c8_row7_col4\" class=\"data row7 col4\" >0.012755</td>\n",
       "      <td id=\"T_e57c8_row7_col5\" class=\"data row7 col5\" >-0.005103</td>\n",
       "      <td id=\"T_e57c8_row7_col6\" class=\"data row7 col6\" >-0.003058</td>\n",
       "      <td id=\"T_e57c8_row7_col7\" class=\"data row7 col7\" >1.000000</td>\n",
       "      <td id=\"T_e57c8_row7_col8\" class=\"data row7 col8\" >0.008461</td>\n",
       "    </tr>\n",
       "    <tr>\n",
       "      <th id=\"T_e57c8_level0_row8\" class=\"row_heading level0 row8\" >Exited</th>\n",
       "      <td id=\"T_e57c8_row8_col0\" class=\"data row8 col0\" >-0.028045</td>\n",
       "      <td id=\"T_e57c8_row8_col1\" class=\"data row8 col1\" >0.318281</td>\n",
       "      <td id=\"T_e57c8_row8_col2\" class=\"data row8 col2\" >-0.013372</td>\n",
       "      <td id=\"T_e57c8_row8_col3\" class=\"data row8 col3\" >0.114544</td>\n",
       "      <td id=\"T_e57c8_row8_col4\" class=\"data row8 col4\" >-0.117231</td>\n",
       "      <td id=\"T_e57c8_row8_col5\" class=\"data row8 col5\" >0.006080</td>\n",
       "      <td id=\"T_e57c8_row8_col6\" class=\"data row8 col6\" >-0.146605</td>\n",
       "      <td id=\"T_e57c8_row8_col7\" class=\"data row8 col7\" >0.008461</td>\n",
       "      <td id=\"T_e57c8_row8_col8\" class=\"data row8 col8\" >1.000000</td>\n",
       "    </tr>\n",
       "  </tbody>\n",
       "</table>\n"
      ],
      "text/plain": [
       "<pandas.io.formats.style.Styler at 0x2bb0cbc9c60>"
      ]
     },
     "execution_count": 11,
     "metadata": {},
     "output_type": "execute_result"
    }
   ],
   "source": [
    "train_df.corr('spearman').style.background_gradient()"
   ]
  },
  {
   "cell_type": "code",
   "execution_count": 12,
   "id": "196d1fc0-4601-4ea5-bd2a-0a2fec33649d",
   "metadata": {},
   "outputs": [
    {
     "data": {
      "image/png": "[encoded data removed]",
      "text/plain": [
       "<Figure size 1000x800 with 1 Axes>"
      ]
     },
     "metadata": {},
     "output_type": "display_data"
    }
   ],
   "source": [
    "feat_corr = train_df.drop(columns='Exited').select_dtypes('number').apply(lambda x: x.corr(train_df.Exited))\n",
    "feat_corr = pd.DataFrame(feat_corr, columns=['correlation']).sort_values(['correlation'], ascending=False)\n",
    "\n",
    "# saving correlation heatmap\n",
    "plt.figure(figsize=(10,8))\n",
    "sns.barplot(x=feat_corr['correlation'], y=feat_corr.index, palette=\"vlag\").set(\n",
    "title=\"Feature Correlation of Numeric Features\", xlabel=\"Feature Correlation\",\n",
    "ylabel=\"Feature Names\")\n",
    "plt.show()"
   ]
  },
  {
   "cell_type": "code",
   "execution_count": null,
   "id": "f4caaafd-faad-452e-8220-1760daa19603",
   "metadata": {},
   "outputs": [],
   "source": []
  },
  {
   "cell_type": "code",
   "execution_count": 13,
   "id": "328232f5-f44c-4e4a-862f-8bc748f3dbb9",
   "metadata": {},
   "outputs": [
    {
     "data": {
      "application/vnd.vegalite.v4+json": {
       "$schema": "https://vega.github.io/schema/vega-lite/v4.17.0.json",
       "columns": 3,
       "concat": [
        {
         "data": {
          "url": "http://localhost:53935/705672c8632511d4b07d63a821f4b8e5.json"
         },
         "title": {
          "anchor": "middle",
          "text": "Geography"
         },
         "vconcat": [
          {
           "encoding": {
            "color": {
             "field": "",
             "title": null,
             "type": "quantitative"
            },
            "row": {
             "field": "Geography",
             "header": {
              "labelAlign": "left",
              "labelAngle": 0,
              "labelPadding": 5
             },
             "title": null,
             "type": "nominal"
            },
            "x": {
             "aggregate": "count",
             "type": "quantitative"
            },
            "y": {
             "axis": {
              "domain": true,
              "labels": false,
              "ticks": false,
              "title": ""
             },
             "field": "",
             "title": null,
             "type": "quantitative"
            }
           },
           "mark": "bar",
           "width": 120
          }
         ]
        },
        {
         "data": {
          "url": "http://localhost:53935/12e191e44621e1d8f3b514844b59291d.json"
         },
         "title": {
          "anchor": "middle",
          "text": "Gender"
         },
         "vconcat": [
          {
           "encoding": {
            "color": {
             "field": "",
             "title": null,
             "type": "quantitative"
            },
            "row": {
             "field": "Gender",
             "header": {
              "labelAlign": "left",
              "labelAngle": 0,
              "labelPadding": 5
             },
             "title": null,
             "type": "nominal"
            },
            "x": {
             "aggregate": "count",
             "type": "quantitative"
            },
            "y": {
             "axis": {
              "domain": true,
              "labels": false,
              "ticks": false,
              "title": ""
             },
             "field": "",
             "title": null,
             "type": "quantitative"
            }
           },
           "mark": "bar",
           "width": 120
          }
         ]
        },
        {
         "data": {
          "url": "http://localhost:53935/a39a96241422528ce9c3506fde7b429a.json"
         },
         "title": {
          "anchor": "middle",
          "text": "Tenure"
         },
         "vconcat": [
          {
           "encoding": {
            "color": {
             "field": "",
             "title": null,
             "type": "quantitative"
            },
            "row": {
             "field": "Tenure",
             "header": {
              "labelAlign": "left",
              "labelAngle": 0,
              "labelPadding": 5
             },
             "title": null,
             "type": "quantitative"
            },
            "x": {
             "aggregate": "count",
             "type": "quantitative"
            },
            "y": {
             "axis": {
              "domain": true,
              "labels": false,
              "ticks": false,
              "title": ""
             },
             "field": "",
             "title": null,
             "type": "quantitative"
            }
           },
           "mark": "bar",
           "width": 120
          }
         ]
        },
        {
         "data": {
          "url": "http://localhost:53935/33bc0b499d14105324d77281532d25b8.json"
         },
         "title": {
          "anchor": "middle",
          "text": "NumOfProducts"
         },
         "vconcat": [
          {
           "encoding": {
            "color": {
             "field": "",
             "title": null,
             "type": "quantitative"
            },
            "row": {
             "field": "NumOfProducts",
             "header": {
              "labelAlign": "left",
              "labelAngle": 0,
              "labelPadding": 5
             },
             "title": null,
             "type": "quantitative"
            },
            "x": {
             "aggregate": "count",
             "type": "quantitative"
            },
            "y": {
             "axis": {
              "domain": true,
              "labels": false,
              "ticks": false,
              "title": ""
             },
             "field": "",
             "title": null,
             "type": "quantitative"
            }
           },
           "mark": "bar",
           "width": 120
          }
         ]
        },
        {
         "data": {
          "url": "http://localhost:53935/4738b822dea2bcce7c4962207928e905.json"
         },
         "title": {
          "anchor": "middle",
          "text": "HasCrCard"
         },
         "vconcat": [
          {
           "encoding": {
            "color": {
             "field": "",
             "title": null,
             "type": "quantitative"
            },
            "row": {
             "field": "HasCrCard",
             "header": {
              "labelAlign": "left",
              "labelAngle": 0,
              "labelPadding": 5
             },
             "title": null,
             "type": "quantitative"
            },
            "x": {
             "aggregate": "count",
             "type": "quantitative"
            },
            "y": {
             "axis": {
              "domain": true,
              "labels": false,
              "ticks": false,
              "title": ""
             },
             "field": "",
             "title": null,
             "type": "quantitative"
            }
           },
           "mark": "bar",
           "width": 120
          }
         ]
        },
        {
         "data": {
          "url": "http://localhost:53935/77bb0d08cb332c0ed9748fb0c170ad9e.json"
         },
         "title": {
          "anchor": "middle",
          "text": "IsActiveMember"
         },
         "vconcat": [
          {
           "encoding": {
            "color": {
             "field": "",
             "title": null,
             "type": "quantitative"
            },
            "row": {
             "field": "IsActiveMember",
             "header": {
              "labelAlign": "left",
              "labelAngle": 0,
              "labelPadding": 5
             },
             "title": null,
             "type": "quantitative"
            },
            "x": {
             "aggregate": "count",
             "type": "quantitative"
            },
            "y": {
             "axis": {
              "domain": true,
              "labels": false,
              "ticks": false,
              "title": ""
             },
             "field": "",
             "title": null,
             "type": "quantitative"
            }
           },
           "mark": "bar",
           "width": 120
          }
         ]
        },
        {
         "data": {
          "url": "http://localhost:53935/7e0e3e35ba18fcda1695f8a305ddb154.json"
         },
         "title": {
          "anchor": "middle",
          "text": "Exited"
         },
         "vconcat": [
          {
           "encoding": {
            "color": {
             "field": "",
             "title": null,
             "type": "quantitative"
            },
            "row": {
             "field": "Exited",
             "header": {
              "labelAlign": "left",
              "labelAngle": 0,
              "labelPadding": 5
             },
             "title": null,
             "type": "quantitative"
            },
            "x": {
             "aggregate": "count",
             "type": "quantitative"
            },
            "y": {
             "axis": {
              "domain": true,
              "labels": false,
              "ticks": false,
              "title": ""
             },
             "field": "",
             "title": null,
             "type": "quantitative"
            }
           },
           "mark": "bar",
           "width": 120
          }
         ]
        }
       ],
       "config": {
        "facet": {
         "spacing": 0
        },
        "scale": {
         "bandPaddingInner": 0.06,
         "bandPaddingOuter": 0.4
        },
        "view": {
         "continuousHeight": 300,
         "continuousWidth": 400,
         "stroke": null
        }
       },
       "resolve": {
        "scale": {
         "y": "independent"
        }
       }
      },
      "image/png": "[encoded data removed]",
      "text/plain": [
       "<VegaLite 4 object>\n",
       "\n",
       "If you see this message, it means the renderer has not been properly enabled\n",
       "for the frontend that you are using. For more information, see\n",
       "https://altair-viz.github.io/user_guide/troubleshooting.html\n"
      ]
     },
     "execution_count": 13,
     "metadata": {},
     "output_type": "execute_result"
    }
   ],
   "source": [
    "aly.dist(train_df[train_df.columns[train_df.nunique() <= 20]].astype('object'), dtype='object').resolve_scale(y='independent')\n"
   ]
  },
  {
   "cell_type": "markdown",
   "id": "ef07fe0b-b73b-4ac7-b387-6beaa0d78f88",
   "metadata": {},
   "source": [
    "- We have very few features (only 10 features).\n",
    "\n",
    "- We have class imbalance and we handle it by using balanced class in modeling. We selected to use macro average f1 as our scoring metric while assigning equal weight to the class (`Exited`).\n",
    "\n",
    "- `Age` & `Exited` have the positive correlation, while `Balance` & `NumOfProducts` have the negative correlation.\n",
    "\n",
    "- We have quite a few outliers in `NumOfProducts`."
   ]
  },
  {
   "cell_type": "code",
   "execution_count": 14,
   "id": "6882ab44-7d0a-4dc1-8b36-e4012359e381",
   "metadata": {},
   "outputs": [
    {
     "data": {
      "application/vnd.vegalite.v4+json": {
       "$schema": "https://vega.github.io/schema/vega-lite/v4.17.0.json",
       "columns": 1,
       "config": {
        "view": {
         "continuousHeight": 300,
         "continuousWidth": 400
        }
       },
       "repeat": [
        "Age",
        "Balance",
        "CreditScore",
        "EstimatedSalary"
       ],
       "spec": {
        "data": {
         "url": "http://localhost:53935/757a22cd9a401f20e492876012c5cc29.json"
        },
        "encoding": {
         "color": {
          "field": "Exited",
          "type": "nominal"
         },
         "x": {
          "field": {
           "repeat": "repeat"
          },
          "type": "quantitative"
         },
         "y": {
          "field": "Exited",
          "type": "nominal"
         }
        },
        "mark": "boxplot"
       }
      },
      "image/png": "[encoded data removed]",
      "text/plain": [
       "<VegaLite 4 object>\n",
       "\n",
       "If you see this message, it means the renderer has not been properly enabled\n",
       "for the frontend that you are using. For more information, see\n",
       "https://altair-viz.github.io/user_guide/troubleshooting.html\n"
      ]
     },
     "execution_count": 14,
     "metadata": {},
     "output_type": "execute_result"
    }
   ],
   "source": [
    "numeric_col = ['Age', 'Balance', 'CreditScore', 'EstimatedSalary']\n",
    "  \n",
    "numeric_boxplot = alt.Chart(train_df).mark_boxplot().encode(\n",
    "    x=alt.X(alt.repeat(), type='quantitative'),\n",
    "    y=alt.Y('Exited:N'),\n",
    "    color='Exited:N'\n",
    ").repeat(repeat=numeric_col, columns=1)\n",
    "\n",
    "\n",
    "numeric_boxplot"
   ]
  },
  {
   "cell_type": "markdown",
   "id": "5fa0567a-b0db-4ab7-b8b3-24d1650350ec",
   "metadata": {},
   "source": [
    "- The feature ranges are very different (`Age`, `Balance`, `CreditScore`, `EstimatedSalary`), standardization is needed.\n",
    "\n",
    "- `Age` shows different quantile value with quit a number of outliers in the staying customer class, and a few in the exiting customer class.\n",
    "\n",
    "- The exited customer have higher mean `Balance` than the stayed customer.\n",
    "\n",
    "- Both `CreditScore` and `EstimatedSalary` have similar quantile value in both classes (they are in different scale)."
   ]
  },
  {
   "cell_type": "code",
   "execution_count": 15,
   "id": "98bb589a-3694-4f7f-8989-42809f4a916a",
   "metadata": {},
   "outputs": [
    {
     "data": {
      "application/vnd.vegalite.v4+json": {
       "$schema": "https://vega.github.io/schema/vega-lite/v4.17.0.json",
       "config": {
        "view": {
         "continuousHeight": 300,
         "continuousWidth": 400
        }
       },
       "data": {
        "url": "http://localhost:53935/757a22cd9a401f20e492876012c5cc29.json"
       },
       "facet": {
        "field": "Gender",
        "type": "nominal"
       },
       "spec": {
        "encoding": {
         "color": {
          "field": "Exited",
          "type": "nominal"
         },
         "tooltip": {
          "field": "Age",
          "type": "quantitative"
         },
         "x": {
          "field": "Age",
          "type": "quantitative"
         },
         "y": {
          "field": "density",
          "type": "quantitative"
         }
        },
        "mark": "line",
        "transform": [
         {
          "as": [
           "Age",
           "density"
          ],
          "counts": true,
          "density": "Age",
          "groupby": [
           "Exited",
           "Gender"
          ]
         }
        ]
       },
       "title": "Age Density Plot by Gender & Exited"
      },
      "image/png": "[encoded data removed]",
      "text/plain": [
       "<VegaLite 4 object>\n",
       "\n",
       "If you see this message, it means the renderer has not been properly enabled\n",
       "for the frontend that you are using. For more information, see\n",
       "https://altair-viz.github.io/user_guide/troubleshooting.html\n"
      ]
     },
     "execution_count": 15,
     "metadata": {},
     "output_type": "execute_result"
    }
   ],
   "source": [
    "gender_density = (alt.Chart(train_df)\n",
    " .transform_density(\n",
    "     'Age',\n",
    "     groupby=['Exited','Gender'],\n",
    "     as_=['Age', 'density'],\n",
    "     counts=True,\n",
    " )\n",
    " .mark_line().encode(\n",
    "     x='Age',\n",
    "     y='density:Q',\n",
    "     color='Exited:N',\n",
    " tooltip='Age')\n",
    " .facet('Gender',\n",
    "       title=\"Age Density Plot by Gender & Exited\"\n",
    "       )\n",
    ")\n",
    "\n",
    "gender_density"
   ]
  },
  {
   "cell_type": "markdown",
   "id": "d123cdac-2ee7-485e-b35a-f15d595791bc",
   "metadata": {},
   "source": [
    "- The age distribution of male & female is similar for both classes (stayed customer have lower age mean & exited customer have higher age mean)"
   ]
  },
  {
   "cell_type": "markdown",
   "id": "8e638a67-8bac-49ff-aa97-caa070dcb1cb",
   "metadata": {},
   "source": [
    "# 4. Preprocessing and transformations"
   ]
  },
  {
   "cell_type": "code",
   "execution_count": 16,
   "id": "703938b1-5b92-463e-85c3-b983e2f96d3d",
   "metadata": {},
   "outputs": [],
   "source": [
    "X_train, y_train = train_df.drop(columns=[\"Exited\"]), train_df[\"Exited\"]\n",
    "X_test, y_test = test_df.drop(columns=[\"Exited\"]), test_df[\"Exited\"]\n"
   ]
  },
  {
   "cell_type": "code",
   "execution_count": 17,
   "id": "77adace2-e1e3-4535-b3dc-8115ce8fae62",
   "metadata": {},
   "outputs": [
    {
     "data": {
      "text/plain": [
       "Index(['CreditScore', 'Geography', 'Gender', 'Age', 'Tenure', 'Balance',\n",
       "       'NumOfProducts', 'HasCrCard', 'IsActiveMember', 'EstimatedSalary'],\n",
       "      dtype='object')"
      ]
     },
     "execution_count": 17,
     "metadata": {},
     "output_type": "execute_result"
    }
   ],
   "source": [
    "X_train.columns"
   ]
  },
  {
   "cell_type": "code",
   "execution_count": 18,
   "id": "a02ac592-0f6e-4bf2-be3b-fc85c0b058cf",
   "metadata": {},
   "outputs": [
    {
     "data": {
      "text/html": [
       "<style>#sk-container-id-1 {color: black;background-color: white;}#sk-container-id-1 pre{padding: 0;}#sk-container-id-1 div.sk-toggleable {background-color: white;}#sk-container-id-1 label.sk-toggleable__label {cursor: pointer;display: block;width: 100%;margin-bottom: 0;padding: 0.3em;box-sizing: border-box;text-align: center;}#sk-container-id-1 label.sk-toggleable__label-arrow:before {content: \"▸\";float: left;margin-right: 0.25em;color: #696969;}#sk-container-id-1 label.sk-toggleable__label-arrow:hover:before {color: black;}#sk-container-id-1 div.sk-estimator:hover label.sk-toggleable__label-arrow:before {color: black;}#sk-container-id-1 div.sk-toggleable__content {max-height: 0;max-width: 0;overflow: hidden;text-align: left;background-color: #f0f8ff;}#sk-container-id-1 div.sk-toggleable__content pre {margin: 0.2em;color: black;border-radius: 0.25em;background-color: #f0f8ff;}#sk-container-id-1 input.sk-toggleable__control:checked~div.sk-toggleable__content {max-height: 200px;max-width: 100%;overflow: auto;}#sk-container-id-1 input.sk-toggleable__control:checked~label.sk-toggleable__label-arrow:before {content: \"▾\";}#sk-container-id-1 div.sk-estimator input.sk-toggleable__control:checked~label.sk-toggleable__label {background-color: #d4ebff;}#sk-container-id-1 div.sk-label input.sk-toggleable__control:checked~label.sk-toggleable__label {background-color: #d4ebff;}#sk-container-id-1 input.sk-hidden--visually {border: 0;clip: rect(1px 1px 1px 1px);clip: rect(1px, 1px, 1px, 1px);height: 1px;margin: -1px;overflow: hidden;padding: 0;position: absolute;width: 1px;}#sk-container-id-1 div.sk-estimator {font-family: monospace;background-color: #f0f8ff;border: 1px dotted black;border-radius: 0.25em;box-sizing: border-box;margin-bottom: 0.5em;}#sk-container-id-1 div.sk-estimator:hover {background-color: #d4ebff;}#sk-container-id-1 div.sk-parallel-item::after {content: \"\";width: 100%;border-bottom: 1px solid gray;flex-grow: 1;}#sk-container-id-1 div.sk-label:hover label.sk-toggleable__label {background-color: #d4ebff;}#sk-container-id-1 div.sk-serial::before {content: \"\";position: absolute;border-left: 1px solid gray;box-sizing: border-box;top: 0;bottom: 0;left: 50%;z-index: 0;}#sk-container-id-1 div.sk-serial {display: flex;flex-direction: column;align-items: center;background-color: white;padding-right: 0.2em;padding-left: 0.2em;position: relative;}#sk-container-id-1 div.sk-item {position: relative;z-index: 1;}#sk-container-id-1 div.sk-parallel {display: flex;align-items: stretch;justify-content: center;background-color: white;position: relative;}#sk-container-id-1 div.sk-item::before, #sk-container-id-1 div.sk-parallel-item::before {content: \"\";position: absolute;border-left: 1px solid gray;box-sizing: border-box;top: 0;bottom: 0;left: 50%;z-index: -1;}#sk-container-id-1 div.sk-parallel-item {display: flex;flex-direction: column;z-index: 1;position: relative;background-color: white;}#sk-container-id-1 div.sk-parallel-item:first-child::after {align-self: flex-end;width: 50%;}#sk-container-id-1 div.sk-parallel-item:last-child::after {align-self: flex-start;width: 50%;}#sk-container-id-1 div.sk-parallel-item:only-child::after {width: 0;}#sk-container-id-1 div.sk-dashed-wrapped {border: 1px dashed gray;margin: 0 0.4em 0.5em 0.4em;box-sizing: border-box;padding-bottom: 0.4em;background-color: white;}#sk-container-id-1 div.sk-label label {font-family: monospace;font-weight: bold;display: inline-block;line-height: 1.2em;}#sk-container-id-1 div.sk-label-container {text-align: center;}#sk-container-id-1 div.sk-container {/* jupyter's `normalize.less` sets `[hidden] { display: none; }` but bootstrap.min.css set `[hidden] { display: none !important; }` so we also need the `!important` here to be able to override the default hidden behavior on the sphinx rendered scikit-learn.org. See: https://github.com/scikit-learn/scikit-learn/issues/21755 */display: inline-block !important;position: relative;}#sk-container-id-1 div.sk-text-repr-fallback {display: none;}</style><div id=\"sk-container-id-1\" class=\"sk-top-container\"><div class=\"sk-text-repr-fallback\"><pre>ColumnTransformer(transformers=[(&#x27;standardscaler&#x27;, StandardScaler(),\n",
       "                                 [&#x27;CreditScore&#x27;, &#x27;Age&#x27;, &#x27;Tenure&#x27;, &#x27;Balance&#x27;,\n",
       "                                  &#x27;NumOfProducts&#x27;, &#x27;EstimatedSalary&#x27;]),\n",
       "                                (&#x27;onehotencoder-1&#x27;,\n",
       "                                 OneHotEncoder(handle_unknown=&#x27;ignore&#x27;,\n",
       "                                               sparse=False),\n",
       "                                 [&#x27;Geography&#x27;]),\n",
       "                                (&#x27;onehotencoder-2&#x27;,\n",
       "                                 OneHotEncoder(drop=&#x27;if_binary&#x27;,\n",
       "                                               dtype=&lt;class &#x27;int&#x27;&gt;),\n",
       "                                 [&#x27;Gender&#x27;, &#x27;HasCrCard&#x27;, &#x27;IsActiveMember&#x27;])])</pre><b>In a Jupyter environment, please rerun this cell to show the HTML representation or trust the notebook. <br />On GitHub, the HTML representation is unable to render, please try loading this page with nbviewer.org.</b></div><div class=\"sk-container\" hidden><div class=\"sk-item sk-dashed-wrapped\"><div class=\"sk-label-container\"><div class=\"sk-label sk-toggleable\"><input class=\"sk-toggleable__control sk-hidden--visually\" id=\"sk-estimator-id-1\" type=\"checkbox\" ><label for=\"sk-estimator-id-1\" class=\"sk-toggleable__label sk-toggleable__label-arrow\">ColumnTransformer</label><div class=\"sk-toggleable__content\"><pre>ColumnTransformer(transformers=[(&#x27;standardscaler&#x27;, StandardScaler(),\n",
       "                                 [&#x27;CreditScore&#x27;, &#x27;Age&#x27;, &#x27;Tenure&#x27;, &#x27;Balance&#x27;,\n",
       "                                  &#x27;NumOfProducts&#x27;, &#x27;EstimatedSalary&#x27;]),\n",
       "                                (&#x27;onehotencoder-1&#x27;,\n",
       "                                 OneHotEncoder(handle_unknown=&#x27;ignore&#x27;,\n",
       "                                               sparse=False),\n",
       "                                 [&#x27;Geography&#x27;]),\n",
       "                                (&#x27;onehotencoder-2&#x27;,\n",
       "                                 OneHotEncoder(drop=&#x27;if_binary&#x27;,\n",
       "                                               dtype=&lt;class &#x27;int&#x27;&gt;),\n",
       "                                 [&#x27;Gender&#x27;, &#x27;HasCrCard&#x27;, &#x27;IsActiveMember&#x27;])])</pre></div></div></div><div class=\"sk-parallel\"><div class=\"sk-parallel-item\"><div class=\"sk-item\"><div class=\"sk-label-container\"><div class=\"sk-label sk-toggleable\"><input class=\"sk-toggleable__control sk-hidden--visually\" id=\"sk-estimator-id-2\" type=\"checkbox\" ><label for=\"sk-estimator-id-2\" class=\"sk-toggleable__label sk-toggleable__label-arrow\">standardscaler</label><div class=\"sk-toggleable__content\"><pre>[&#x27;CreditScore&#x27;, &#x27;Age&#x27;, &#x27;Tenure&#x27;, &#x27;Balance&#x27;, &#x27;NumOfProducts&#x27;, &#x27;EstimatedSalary&#x27;]</pre></div></div></div><div class=\"sk-serial\"><div class=\"sk-item\"><div class=\"sk-estimator sk-toggleable\"><input class=\"sk-toggleable__control sk-hidden--visually\" id=\"sk-estimator-id-3\" type=\"checkbox\" ><label for=\"sk-estimator-id-3\" class=\"sk-toggleable__label sk-toggleable__label-arrow\">StandardScaler</label><div class=\"sk-toggleable__content\"><pre>StandardScaler()</pre></div></div></div></div></div></div><div class=\"sk-parallel-item\"><div class=\"sk-item\"><div class=\"sk-label-container\"><div class=\"sk-label sk-toggleable\"><input class=\"sk-toggleable__control sk-hidden--visually\" id=\"sk-estimator-id-4\" type=\"checkbox\" ><label for=\"sk-estimator-id-4\" class=\"sk-toggleable__label sk-toggleable__label-arrow\">onehotencoder-1</label><div class=\"sk-toggleable__content\"><pre>[&#x27;Geography&#x27;]</pre></div></div></div><div class=\"sk-serial\"><div class=\"sk-item\"><div class=\"sk-estimator sk-toggleable\"><input class=\"sk-toggleable__control sk-hidden--visually\" id=\"sk-estimator-id-5\" type=\"checkbox\" ><label for=\"sk-estimator-id-5\" class=\"sk-toggleable__label sk-toggleable__label-arrow\">OneHotEncoder</label><div class=\"sk-toggleable__content\"><pre>OneHotEncoder(handle_unknown=&#x27;ignore&#x27;, sparse=False)</pre></div></div></div></div></div></div><div class=\"sk-parallel-item\"><div class=\"sk-item\"><div class=\"sk-label-container\"><div class=\"sk-label sk-toggleable\"><input class=\"sk-toggleable__control sk-hidden--visually\" id=\"sk-estimator-id-6\" type=\"checkbox\" ><label for=\"sk-estimator-id-6\" class=\"sk-toggleable__label sk-toggleable__label-arrow\">onehotencoder-2</label><div class=\"sk-toggleable__content\"><pre>[&#x27;Gender&#x27;, &#x27;HasCrCard&#x27;, &#x27;IsActiveMember&#x27;]</pre></div></div></div><div class=\"sk-serial\"><div class=\"sk-item\"><div class=\"sk-estimator sk-toggleable\"><input class=\"sk-toggleable__control sk-hidden--visually\" id=\"sk-estimator-id-7\" type=\"checkbox\" ><label for=\"sk-estimator-id-7\" class=\"sk-toggleable__label sk-toggleable__label-arrow\">OneHotEncoder</label><div class=\"sk-toggleable__content\"><pre>OneHotEncoder(drop=&#x27;if_binary&#x27;, dtype=&lt;class &#x27;int&#x27;&gt;)</pre></div></div></div></div></div></div></div></div></div></div>"
      ],
      "text/plain": [
       "ColumnTransformer(transformers=[('standardscaler', StandardScaler(),\n",
       "                                 ['CreditScore', 'Age', 'Tenure', 'Balance',\n",
       "                                  'NumOfProducts', 'EstimatedSalary']),\n",
       "                                ('onehotencoder-1',\n",
       "                                 OneHotEncoder(handle_unknown='ignore',\n",
       "                                               sparse=False),\n",
       "                                 ['Geography']),\n",
       "                                ('onehotencoder-2',\n",
       "                                 OneHotEncoder(drop='if_binary',\n",
       "                                               dtype=<class 'int'>),\n",
       "                                 ['Gender', 'HasCrCard', 'IsActiveMember'])])"
      ]
     },
     "execution_count": 18,
     "metadata": {},
     "output_type": "execute_result"
    }
   ],
   "source": [
    "binary_features = ['Gender', 'HasCrCard', 'IsActiveMember']\n",
    "categorical_features = ['Geography']\n",
    "numeric_features = ['CreditScore', 'Age', 'Tenure', 'Balance','NumOfProducts', 'EstimatedSalary']\n",
    "preprocessor = make_column_transformer(\n",
    "    (StandardScaler(), numeric_features),\n",
    "    (OneHotEncoder(handle_unknown=\"ignore\", sparse=False), categorical_features),\n",
    "    (OneHotEncoder(drop=\"if_binary\", dtype=int), binary_features)\n",
    ")\n",
    "preprocessor.fit_transform(X_train, y_train)\n",
    "preprocessor"
   ]
  },
  {
   "cell_type": "markdown",
   "id": "7d6c8b31-f74c-4eab-af58-51a019992e49",
   "metadata": {},
   "source": [
    "# 5. Define score comparison method"
   ]
  },
  {
   "cell_type": "code",
   "execution_count": 19,
   "id": "98e19fe4-1ff9-4777-9522-d7ecd92d90a2",
   "metadata": {},
   "outputs": [],
   "source": [
    "def mean_std_cross_val_scores(model, X_train, y_train, **kwargs):\n",
    "    \"\"\"\n",
    "    Returns mean and std of cross validation\n",
    "\n",
    "    Parameters\n",
    "    ----------\n",
    "    model :\n",
    "        scikit-learn model\n",
    "    X_train : numpy array or pandas DataFrame\n",
    "        X in the training data\n",
    "    y_train :\n",
    "        y in the training data\n",
    "\n",
    "    Returns\n",
    "    ----------\n",
    "        pandas Series with mean scores from cross_validation\n",
    "    \"\"\"\n",
    "\n",
    "    scores = cross_validate(model, X_train, y_train, **kwargs)\n",
    "\n",
    "    mean_scores = pd.DataFrame(scores).mean()\n",
    "    std_scores = pd.DataFrame(scores).std()\n",
    "    out_col = []\n",
    "\n",
    "    for i in range(len(mean_scores)):\n",
    "        out_col.append((f\"%0.3f (+/- %0.3f)\" % (mean_scores[i], std_scores[i])))\n",
    "\n",
    "    return pd.Series(data=out_col, index=mean_scores.index)\n",
    "\n",
    "results = {}"
   ]
  },
  {
   "cell_type": "markdown",
   "id": "36917d1e-9a19-4d54-b32e-632aec7d76c8",
   "metadata": {},
   "source": [
    "# 6. Baseline model"
   ]
  },
  {
   "cell_type": "code",
   "execution_count": 20,
   "id": "bb05db7a-366e-4c06-9371-b3d058e51471",
   "metadata": {},
   "outputs": [
    {
     "data": {
      "text/html": [
       "<div>\n",
       "<style scoped>\n",
       "    .dataframe tbody tr th:only-of-type {\n",
       "        vertical-align: middle;\n",
       "    }\n",
       "\n",
       "    .dataframe tbody tr th {\n",
       "        vertical-align: top;\n",
       "    }\n",
       "\n",
       "    .dataframe thead th {\n",
       "        text-align: right;\n",
       "    }\n",
       "</style>\n",
       "<table border=\"1\" class=\"dataframe\">\n",
       "  <thead>\n",
       "    <tr style=\"text-align: right;\">\n",
       "      <th></th>\n",
       "      <th>dummy</th>\n",
       "    </tr>\n",
       "  </thead>\n",
       "  <tbody>\n",
       "    <tr>\n",
       "      <th>fit_time</th>\n",
       "      <td>0.001 (+/- 0.001)</td>\n",
       "    </tr>\n",
       "    <tr>\n",
       "      <th>score_time</th>\n",
       "      <td>0.001 (+/- 0.001)</td>\n",
       "    </tr>\n",
       "    <tr>\n",
       "      <th>test_score</th>\n",
       "      <td>0.498 (+/- 0.012)</td>\n",
       "    </tr>\n",
       "    <tr>\n",
       "      <th>train_score</th>\n",
       "      <td>0.502 (+/- 0.009)</td>\n",
       "    </tr>\n",
       "  </tbody>\n",
       "</table>\n",
       "</div>"
      ],
      "text/plain": [
       "                         dummy\n",
       "fit_time     0.001 (+/- 0.001)\n",
       "score_time   0.001 (+/- 0.001)\n",
       "test_score   0.498 (+/- 0.012)\n",
       "train_score  0.502 (+/- 0.009)"
      ]
     },
     "execution_count": 20,
     "metadata": {},
     "output_type": "execute_result"
    }
   ],
   "source": [
    "dummy = DummyClassifier(strategy=\"stratified\")\n",
    "results[\"dummy\"] = mean_std_cross_val_scores(\n",
    "    dummy, X_train, y_train, return_train_score=True, scoring=scoring_metric\n",
    ")\n",
    "pd.DataFrame(results)"
   ]
  },
  {
   "cell_type": "markdown",
   "id": "06beaec6-7263-435f-bde9-29cae74c2d08",
   "metadata": {},
   "source": [
    "# 7. Linear models\n",
    "\n",
    "- Try a linear model as a first real attempt.\n",
    "\n",
    "- Carry out hyperparameter tuning to explore different values for the regularization hyperparameter."
   ]
  },
  {
   "cell_type": "markdown",
   "id": "093b02b1-d9f8-4339-b56a-63c34d3651ab",
   "metadata": {},
   "source": [
    "## 7.1 Try Linear Model"
   ]
  },
  {
   "cell_type": "code",
   "execution_count": 21,
   "id": "b39919e6-a2a1-41e8-86d5-7179f1793dd8",
   "metadata": {},
   "outputs": [
    {
     "data": {
      "text/html": [
       "<div>\n",
       "<style scoped>\n",
       "    .dataframe tbody tr th:only-of-type {\n",
       "        vertical-align: middle;\n",
       "    }\n",
       "\n",
       "    .dataframe tbody tr th {\n",
       "        vertical-align: top;\n",
       "    }\n",
       "\n",
       "    .dataframe thead th {\n",
       "        text-align: right;\n",
       "    }\n",
       "</style>\n",
       "<table border=\"1\" class=\"dataframe\">\n",
       "  <thead>\n",
       "    <tr style=\"text-align: right;\">\n",
       "      <th></th>\n",
       "      <th>dummy</th>\n",
       "      <th>logreg</th>\n",
       "    </tr>\n",
       "  </thead>\n",
       "  <tbody>\n",
       "    <tr>\n",
       "      <th>fit_time</th>\n",
       "      <td>0.001 (+/- 0.001)</td>\n",
       "      <td>0.022 (+/- 0.004)</td>\n",
       "    </tr>\n",
       "    <tr>\n",
       "      <th>score_time</th>\n",
       "      <td>0.001 (+/- 0.001)</td>\n",
       "      <td>0.005 (+/- 0.001)</td>\n",
       "    </tr>\n",
       "    <tr>\n",
       "      <th>test_score</th>\n",
       "      <td>0.498 (+/- 0.012)</td>\n",
       "      <td>0.644 (+/- 0.016)</td>\n",
       "    </tr>\n",
       "    <tr>\n",
       "      <th>train_score</th>\n",
       "      <td>0.502 (+/- 0.009)</td>\n",
       "      <td>0.645 (+/- 0.004)</td>\n",
       "    </tr>\n",
       "  </tbody>\n",
       "</table>\n",
       "</div>"
      ],
      "text/plain": [
       "                         dummy             logreg\n",
       "fit_time     0.001 (+/- 0.001)  0.022 (+/- 0.004)\n",
       "score_time   0.001 (+/- 0.001)  0.005 (+/- 0.001)\n",
       "test_score   0.498 (+/- 0.012)  0.644 (+/- 0.016)\n",
       "train_score  0.502 (+/- 0.009)  0.645 (+/- 0.004)"
      ]
     },
     "execution_count": 21,
     "metadata": {},
     "output_type": "execute_result"
    }
   ],
   "source": [
    "pipe_lr = make_pipeline(\n",
    "    preprocessor, LogisticRegression(max_iter=1000, class_weight=\"balanced\")\n",
    ")\n",
    "results[\"logreg\"] = mean_std_cross_val_scores(\n",
    "    pipe_lr, X_train, y_train, return_train_score=True, scoring=scoring_metric\n",
    ")\n",
    "pd.DataFrame(results)"
   ]
  },
  {
   "cell_type": "markdown",
   "id": "e025c48e-d1b2-40b2-9b56-8b459bfdb8cf",
   "metadata": {},
   "source": [
    "## 7.2 Hyperparameter for linear model (regularization)"
   ]
  },
  {
   "cell_type": "code",
   "execution_count": 22,
   "id": "0ab1b5e5-4689-4df1-b17e-eae2c524935b",
   "metadata": {},
   "outputs": [
    {
     "name": "stdout",
     "output_type": "stream",
     "text": [
      "Fitting 5 folds for each of 50 candidates, totalling 250 fits\n"
     ]
    },
    {
     "data": {
      "text/html": [
       "<style>#sk-container-id-2 {color: black;background-color: white;}#sk-container-id-2 pre{padding: 0;}#sk-container-id-2 div.sk-toggleable {background-color: white;}#sk-container-id-2 label.sk-toggleable__label {cursor: pointer;display: block;width: 100%;margin-bottom: 0;padding: 0.3em;box-sizing: border-box;text-align: center;}#sk-container-id-2 label.sk-toggleable__label-arrow:before {content: \"▸\";float: left;margin-right: 0.25em;color: #696969;}#sk-container-id-2 label.sk-toggleable__label-arrow:hover:before {color: black;}#sk-container-id-2 div.sk-estimator:hover label.sk-toggleable__label-arrow:before {color: black;}#sk-container-id-2 div.sk-toggleable__content {max-height: 0;max-width: 0;overflow: hidden;text-align: left;background-color: #f0f8ff;}#sk-container-id-2 div.sk-toggleable__content pre {margin: 0.2em;color: black;border-radius: 0.25em;background-color: #f0f8ff;}#sk-container-id-2 input.sk-toggleable__control:checked~div.sk-toggleable__content {max-height: 200px;max-width: 100%;overflow: auto;}#sk-container-id-2 input.sk-toggleable__control:checked~label.sk-toggleable__label-arrow:before {content: \"▾\";}#sk-container-id-2 div.sk-estimator input.sk-toggleable__control:checked~label.sk-toggleable__label {background-color: #d4ebff;}#sk-container-id-2 div.sk-label input.sk-toggleable__control:checked~label.sk-toggleable__label {background-color: #d4ebff;}#sk-container-id-2 input.sk-hidden--visually {border: 0;clip: rect(1px 1px 1px 1px);clip: rect(1px, 1px, 1px, 1px);height: 1px;margin: -1px;overflow: hidden;padding: 0;position: absolute;width: 1px;}#sk-container-id-2 div.sk-estimator {font-family: monospace;background-color: #f0f8ff;border: 1px dotted black;border-radius: 0.25em;box-sizing: border-box;margin-bottom: 0.5em;}#sk-container-id-2 div.sk-estimator:hover {background-color: #d4ebff;}#sk-container-id-2 div.sk-parallel-item::after {content: \"\";width: 100%;border-bottom: 1px solid gray;flex-grow: 1;}#sk-container-id-2 div.sk-label:hover label.sk-toggleable__label {background-color: #d4ebff;}#sk-container-id-2 div.sk-serial::before {content: \"\";position: absolute;border-left: 1px solid gray;box-sizing: border-box;top: 0;bottom: 0;left: 50%;z-index: 0;}#sk-container-id-2 div.sk-serial {display: flex;flex-direction: column;align-items: center;background-color: white;padding-right: 0.2em;padding-left: 0.2em;position: relative;}#sk-container-id-2 div.sk-item {position: relative;z-index: 1;}#sk-container-id-2 div.sk-parallel {display: flex;align-items: stretch;justify-content: center;background-color: white;position: relative;}#sk-container-id-2 div.sk-item::before, #sk-container-id-2 div.sk-parallel-item::before {content: \"\";position: absolute;border-left: 1px solid gray;box-sizing: border-box;top: 0;bottom: 0;left: 50%;z-index: -1;}#sk-container-id-2 div.sk-parallel-item {display: flex;flex-direction: column;z-index: 1;position: relative;background-color: white;}#sk-container-id-2 div.sk-parallel-item:first-child::after {align-self: flex-end;width: 50%;}#sk-container-id-2 div.sk-parallel-item:last-child::after {align-self: flex-start;width: 50%;}#sk-container-id-2 div.sk-parallel-item:only-child::after {width: 0;}#sk-container-id-2 div.sk-dashed-wrapped {border: 1px dashed gray;margin: 0 0.4em 0.5em 0.4em;box-sizing: border-box;padding-bottom: 0.4em;background-color: white;}#sk-container-id-2 div.sk-label label {font-family: monospace;font-weight: bold;display: inline-block;line-height: 1.2em;}#sk-container-id-2 div.sk-label-container {text-align: center;}#sk-container-id-2 div.sk-container {/* jupyter's `normalize.less` sets `[hidden] { display: none; }` but bootstrap.min.css set `[hidden] { display: none !important; }` so we also need the `!important` here to be able to override the default hidden behavior on the sphinx rendered scikit-learn.org. See: https://github.com/scikit-learn/scikit-learn/issues/21755 */display: inline-block !important;position: relative;}#sk-container-id-2 div.sk-text-repr-fallback {display: none;}</style><div id=\"sk-container-id-2\" class=\"sk-top-container\"><div class=\"sk-text-repr-fallback\"><pre>RandomizedSearchCV(estimator=Pipeline(steps=[(&#x27;columntransformer&#x27;,\n",
       "                                              ColumnTransformer(transformers=[(&#x27;standardscaler&#x27;,\n",
       "                                                                               StandardScaler(),\n",
       "                                                                               [&#x27;CreditScore&#x27;,\n",
       "                                                                                &#x27;Age&#x27;,\n",
       "                                                                                &#x27;Tenure&#x27;,\n",
       "                                                                                &#x27;Balance&#x27;,\n",
       "                                                                                &#x27;NumOfProducts&#x27;,\n",
       "                                                                                &#x27;EstimatedSalary&#x27;]),\n",
       "                                                                              (&#x27;onehotencoder-1&#x27;,\n",
       "                                                                               OneHotEncoder(handle_unknown=&#x27;ignore&#x27;,\n",
       "                                                                                             sparse=False),\n",
       "                                                                               [&#x27;Geography&#x27;]),\n",
       "                                                                              (&#x27;onehotencoder-2&#x27;,\n",
       "                                                                               OneHotEncoder(drop=&#x27;if_binary&#x27;,\n",
       "                                                                                             dtype...\n",
       "                                                                                &#x27;HasCrCard&#x27;,\n",
       "                                                                                &#x27;IsActiveMember&#x27;])])),\n",
       "                                             (&#x27;logisticregression&#x27;,\n",
       "                                              LogisticRegression(class_weight=&#x27;balanced&#x27;,\n",
       "                                                                 max_iter=1000))]),\n",
       "                   n_iter=50,\n",
       "                   param_distributions={&#x27;logisticregression__C&#x27;: &lt;scipy.stats._distn_infrastructure.rv_continuous_frozen object at 0x000002BB0CC77DF0&gt;},\n",
       "                   random_state=123, return_train_score=True,\n",
       "                   scoring=make_scorer(f1_score, average=macro), verbose=1)</pre><b>In a Jupyter environment, please rerun this cell to show the HTML representation or trust the notebook. <br />On GitHub, the HTML representation is unable to render, please try loading this page with nbviewer.org.</b></div><div class=\"sk-container\" hidden><div class=\"sk-item sk-dashed-wrapped\"><div class=\"sk-label-container\"><div class=\"sk-label sk-toggleable\"><input class=\"sk-toggleable__control sk-hidden--visually\" id=\"sk-estimator-id-8\" type=\"checkbox\" ><label for=\"sk-estimator-id-8\" class=\"sk-toggleable__label sk-toggleable__label-arrow\">RandomizedSearchCV</label><div class=\"sk-toggleable__content\"><pre>RandomizedSearchCV(estimator=Pipeline(steps=[(&#x27;columntransformer&#x27;,\n",
       "                                              ColumnTransformer(transformers=[(&#x27;standardscaler&#x27;,\n",
       "                                                                               StandardScaler(),\n",
       "                                                                               [&#x27;CreditScore&#x27;,\n",
       "                                                                                &#x27;Age&#x27;,\n",
       "                                                                                &#x27;Tenure&#x27;,\n",
       "                                                                                &#x27;Balance&#x27;,\n",
       "                                                                                &#x27;NumOfProducts&#x27;,\n",
       "                                                                                &#x27;EstimatedSalary&#x27;]),\n",
       "                                                                              (&#x27;onehotencoder-1&#x27;,\n",
       "                                                                               OneHotEncoder(handle_unknown=&#x27;ignore&#x27;,\n",
       "                                                                                             sparse=False),\n",
       "                                                                               [&#x27;Geography&#x27;]),\n",
       "                                                                              (&#x27;onehotencoder-2&#x27;,\n",
       "                                                                               OneHotEncoder(drop=&#x27;if_binary&#x27;,\n",
       "                                                                                             dtype...\n",
       "                                                                                &#x27;HasCrCard&#x27;,\n",
       "                                                                                &#x27;IsActiveMember&#x27;])])),\n",
       "                                             (&#x27;logisticregression&#x27;,\n",
       "                                              LogisticRegression(class_weight=&#x27;balanced&#x27;,\n",
       "                                                                 max_iter=1000))]),\n",
       "                   n_iter=50,\n",
       "                   param_distributions={&#x27;logisticregression__C&#x27;: &lt;scipy.stats._distn_infrastructure.rv_continuous_frozen object at 0x000002BB0CC77DF0&gt;},\n",
       "                   random_state=123, return_train_score=True,\n",
       "                   scoring=make_scorer(f1_score, average=macro), verbose=1)</pre></div></div></div><div class=\"sk-parallel\"><div class=\"sk-parallel-item\"><div class=\"sk-item\"><div class=\"sk-label-container\"><div class=\"sk-label sk-toggleable\"><input class=\"sk-toggleable__control sk-hidden--visually\" id=\"sk-estimator-id-9\" type=\"checkbox\" ><label for=\"sk-estimator-id-9\" class=\"sk-toggleable__label sk-toggleable__label-arrow\">estimator: Pipeline</label><div class=\"sk-toggleable__content\"><pre>Pipeline(steps=[(&#x27;columntransformer&#x27;,\n",
       "                 ColumnTransformer(transformers=[(&#x27;standardscaler&#x27;,\n",
       "                                                  StandardScaler(),\n",
       "                                                  [&#x27;CreditScore&#x27;, &#x27;Age&#x27;,\n",
       "                                                   &#x27;Tenure&#x27;, &#x27;Balance&#x27;,\n",
       "                                                   &#x27;NumOfProducts&#x27;,\n",
       "                                                   &#x27;EstimatedSalary&#x27;]),\n",
       "                                                 (&#x27;onehotencoder-1&#x27;,\n",
       "                                                  OneHotEncoder(handle_unknown=&#x27;ignore&#x27;,\n",
       "                                                                sparse=False),\n",
       "                                                  [&#x27;Geography&#x27;]),\n",
       "                                                 (&#x27;onehotencoder-2&#x27;,\n",
       "                                                  OneHotEncoder(drop=&#x27;if_binary&#x27;,\n",
       "                                                                dtype=&lt;class &#x27;int&#x27;&gt;),\n",
       "                                                  [&#x27;Gender&#x27;, &#x27;HasCrCard&#x27;,\n",
       "                                                   &#x27;IsActiveMember&#x27;])])),\n",
       "                (&#x27;logisticregression&#x27;,\n",
       "                 LogisticRegression(class_weight=&#x27;balanced&#x27;, max_iter=1000))])</pre></div></div></div><div class=\"sk-serial\"><div class=\"sk-item\"><div class=\"sk-serial\"><div class=\"sk-item sk-dashed-wrapped\"><div class=\"sk-label-container\"><div class=\"sk-label sk-toggleable\"><input class=\"sk-toggleable__control sk-hidden--visually\" id=\"sk-estimator-id-10\" type=\"checkbox\" ><label for=\"sk-estimator-id-10\" class=\"sk-toggleable__label sk-toggleable__label-arrow\">columntransformer: ColumnTransformer</label><div class=\"sk-toggleable__content\"><pre>ColumnTransformer(transformers=[(&#x27;standardscaler&#x27;, StandardScaler(),\n",
       "                                 [&#x27;CreditScore&#x27;, &#x27;Age&#x27;, &#x27;Tenure&#x27;, &#x27;Balance&#x27;,\n",
       "                                  &#x27;NumOfProducts&#x27;, &#x27;EstimatedSalary&#x27;]),\n",
       "                                (&#x27;onehotencoder-1&#x27;,\n",
       "                                 OneHotEncoder(handle_unknown=&#x27;ignore&#x27;,\n",
       "                                               sparse=False),\n",
       "                                 [&#x27;Geography&#x27;]),\n",
       "                                (&#x27;onehotencoder-2&#x27;,\n",
       "                                 OneHotEncoder(drop=&#x27;if_binary&#x27;,\n",
       "                                               dtype=&lt;class &#x27;int&#x27;&gt;),\n",
       "                                 [&#x27;Gender&#x27;, &#x27;HasCrCard&#x27;, &#x27;IsActiveMember&#x27;])])</pre></div></div></div><div class=\"sk-parallel\"><div class=\"sk-parallel-item\"><div class=\"sk-item\"><div class=\"sk-label-container\"><div class=\"sk-label sk-toggleable\"><input class=\"sk-toggleable__control sk-hidden--visually\" id=\"sk-estimator-id-11\" type=\"checkbox\" ><label for=\"sk-estimator-id-11\" class=\"sk-toggleable__label sk-toggleable__label-arrow\">standardscaler</label><div class=\"sk-toggleable__content\"><pre>[&#x27;CreditScore&#x27;, &#x27;Age&#x27;, &#x27;Tenure&#x27;, &#x27;Balance&#x27;, &#x27;NumOfProducts&#x27;, &#x27;EstimatedSalary&#x27;]</pre></div></div></div><div class=\"sk-serial\"><div class=\"sk-item\"><div class=\"sk-estimator sk-toggleable\"><input class=\"sk-toggleable__control sk-hidden--visually\" id=\"sk-estimator-id-12\" type=\"checkbox\" ><label for=\"sk-estimator-id-12\" class=\"sk-toggleable__label sk-toggleable__label-arrow\">StandardScaler</label><div class=\"sk-toggleable__content\"><pre>StandardScaler()</pre></div></div></div></div></div></div><div class=\"sk-parallel-item\"><div class=\"sk-item\"><div class=\"sk-label-container\"><div class=\"sk-label sk-toggleable\"><input class=\"sk-toggleable__control sk-hidden--visually\" id=\"sk-estimator-id-13\" type=\"checkbox\" ><label for=\"sk-estimator-id-13\" class=\"sk-toggleable__label sk-toggleable__label-arrow\">onehotencoder-1</label><div class=\"sk-toggleable__content\"><pre>[&#x27;Geography&#x27;]</pre></div></div></div><div class=\"sk-serial\"><div class=\"sk-item\"><div class=\"sk-estimator sk-toggleable\"><input class=\"sk-toggleable__control sk-hidden--visually\" id=\"sk-estimator-id-14\" type=\"checkbox\" ><label for=\"sk-estimator-id-14\" class=\"sk-toggleable__label sk-toggleable__label-arrow\">OneHotEncoder</label><div class=\"sk-toggleable__content\"><pre>OneHotEncoder(handle_unknown=&#x27;ignore&#x27;, sparse=False)</pre></div></div></div></div></div></div><div class=\"sk-parallel-item\"><div class=\"sk-item\"><div class=\"sk-label-container\"><div class=\"sk-label sk-toggleable\"><input class=\"sk-toggleable__control sk-hidden--visually\" id=\"sk-estimator-id-15\" type=\"checkbox\" ><label for=\"sk-estimator-id-15\" class=\"sk-toggleable__label sk-toggleable__label-arrow\">onehotencoder-2</label><div class=\"sk-toggleable__content\"><pre>[&#x27;Gender&#x27;, &#x27;HasCrCard&#x27;, &#x27;IsActiveMember&#x27;]</pre></div></div></div><div class=\"sk-serial\"><div class=\"sk-item\"><div class=\"sk-estimator sk-toggleable\"><input class=\"sk-toggleable__control sk-hidden--visually\" id=\"sk-estimator-id-16\" type=\"checkbox\" ><label for=\"sk-estimator-id-16\" class=\"sk-toggleable__label sk-toggleable__label-arrow\">OneHotEncoder</label><div class=\"sk-toggleable__content\"><pre>OneHotEncoder(drop=&#x27;if_binary&#x27;, dtype=&lt;class &#x27;int&#x27;&gt;)</pre></div></div></div></div></div></div></div></div><div class=\"sk-item\"><div class=\"sk-estimator sk-toggleable\"><input class=\"sk-toggleable__control sk-hidden--visually\" id=\"sk-estimator-id-17\" type=\"checkbox\" ><label for=\"sk-estimator-id-17\" class=\"sk-toggleable__label sk-toggleable__label-arrow\">LogisticRegression</label><div class=\"sk-toggleable__content\"><pre>LogisticRegression(class_weight=&#x27;balanced&#x27;, max_iter=1000)</pre></div></div></div></div></div></div></div></div></div></div></div></div>"
      ],
      "text/plain": [
       "RandomizedSearchCV(estimator=Pipeline(steps=[('columntransformer',\n",
       "                                              ColumnTransformer(transformers=[('standardscaler',\n",
       "                                                                               StandardScaler(),\n",
       "                                                                               ['CreditScore',\n",
       "                                                                                'Age',\n",
       "                                                                                'Tenure',\n",
       "                                                                                'Balance',\n",
       "                                                                                'NumOfProducts',\n",
       "                                                                                'EstimatedSalary']),\n",
       "                                                                              ('onehotencoder-1',\n",
       "                                                                               OneHotEncoder(handle_unknown='ignore',\n",
       "                                                                                             sparse=False),\n",
       "                                                                               ['Geography']),\n",
       "                                                                              ('onehotencoder-2',\n",
       "                                                                               OneHotEncoder(drop='if_binary',\n",
       "                                                                                             dtype...\n",
       "                                                                                'HasCrCard',\n",
       "                                                                                'IsActiveMember'])])),\n",
       "                                             ('logisticregression',\n",
       "                                              LogisticRegression(class_weight='balanced',\n",
       "                                                                 max_iter=1000))]),\n",
       "                   n_iter=50,\n",
       "                   param_distributions={'logisticregression__C': <scipy.stats._distn_infrastructure.rv_continuous_frozen object at 0x000002BB0CC77DF0>},\n",
       "                   random_state=123, return_train_score=True,\n",
       "                   scoring=make_scorer(f1_score, average=macro), verbose=1)"
      ]
     },
     "execution_count": 22,
     "metadata": {},
     "output_type": "execute_result"
    }
   ],
   "source": [
    "param_grid = {\"logisticregression__C\": loguniform(1e-3, 1e3)}\n",
    "\n",
    "random_search = RandomizedSearchCV(\n",
    "    pipe_lr,\n",
    "    param_grid,\n",
    "    n_iter=50,\n",
    "    verbose=1,\n",
    "    scoring=scoring_metric,\n",
    "    random_state=123,\n",
    "    return_train_score=True,\n",
    ")\n",
    "\n",
    "random_search.fit(X_train, y_train)"
   ]
  },
  {
   "cell_type": "markdown",
   "id": "c805117d-6d4c-4955-86fa-8f4b5c9af48e",
   "metadata": {},
   "source": [
    "## 7.3 Report Regularized Linear Model Result"
   ]
  },
  {
   "cell_type": "code",
   "execution_count": 23,
   "id": "da922872-305f-4085-bd25-bfb680bec57c",
   "metadata": {},
   "outputs": [
    {
     "name": "stdout",
     "output_type": "stream",
     "text": [
      "Best hyperparameter values:  {'logisticregression__C': 0.002280695888578118}\n",
      "Best score: 0.649\n"
     ]
    }
   ],
   "source": [
    "print(\"Best hyperparameter values: \", random_search.best_params_)\n",
    "print(\"Best score: %0.3f\" % (random_search.best_score_))"
   ]
  },
  {
   "cell_type": "code",
   "execution_count": 24,
   "id": "945d3af5-779d-4c8b-8995-dbe3af39e239",
   "metadata": {},
   "outputs": [
    {
     "data": {
      "text/html": [
       "<div>\n",
       "<style scoped>\n",
       "    .dataframe tbody tr th:only-of-type {\n",
       "        vertical-align: middle;\n",
       "    }\n",
       "\n",
       "    .dataframe tbody tr th {\n",
       "        vertical-align: top;\n",
       "    }\n",
       "\n",
       "    .dataframe thead th {\n",
       "        text-align: right;\n",
       "    }\n",
       "</style>\n",
       "<table border=\"1\" class=\"dataframe\">\n",
       "  <thead>\n",
       "    <tr style=\"text-align: right;\">\n",
       "      <th></th>\n",
       "      <th>mean_train_score</th>\n",
       "      <th>mean_test_score</th>\n",
       "      <th>param_logisticregression__C</th>\n",
       "      <th>mean_fit_time</th>\n",
       "      <th>std_test_score</th>\n",
       "    </tr>\n",
       "    <tr>\n",
       "      <th>rank_test_score</th>\n",
       "      <th></th>\n",
       "      <th></th>\n",
       "      <th></th>\n",
       "      <th></th>\n",
       "      <th></th>\n",
       "    </tr>\n",
       "  </thead>\n",
       "  <tbody>\n",
       "    <tr>\n",
       "      <th>1</th>\n",
       "      <td>0.651706</td>\n",
       "      <td>0.649367</td>\n",
       "      <td>0.002281</td>\n",
       "      <td>0.014384</td>\n",
       "      <td>0.010802</td>\n",
       "    </tr>\n",
       "    <tr>\n",
       "      <th>2</th>\n",
       "      <td>0.652323</td>\n",
       "      <td>0.648794</td>\n",
       "      <td>0.00357</td>\n",
       "      <td>0.014386</td>\n",
       "      <td>0.012660</td>\n",
       "    </tr>\n",
       "    <tr>\n",
       "      <th>3</th>\n",
       "      <td>0.652380</td>\n",
       "      <td>0.648169</td>\n",
       "      <td>0.00494</td>\n",
       "      <td>0.014783</td>\n",
       "      <td>0.011553</td>\n",
       "    </tr>\n",
       "    <tr>\n",
       "      <th>4</th>\n",
       "      <td>0.649824</td>\n",
       "      <td>0.648036</td>\n",
       "      <td>0.012444</td>\n",
       "      <td>0.015582</td>\n",
       "      <td>0.012876</td>\n",
       "    </tr>\n",
       "    <tr>\n",
       "      <th>5</th>\n",
       "      <td>0.650463</td>\n",
       "      <td>0.647633</td>\n",
       "      <td>0.01129</td>\n",
       "      <td>0.015396</td>\n",
       "      <td>0.012756</td>\n",
       "    </tr>\n",
       "    <tr>\n",
       "      <th>6</th>\n",
       "      <td>0.648069</td>\n",
       "      <td>0.647465</td>\n",
       "      <td>0.022967</td>\n",
       "      <td>0.017199</td>\n",
       "      <td>0.014078</td>\n",
       "    </tr>\n",
       "    <tr>\n",
       "      <th>7</th>\n",
       "      <td>0.647915</td>\n",
       "      <td>0.647342</td>\n",
       "      <td>0.02342</td>\n",
       "      <td>0.016389</td>\n",
       "      <td>0.014023</td>\n",
       "    </tr>\n",
       "    <tr>\n",
       "      <th>8</th>\n",
       "      <td>0.647340</td>\n",
       "      <td>0.646993</td>\n",
       "      <td>0.031822</td>\n",
       "      <td>0.016585</td>\n",
       "      <td>0.013645</td>\n",
       "    </tr>\n",
       "    <tr>\n",
       "      <th>9</th>\n",
       "      <td>0.646195</td>\n",
       "      <td>0.646210</td>\n",
       "      <td>0.080115</td>\n",
       "      <td>0.017383</td>\n",
       "      <td>0.014958</td>\n",
       "    </tr>\n",
       "    <tr>\n",
       "      <th>10</th>\n",
       "      <td>0.647010</td>\n",
       "      <td>0.646173</td>\n",
       "      <td>0.0521</td>\n",
       "      <td>0.019997</td>\n",
       "      <td>0.014249</td>\n",
       "    </tr>\n",
       "  </tbody>\n",
       "</table>\n",
       "</div>"
      ],
      "text/plain": [
       "                 mean_train_score  mean_test_score  \\\n",
       "rank_test_score                                      \n",
       "1                        0.651706         0.649367   \n",
       "2                        0.652323         0.648794   \n",
       "3                        0.652380         0.648169   \n",
       "4                        0.649824         0.648036   \n",
       "5                        0.650463         0.647633   \n",
       "6                        0.648069         0.647465   \n",
       "7                        0.647915         0.647342   \n",
       "8                        0.647340         0.646993   \n",
       "9                        0.646195         0.646210   \n",
       "10                       0.647010         0.646173   \n",
       "\n",
       "                param_logisticregression__C  mean_fit_time  std_test_score  \n",
       "rank_test_score                                                             \n",
       "1                                  0.002281       0.014384        0.010802  \n",
       "2                                   0.00357       0.014386        0.012660  \n",
       "3                                   0.00494       0.014783        0.011553  \n",
       "4                                  0.012444       0.015582        0.012876  \n",
       "5                                   0.01129       0.015396        0.012756  \n",
       "6                                  0.022967       0.017199        0.014078  \n",
       "7                                   0.02342       0.016389        0.014023  \n",
       "8                                  0.031822       0.016585        0.013645  \n",
       "9                                  0.080115       0.017383        0.014958  \n",
       "10                                   0.0521       0.019997        0.014249  "
      ]
     },
     "execution_count": 24,
     "metadata": {},
     "output_type": "execute_result"
    }
   ],
   "source": [
    "# top 10 Search CV results\n",
    "pd.DataFrame(random_search.cv_results_)[\n",
    "    [\n",
    "        \"mean_train_score\",\n",
    "        \"mean_test_score\",\n",
    "        \"param_logisticregression__C\",\n",
    "        \"mean_fit_time\",\n",
    "        \"rank_test_score\",\n",
    "        \"std_test_score\",\n",
    "    ]\n",
    "].set_index(\"rank_test_score\").sort_index()[:10]"
   ]
  },
  {
   "cell_type": "code",
   "execution_count": 25,
   "id": "6fbe08af-d4d2-4cc0-a180-251ece08adfe",
   "metadata": {},
   "outputs": [
    {
     "data": {
      "text/html": [
       "<div>\n",
       "<style scoped>\n",
       "    .dataframe tbody tr th:only-of-type {\n",
       "        vertical-align: middle;\n",
       "    }\n",
       "\n",
       "    .dataframe tbody tr th {\n",
       "        vertical-align: top;\n",
       "    }\n",
       "\n",
       "    .dataframe thead th {\n",
       "        text-align: right;\n",
       "    }\n",
       "</style>\n",
       "<table border=\"1\" class=\"dataframe\">\n",
       "  <thead>\n",
       "    <tr style=\"text-align: right;\">\n",
       "      <th></th>\n",
       "      <th>dummy</th>\n",
       "      <th>logreg</th>\n",
       "      <th>logreg (tuned)</th>\n",
       "    </tr>\n",
       "  </thead>\n",
       "  <tbody>\n",
       "    <tr>\n",
       "      <th>fit_time</th>\n",
       "      <td>0.001 (+/- 0.001)</td>\n",
       "      <td>0.022 (+/- 0.004)</td>\n",
       "      <td>0.015 (+/- 0.001)</td>\n",
       "    </tr>\n",
       "    <tr>\n",
       "      <th>score_time</th>\n",
       "      <td>0.001 (+/- 0.001)</td>\n",
       "      <td>0.005 (+/- 0.001)</td>\n",
       "      <td>0.004 (+/- 0.000)</td>\n",
       "    </tr>\n",
       "    <tr>\n",
       "      <th>test_score</th>\n",
       "      <td>0.498 (+/- 0.012)</td>\n",
       "      <td>0.644 (+/- 0.016)</td>\n",
       "      <td>0.649 (+/- 0.012)</td>\n",
       "    </tr>\n",
       "    <tr>\n",
       "      <th>train_score</th>\n",
       "      <td>0.502 (+/- 0.009)</td>\n",
       "      <td>0.645 (+/- 0.004)</td>\n",
       "      <td>0.652 (+/- 0.006)</td>\n",
       "    </tr>\n",
       "  </tbody>\n",
       "</table>\n",
       "</div>"
      ],
      "text/plain": [
       "                         dummy             logreg     logreg (tuned)\n",
       "fit_time     0.001 (+/- 0.001)  0.022 (+/- 0.004)  0.015 (+/- 0.001)\n",
       "score_time   0.001 (+/- 0.001)  0.005 (+/- 0.001)  0.004 (+/- 0.000)\n",
       "test_score   0.498 (+/- 0.012)  0.644 (+/- 0.016)  0.649 (+/- 0.012)\n",
       "train_score  0.502 (+/- 0.009)  0.645 (+/- 0.004)  0.652 (+/- 0.006)"
      ]
     },
     "execution_count": 25,
     "metadata": {},
     "output_type": "execute_result"
    }
   ],
   "source": [
    "best_logreg = random_search.best_estimator_\n",
    "results[\"logreg (tuned)\"] = mean_std_cross_val_scores(\n",
    "    best_logreg, X_train, y_train, return_train_score=True, scoring=scoring_metric\n",
    ")\n",
    "\n",
    "pd.DataFrame(results)"
   ]
  },
  {
   "cell_type": "markdown",
   "id": "9694649d-d7a9-46a6-8f08-1d9ae6b79fb8",
   "metadata": {},
   "source": [
    "- The results of the `logistic regression` are better than those of the `dummy classifier` (with or without best regularisation parameter).\n",
    "\n",
    "- The validation scores were slightly improved by adjusting the regularisation hyperparameter of `logistic regression` (from 0.644 to 0.649).\n",
    "\n",
    "- The gap between the train and validation scores is quite small, suggesting that we are underfitting. We can try other non-linear models to improve the score."
   ]
  },
  {
   "cell_type": "markdown",
   "id": "b00badc1-e5c2-4939-8c77-aa1c72297b76",
   "metadata": {},
   "source": [
    "# 8. Different models"
   ]
  },
  {
   "cell_type": "code",
   "execution_count": 26,
   "id": "f526381d-acfb-4e9d-a4b7-d79aa9334cca",
   "metadata": {},
   "outputs": [
    {
     "data": {
      "text/plain": [
       "3.888268156424581"
      ]
     },
     "execution_count": 26,
     "metadata": {},
     "output_type": "execute_result"
    }
   ],
   "source": [
    "# ratio of 0 vs 1 (for non sklearn model)\n",
    "import numpy as np\n",
    "\n",
    "ratio = np.bincount(y_train)[0] / np.bincount(y_train)[1]\n",
    "ratio"
   ]
  },
  {
   "cell_type": "code",
   "execution_count": 27,
   "id": "1193b396-a22f-4d3f-adf4-3f02ccc93851",
   "metadata": {},
   "outputs": [
    {
     "data": {
      "text/html": [
       "<div>\n",
       "<style scoped>\n",
       "    .dataframe tbody tr th:only-of-type {\n",
       "        vertical-align: middle;\n",
       "    }\n",
       "\n",
       "    .dataframe tbody tr th {\n",
       "        vertical-align: top;\n",
       "    }\n",
       "\n",
       "    .dataframe thead th {\n",
       "        text-align: right;\n",
       "    }\n",
       "</style>\n",
       "<table border=\"1\" class=\"dataframe\">\n",
       "  <thead>\n",
       "    <tr style=\"text-align: right;\">\n",
       "      <th></th>\n",
       "      <th>fit_time</th>\n",
       "      <th>score_time</th>\n",
       "      <th>test_score</th>\n",
       "      <th>train_score</th>\n",
       "    </tr>\n",
       "  </thead>\n",
       "  <tbody>\n",
       "    <tr>\n",
       "      <th>dummy</th>\n",
       "      <td>0.001 (+/- 0.001)</td>\n",
       "      <td>0.001 (+/- 0.001)</td>\n",
       "      <td>0.498 (+/- 0.012)</td>\n",
       "      <td>0.502 (+/- 0.009)</td>\n",
       "    </tr>\n",
       "    <tr>\n",
       "      <th>logreg</th>\n",
       "      <td>0.022 (+/- 0.004)</td>\n",
       "      <td>0.005 (+/- 0.001)</td>\n",
       "      <td>0.644 (+/- 0.016)</td>\n",
       "      <td>0.645 (+/- 0.004)</td>\n",
       "    </tr>\n",
       "    <tr>\n",
       "      <th>logreg (tuned)</th>\n",
       "      <td>0.015 (+/- 0.001)</td>\n",
       "      <td>0.004 (+/- 0.000)</td>\n",
       "      <td>0.649 (+/- 0.012)</td>\n",
       "      <td>0.652 (+/- 0.006)</td>\n",
       "    </tr>\n",
       "    <tr>\n",
       "      <th>RBF SVM</th>\n",
       "      <td>0.315 (+/- 0.007)</td>\n",
       "      <td>0.144 (+/- 0.007)</td>\n",
       "      <td>0.718 (+/- 0.024)</td>\n",
       "      <td>0.736 (+/- 0.012)</td>\n",
       "    </tr>\n",
       "    <tr>\n",
       "      <th>random forest</th>\n",
       "      <td>0.359 (+/- 0.003)</td>\n",
       "      <td>0.021 (+/- 0.001)</td>\n",
       "      <td>0.733 (+/- 0.030)</td>\n",
       "      <td>1.000 (+/- 0.000)</td>\n",
       "    </tr>\n",
       "    <tr>\n",
       "      <th>xgboost</th>\n",
       "      <td>0.157 (+/- 0.003)</td>\n",
       "      <td>0.008 (+/- 0.001)</td>\n",
       "      <td>0.728 (+/- 0.018)</td>\n",
       "      <td>0.958 (+/- 0.005)</td>\n",
       "    </tr>\n",
       "    <tr>\n",
       "      <th>lgbm</th>\n",
       "      <td>0.059 (+/- 0.004)</td>\n",
       "      <td>0.006 (+/- 0.001)</td>\n",
       "      <td>0.738 (+/- 0.013)</td>\n",
       "      <td>0.882 (+/- 0.005)</td>\n",
       "    </tr>\n",
       "  </tbody>\n",
       "</table>\n",
       "</div>"
      ],
      "text/plain": [
       "                         fit_time         score_time         test_score  \\\n",
       "dummy           0.001 (+/- 0.001)  0.001 (+/- 0.001)  0.498 (+/- 0.012)   \n",
       "logreg          0.022 (+/- 0.004)  0.005 (+/- 0.001)  0.644 (+/- 0.016)   \n",
       "logreg (tuned)  0.015 (+/- 0.001)  0.004 (+/- 0.000)  0.649 (+/- 0.012)   \n",
       "RBF SVM         0.315 (+/- 0.007)  0.144 (+/- 0.007)  0.718 (+/- 0.024)   \n",
       "random forest   0.359 (+/- 0.003)  0.021 (+/- 0.001)  0.733 (+/- 0.030)   \n",
       "xgboost         0.157 (+/- 0.003)  0.008 (+/- 0.001)  0.728 (+/- 0.018)   \n",
       "lgbm            0.059 (+/- 0.004)  0.006 (+/- 0.001)  0.738 (+/- 0.013)   \n",
       "\n",
       "                      train_score  \n",
       "dummy           0.502 (+/- 0.009)  \n",
       "logreg          0.645 (+/- 0.004)  \n",
       "logreg (tuned)  0.652 (+/- 0.006)  \n",
       "RBF SVM         0.736 (+/- 0.012)  \n",
       "random forest   1.000 (+/- 0.000)  \n",
       "xgboost         0.958 (+/- 0.005)  \n",
       "lgbm            0.882 (+/- 0.005)  "
      ]
     },
     "execution_count": 27,
     "metadata": {},
     "output_type": "execute_result"
    }
   ],
   "source": [
    "from lightgbm.sklearn import LGBMClassifier\n",
    "from sklearn.ensemble import RandomForestClassifier\n",
    "from sklearn.svm import SVC\n",
    "from xgboost import XGBClassifier\n",
    "\n",
    "models = {\n",
    "    \"RBF SVM\": SVC(),\n",
    "    \"random forest\": RandomForestClassifier(class_weight=\"balanced\", random_state=2),\n",
    "    \"xgboost\": XGBClassifier(scale_pos_weight=ratio, random_state=2),\n",
    "    \"lgbm\": LGBMClassifier(scale_pos_weight=ratio, random_state=2),\n",
    "}\n",
    "\n",
    "for name, model in models.items():\n",
    "    pipe = make_pipeline(preprocessor, model)\n",
    "    results[name] = mean_std_cross_val_scores(\n",
    "        pipe, X_train, y_train, return_train_score=True, scoring=scoring_metric\n",
    "    )\n",
    "\n",
    "pd.DataFrame(results).T"
   ]
  },
  {
   "cell_type": "markdown",
   "id": "8bdb5f35-3b4f-4ab5-841b-82d6bfde3db1",
   "metadata": {},
   "source": [
    "- We are using four non-linear models here: `RBF SVM` and three `tree-based models`.\n",
    "\n",
    "- All models are set with default hyperparameters.\n",
    "\n",
    "- Similar to `logistic regression`, `SVC` also seems to underfit; the gap between train and test scores are not large. Also, as expected, `SVC` takes longer to fit compared to other models. We will ignore using this model in further stage.\n",
    "\n",
    "- `LGBM` seems to be the best performing model among the tree-based models. It also seems to be much faster and overfitting less compared to `random forest` and `xgboost`."
   ]
  },
  {
   "cell_type": "code",
   "execution_count": 28,
   "id": "42cce1fa-eab7-47a8-a849-8429584d0391",
   "metadata": {},
   "outputs": [],
   "source": [
    "# ignoring SVM\n",
    "del models[\"RBF SVM\"]"
   ]
  },
  {
   "cell_type": "markdown",
   "id": "98858278-b15c-4599-9d57-d5a89da6a4cd",
   "metadata": {},
   "source": [
    "# 9. Feature selection"
   ]
  },
  {
   "cell_type": "markdown",
   "id": "9cf15460-af71-461b-843b-f63d230cd702",
   "metadata": {},
   "source": [
    "## 9.1 Applying logistic regression for feature selection"
   ]
  },
  {
   "cell_type": "code",
   "execution_count": 29,
   "id": "82d6eb34-b8a7-44ee-9fed-820802f24a3d",
   "metadata": {},
   "outputs": [],
   "source": [
    "from sklearn.feature_selection import SelectFromModel\n",
    "\n",
    "for name, model in models.items():\n",
    "    pipe = make_pipeline(\n",
    "        preprocessor,\n",
    "        SelectFromModel(\n",
    "            LogisticRegression(solver=\"liblinear\", penalty=\"l1\", max_iter=1000)\n",
    "        ),\n",
    "        model,\n",
    "    )\n",
    "    results[name + \"+ feat_sel\"] = mean_std_cross_val_scores(\n",
    "        pipe, X_train, y_train, return_train_score=True, scoring=scoring_metric\n",
    "    )"
   ]
  },
  {
   "cell_type": "code",
   "execution_count": 30,
   "id": "33edcdb3-5901-47bb-a788-e99594f62ce8",
   "metadata": {},
   "outputs": [
    {
     "data": {
      "text/html": [
       "<div>\n",
       "<style scoped>\n",
       "    .dataframe tbody tr th:only-of-type {\n",
       "        vertical-align: middle;\n",
       "    }\n",
       "\n",
       "    .dataframe tbody tr th {\n",
       "        vertical-align: top;\n",
       "    }\n",
       "\n",
       "    .dataframe thead th {\n",
       "        text-align: right;\n",
       "    }\n",
       "</style>\n",
       "<table border=\"1\" class=\"dataframe\">\n",
       "  <thead>\n",
       "    <tr style=\"text-align: right;\">\n",
       "      <th></th>\n",
       "      <th>fit_time</th>\n",
       "      <th>score_time</th>\n",
       "      <th>test_score</th>\n",
       "      <th>train_score</th>\n",
       "    </tr>\n",
       "  </thead>\n",
       "  <tbody>\n",
       "    <tr>\n",
       "      <th>dummy</th>\n",
       "      <td>0.001 (+/- 0.001)</td>\n",
       "      <td>0.001 (+/- 0.001)</td>\n",
       "      <td>0.498 (+/- 0.012)</td>\n",
       "      <td>0.502 (+/- 0.009)</td>\n",
       "    </tr>\n",
       "    <tr>\n",
       "      <th>logreg</th>\n",
       "      <td>0.022 (+/- 0.004)</td>\n",
       "      <td>0.005 (+/- 0.001)</td>\n",
       "      <td>0.644 (+/- 0.016)</td>\n",
       "      <td>0.645 (+/- 0.004)</td>\n",
       "    </tr>\n",
       "    <tr>\n",
       "      <th>logreg (tuned)</th>\n",
       "      <td>0.015 (+/- 0.001)</td>\n",
       "      <td>0.004 (+/- 0.000)</td>\n",
       "      <td>0.649 (+/- 0.012)</td>\n",
       "      <td>0.652 (+/- 0.006)</td>\n",
       "    </tr>\n",
       "    <tr>\n",
       "      <th>RBF SVM</th>\n",
       "      <td>0.315 (+/- 0.007)</td>\n",
       "      <td>0.144 (+/- 0.007)</td>\n",
       "      <td>0.718 (+/- 0.024)</td>\n",
       "      <td>0.736 (+/- 0.012)</td>\n",
       "    </tr>\n",
       "    <tr>\n",
       "      <th>random forest</th>\n",
       "      <td>0.359 (+/- 0.003)</td>\n",
       "      <td>0.021 (+/- 0.001)</td>\n",
       "      <td>0.733 (+/- 0.030)</td>\n",
       "      <td>1.000 (+/- 0.000)</td>\n",
       "    </tr>\n",
       "    <tr>\n",
       "      <th>xgboost</th>\n",
       "      <td>0.157 (+/- 0.003)</td>\n",
       "      <td>0.008 (+/- 0.001)</td>\n",
       "      <td>0.728 (+/- 0.018)</td>\n",
       "      <td>0.958 (+/- 0.005)</td>\n",
       "    </tr>\n",
       "    <tr>\n",
       "      <th>lgbm</th>\n",
       "      <td>0.059 (+/- 0.004)</td>\n",
       "      <td>0.006 (+/- 0.001)</td>\n",
       "      <td>0.738 (+/- 0.013)</td>\n",
       "      <td>0.882 (+/- 0.005)</td>\n",
       "    </tr>\n",
       "    <tr>\n",
       "      <th>random forest+ feat_sel</th>\n",
       "      <td>0.378 (+/- 0.014)</td>\n",
       "      <td>0.022 (+/- 0.001)</td>\n",
       "      <td>0.733 (+/- 0.032)</td>\n",
       "      <td>1.000 (+/- 0.000)</td>\n",
       "    </tr>\n",
       "    <tr>\n",
       "      <th>xgboost+ feat_sel</th>\n",
       "      <td>0.163 (+/- 0.002)</td>\n",
       "      <td>0.008 (+/- 0.001)</td>\n",
       "      <td>0.728 (+/- 0.018)</td>\n",
       "      <td>0.958 (+/- 0.005)</td>\n",
       "    </tr>\n",
       "    <tr>\n",
       "      <th>lgbm+ feat_sel</th>\n",
       "      <td>0.068 (+/- 0.004)</td>\n",
       "      <td>0.006 (+/- 0.001)</td>\n",
       "      <td>0.739 (+/- 0.014)</td>\n",
       "      <td>0.881 (+/- 0.005)</td>\n",
       "    </tr>\n",
       "  </tbody>\n",
       "</table>\n",
       "</div>"
      ],
      "text/plain": [
       "                                  fit_time         score_time  \\\n",
       "dummy                    0.001 (+/- 0.001)  0.001 (+/- 0.001)   \n",
       "logreg                   0.022 (+/- 0.004)  0.005 (+/- 0.001)   \n",
       "logreg (tuned)           0.015 (+/- 0.001)  0.004 (+/- 0.000)   \n",
       "RBF SVM                  0.315 (+/- 0.007)  0.144 (+/- 0.007)   \n",
       "random forest            0.359 (+/- 0.003)  0.021 (+/- 0.001)   \n",
       "xgboost                  0.157 (+/- 0.003)  0.008 (+/- 0.001)   \n",
       "lgbm                     0.059 (+/- 0.004)  0.006 (+/- 0.001)   \n",
       "random forest+ feat_sel  0.378 (+/- 0.014)  0.022 (+/- 0.001)   \n",
       "xgboost+ feat_sel        0.163 (+/- 0.002)  0.008 (+/- 0.001)   \n",
       "lgbm+ feat_sel           0.068 (+/- 0.004)  0.006 (+/- 0.001)   \n",
       "\n",
       "                                test_score        train_score  \n",
       "dummy                    0.498 (+/- 0.012)  0.502 (+/- 0.009)  \n",
       "logreg                   0.644 (+/- 0.016)  0.645 (+/- 0.004)  \n",
       "logreg (tuned)           0.649 (+/- 0.012)  0.652 (+/- 0.006)  \n",
       "RBF SVM                  0.718 (+/- 0.024)  0.736 (+/- 0.012)  \n",
       "random forest            0.733 (+/- 0.030)  1.000 (+/- 0.000)  \n",
       "xgboost                  0.728 (+/- 0.018)  0.958 (+/- 0.005)  \n",
       "lgbm                     0.738 (+/- 0.013)  0.882 (+/- 0.005)  \n",
       "random forest+ feat_sel  0.733 (+/- 0.032)  1.000 (+/- 0.000)  \n",
       "xgboost+ feat_sel        0.728 (+/- 0.018)  0.958 (+/- 0.005)  \n",
       "lgbm+ feat_sel           0.739 (+/- 0.014)  0.881 (+/- 0.005)  "
      ]
     },
     "execution_count": 30,
     "metadata": {},
     "output_type": "execute_result"
    }
   ],
   "source": [
    "pd.DataFrame(results).T"
   ]
  },
  {
   "cell_type": "markdown",
   "id": "4d4f68cb-0a1a-4eca-a5c0-18f604c910f2",
   "metadata": {},
   "source": [
    "## 9.2 Counting the number of selected features"
   ]
  },
  {
   "cell_type": "code",
   "execution_count": 31,
   "id": "c54d0021-9fa5-46ea-af49-f370304c48ed",
   "metadata": {},
   "outputs": [
    {
     "name": "stdout",
     "output_type": "stream",
     "text": [
      "Number of features selected:  11\n"
     ]
    }
   ],
   "source": [
    "pipe_random_forest = make_pipeline(\n",
    "    preprocessor,\n",
    "    SelectFromModel(\n",
    "        LogisticRegression(solver=\"liblinear\", penalty=\"l1\", max_iter=1000)\n",
    "    ),\n",
    "    models[\"random forest\"],\n",
    ")\n",
    "\n",
    "pipe_random_forest.fit(X_train, y_train)\n",
    "print(\n",
    "    \"Number of features selected: \",\n",
    "    pipe_random_forest.named_steps[\"randomforestclassifier\"].n_features_in_,\n",
    ")"
   ]
  },
  {
   "cell_type": "markdown",
   "id": "ef6086ec-43d7-4037-baf5-c79f330092cc",
   "metadata": {},
   "source": [
    "- L2 regularisation identified a total of 11 features.\n",
    "\n",
    "- With logistic regression and L2 regularisation, the results show very slight improvements. but not much.\n",
    "\n",
    "- Additionally, we do not have a lot of features. So let's disregard feature selection from the pipeline."
   ]
  },
  {
   "cell_type": "markdown",
   "id": "cbac796b-fba8-466c-933f-337f3660785a",
   "metadata": {},
   "source": [
    "# 10. Hyperparameter optimization"
   ]
  },
  {
   "cell_type": "markdown",
   "id": "004a8705-8786-4e4e-a92e-bbf99c01957d",
   "metadata": {},
   "source": [
    "## 10.1 Random forest hyperparameter optimization \n"
   ]
  },
  {
   "cell_type": "code",
   "execution_count": 32,
   "id": "6f5709a9-6c09-48bb-b1cc-299585b8851f",
   "metadata": {},
   "outputs": [],
   "source": [
    "param_grid_rf = {\n",
    "    \"randomforestclassifier__n_estimators\": randint(low=10, high=100),\n",
    "    \"randomforestclassifier__max_depth\": randint(low=2, high=20),\n",
    "}\n",
    "\n",
    "pipe_random_forest = make_pipeline(preprocessor, models[\"random forest\"])\n"
   ]
  },
  {
   "cell_type": "code",
   "execution_count": 33,
   "id": "31e1298f-cbe7-453d-b692-5cf630285296",
   "metadata": {},
   "outputs": [
    {
     "name": "stdout",
     "output_type": "stream",
     "text": [
      "Fitting 5 folds for each of 50 candidates, totalling 250 fits\n"
     ]
    },
    {
     "data": {
      "text/html": [
       "<style>#sk-container-id-3 {color: black;background-color: white;}#sk-container-id-3 pre{padding: 0;}#sk-container-id-3 div.sk-toggleable {background-color: white;}#sk-container-id-3 label.sk-toggleable__label {cursor: pointer;display: block;width: 100%;margin-bottom: 0;padding: 0.3em;box-sizing: border-box;text-align: center;}#sk-container-id-3 label.sk-toggleable__label-arrow:before {content: \"▸\";float: left;margin-right: 0.25em;color: #696969;}#sk-container-id-3 label.sk-toggleable__label-arrow:hover:before {color: black;}#sk-container-id-3 div.sk-estimator:hover label.sk-toggleable__label-arrow:before {color: black;}#sk-container-id-3 div.sk-toggleable__content {max-height: 0;max-width: 0;overflow: hidden;text-align: left;background-color: #f0f8ff;}#sk-container-id-3 div.sk-toggleable__content pre {margin: 0.2em;color: black;border-radius: 0.25em;background-color: #f0f8ff;}#sk-container-id-3 input.sk-toggleable__control:checked~div.sk-toggleable__content {max-height: 200px;max-width: 100%;overflow: auto;}#sk-container-id-3 input.sk-toggleable__control:checked~label.sk-toggleable__label-arrow:before {content: \"▾\";}#sk-container-id-3 div.sk-estimator input.sk-toggleable__control:checked~label.sk-toggleable__label {background-color: #d4ebff;}#sk-container-id-3 div.sk-label input.sk-toggleable__control:checked~label.sk-toggleable__label {background-color: #d4ebff;}#sk-container-id-3 input.sk-hidden--visually {border: 0;clip: rect(1px 1px 1px 1px);clip: rect(1px, 1px, 1px, 1px);height: 1px;margin: -1px;overflow: hidden;padding: 0;position: absolute;width: 1px;}#sk-container-id-3 div.sk-estimator {font-family: monospace;background-color: #f0f8ff;border: 1px dotted black;border-radius: 0.25em;box-sizing: border-box;margin-bottom: 0.5em;}#sk-container-id-3 div.sk-estimator:hover {background-color: #d4ebff;}#sk-container-id-3 div.sk-parallel-item::after {content: \"\";width: 100%;border-bottom: 1px solid gray;flex-grow: 1;}#sk-container-id-3 div.sk-label:hover label.sk-toggleable__label {background-color: #d4ebff;}#sk-container-id-3 div.sk-serial::before {content: \"\";position: absolute;border-left: 1px solid gray;box-sizing: border-box;top: 0;bottom: 0;left: 50%;z-index: 0;}#sk-container-id-3 div.sk-serial {display: flex;flex-direction: column;align-items: center;background-color: white;padding-right: 0.2em;padding-left: 0.2em;position: relative;}#sk-container-id-3 div.sk-item {position: relative;z-index: 1;}#sk-container-id-3 div.sk-parallel {display: flex;align-items: stretch;justify-content: center;background-color: white;position: relative;}#sk-container-id-3 div.sk-item::before, #sk-container-id-3 div.sk-parallel-item::before {content: \"\";position: absolute;border-left: 1px solid gray;box-sizing: border-box;top: 0;bottom: 0;left: 50%;z-index: -1;}#sk-container-id-3 div.sk-parallel-item {display: flex;flex-direction: column;z-index: 1;position: relative;background-color: white;}#sk-container-id-3 div.sk-parallel-item:first-child::after {align-self: flex-end;width: 50%;}#sk-container-id-3 div.sk-parallel-item:last-child::after {align-self: flex-start;width: 50%;}#sk-container-id-3 div.sk-parallel-item:only-child::after {width: 0;}#sk-container-id-3 div.sk-dashed-wrapped {border: 1px dashed gray;margin: 0 0.4em 0.5em 0.4em;box-sizing: border-box;padding-bottom: 0.4em;background-color: white;}#sk-container-id-3 div.sk-label label {font-family: monospace;font-weight: bold;display: inline-block;line-height: 1.2em;}#sk-container-id-3 div.sk-label-container {text-align: center;}#sk-container-id-3 div.sk-container {/* jupyter's `normalize.less` sets `[hidden] { display: none; }` but bootstrap.min.css set `[hidden] { display: none !important; }` so we also need the `!important` here to be able to override the default hidden behavior on the sphinx rendered scikit-learn.org. See: https://github.com/scikit-learn/scikit-learn/issues/21755 */display: inline-block !important;position: relative;}#sk-container-id-3 div.sk-text-repr-fallback {display: none;}</style><div id=\"sk-container-id-3\" class=\"sk-top-container\"><div class=\"sk-text-repr-fallback\"><pre>RandomizedSearchCV(estimator=Pipeline(steps=[(&#x27;columntransformer&#x27;,\n",
       "                                              ColumnTransformer(transformers=[(&#x27;standardscaler&#x27;,\n",
       "                                                                               StandardScaler(),\n",
       "                                                                               [&#x27;CreditScore&#x27;,\n",
       "                                                                                &#x27;Age&#x27;,\n",
       "                                                                                &#x27;Tenure&#x27;,\n",
       "                                                                                &#x27;Balance&#x27;,\n",
       "                                                                                &#x27;NumOfProducts&#x27;,\n",
       "                                                                                &#x27;EstimatedSalary&#x27;]),\n",
       "                                                                              (&#x27;onehotencoder-1&#x27;,\n",
       "                                                                               OneHotEncoder(handle_unknown=&#x27;ignore&#x27;,\n",
       "                                                                                             sparse=False),\n",
       "                                                                               [&#x27;Geography&#x27;]),\n",
       "                                                                              (&#x27;onehotencoder-2&#x27;,\n",
       "                                                                               OneHotEncoder(drop=&#x27;if_binary&#x27;,\n",
       "                                                                                             dtype...\n",
       "                   param_distributions={&#x27;randomforestclassifier__max_depth&#x27;: &lt;scipy.stats._distn_infrastructure.rv_discrete_frozen object at 0x000002BB0FB32BF0&gt;,\n",
       "                                        &#x27;randomforestclassifier__n_estimators&#x27;: &lt;scipy.stats._distn_infrastructure.rv_discrete_frozen object at 0x000002BB0FB63550&gt;},\n",
       "                   random_state=123, return_train_score=True,\n",
       "                   scoring=make_scorer(f1_score, average=macro), verbose=1)</pre><b>In a Jupyter environment, please rerun this cell to show the HTML representation or trust the notebook. <br />On GitHub, the HTML representation is unable to render, please try loading this page with nbviewer.org.</b></div><div class=\"sk-container\" hidden><div class=\"sk-item sk-dashed-wrapped\"><div class=\"sk-label-container\"><div class=\"sk-label sk-toggleable\"><input class=\"sk-toggleable__control sk-hidden--visually\" id=\"sk-estimator-id-18\" type=\"checkbox\" ><label for=\"sk-estimator-id-18\" class=\"sk-toggleable__label sk-toggleable__label-arrow\">RandomizedSearchCV</label><div class=\"sk-toggleable__content\"><pre>RandomizedSearchCV(estimator=Pipeline(steps=[(&#x27;columntransformer&#x27;,\n",
       "                                              ColumnTransformer(transformers=[(&#x27;standardscaler&#x27;,\n",
       "                                                                               StandardScaler(),\n",
       "                                                                               [&#x27;CreditScore&#x27;,\n",
       "                                                                                &#x27;Age&#x27;,\n",
       "                                                                                &#x27;Tenure&#x27;,\n",
       "                                                                                &#x27;Balance&#x27;,\n",
       "                                                                                &#x27;NumOfProducts&#x27;,\n",
       "                                                                                &#x27;EstimatedSalary&#x27;]),\n",
       "                                                                              (&#x27;onehotencoder-1&#x27;,\n",
       "                                                                               OneHotEncoder(handle_unknown=&#x27;ignore&#x27;,\n",
       "                                                                                             sparse=False),\n",
       "                                                                               [&#x27;Geography&#x27;]),\n",
       "                                                                              (&#x27;onehotencoder-2&#x27;,\n",
       "                                                                               OneHotEncoder(drop=&#x27;if_binary&#x27;,\n",
       "                                                                                             dtype...\n",
       "                   param_distributions={&#x27;randomforestclassifier__max_depth&#x27;: &lt;scipy.stats._distn_infrastructure.rv_discrete_frozen object at 0x000002BB0FB32BF0&gt;,\n",
       "                                        &#x27;randomforestclassifier__n_estimators&#x27;: &lt;scipy.stats._distn_infrastructure.rv_discrete_frozen object at 0x000002BB0FB63550&gt;},\n",
       "                   random_state=123, return_train_score=True,\n",
       "                   scoring=make_scorer(f1_score, average=macro), verbose=1)</pre></div></div></div><div class=\"sk-parallel\"><div class=\"sk-parallel-item\"><div class=\"sk-item\"><div class=\"sk-label-container\"><div class=\"sk-label sk-toggleable\"><input class=\"sk-toggleable__control sk-hidden--visually\" id=\"sk-estimator-id-19\" type=\"checkbox\" ><label for=\"sk-estimator-id-19\" class=\"sk-toggleable__label sk-toggleable__label-arrow\">estimator: Pipeline</label><div class=\"sk-toggleable__content\"><pre>Pipeline(steps=[(&#x27;columntransformer&#x27;,\n",
       "                 ColumnTransformer(transformers=[(&#x27;standardscaler&#x27;,\n",
       "                                                  StandardScaler(),\n",
       "                                                  [&#x27;CreditScore&#x27;, &#x27;Age&#x27;,\n",
       "                                                   &#x27;Tenure&#x27;, &#x27;Balance&#x27;,\n",
       "                                                   &#x27;NumOfProducts&#x27;,\n",
       "                                                   &#x27;EstimatedSalary&#x27;]),\n",
       "                                                 (&#x27;onehotencoder-1&#x27;,\n",
       "                                                  OneHotEncoder(handle_unknown=&#x27;ignore&#x27;,\n",
       "                                                                sparse=False),\n",
       "                                                  [&#x27;Geography&#x27;]),\n",
       "                                                 (&#x27;onehotencoder-2&#x27;,\n",
       "                                                  OneHotEncoder(drop=&#x27;if_binary&#x27;,\n",
       "                                                                dtype=&lt;class &#x27;int&#x27;&gt;),\n",
       "                                                  [&#x27;Gender&#x27;, &#x27;HasCrCard&#x27;,\n",
       "                                                   &#x27;IsActiveMember&#x27;])])),\n",
       "                (&#x27;randomforestclassifier&#x27;,\n",
       "                 RandomForestClassifier(class_weight=&#x27;balanced&#x27;,\n",
       "                                        random_state=2))])</pre></div></div></div><div class=\"sk-serial\"><div class=\"sk-item\"><div class=\"sk-serial\"><div class=\"sk-item sk-dashed-wrapped\"><div class=\"sk-label-container\"><div class=\"sk-label sk-toggleable\"><input class=\"sk-toggleable__control sk-hidden--visually\" id=\"sk-estimator-id-20\" type=\"checkbox\" ><label for=\"sk-estimator-id-20\" class=\"sk-toggleable__label sk-toggleable__label-arrow\">columntransformer: ColumnTransformer</label><div class=\"sk-toggleable__content\"><pre>ColumnTransformer(transformers=[(&#x27;standardscaler&#x27;, StandardScaler(),\n",
       "                                 [&#x27;CreditScore&#x27;, &#x27;Age&#x27;, &#x27;Tenure&#x27;, &#x27;Balance&#x27;,\n",
       "                                  &#x27;NumOfProducts&#x27;, &#x27;EstimatedSalary&#x27;]),\n",
       "                                (&#x27;onehotencoder-1&#x27;,\n",
       "                                 OneHotEncoder(handle_unknown=&#x27;ignore&#x27;,\n",
       "                                               sparse=False),\n",
       "                                 [&#x27;Geography&#x27;]),\n",
       "                                (&#x27;onehotencoder-2&#x27;,\n",
       "                                 OneHotEncoder(drop=&#x27;if_binary&#x27;,\n",
       "                                               dtype=&lt;class &#x27;int&#x27;&gt;),\n",
       "                                 [&#x27;Gender&#x27;, &#x27;HasCrCard&#x27;, &#x27;IsActiveMember&#x27;])])</pre></div></div></div><div class=\"sk-parallel\"><div class=\"sk-parallel-item\"><div class=\"sk-item\"><div class=\"sk-label-container\"><div class=\"sk-label sk-toggleable\"><input class=\"sk-toggleable__control sk-hidden--visually\" id=\"sk-estimator-id-21\" type=\"checkbox\" ><label for=\"sk-estimator-id-21\" class=\"sk-toggleable__label sk-toggleable__label-arrow\">standardscaler</label><div class=\"sk-toggleable__content\"><pre>[&#x27;CreditScore&#x27;, &#x27;Age&#x27;, &#x27;Tenure&#x27;, &#x27;Balance&#x27;, &#x27;NumOfProducts&#x27;, &#x27;EstimatedSalary&#x27;]</pre></div></div></div><div class=\"sk-serial\"><div class=\"sk-item\"><div class=\"sk-estimator sk-toggleable\"><input class=\"sk-toggleable__control sk-hidden--visually\" id=\"sk-estimator-id-22\" type=\"checkbox\" ><label for=\"sk-estimator-id-22\" class=\"sk-toggleable__label sk-toggleable__label-arrow\">StandardScaler</label><div class=\"sk-toggleable__content\"><pre>StandardScaler()</pre></div></div></div></div></div></div><div class=\"sk-parallel-item\"><div class=\"sk-item\"><div class=\"sk-label-container\"><div class=\"sk-label sk-toggleable\"><input class=\"sk-toggleable__control sk-hidden--visually\" id=\"sk-estimator-id-23\" type=\"checkbox\" ><label for=\"sk-estimator-id-23\" class=\"sk-toggleable__label sk-toggleable__label-arrow\">onehotencoder-1</label><div class=\"sk-toggleable__content\"><pre>[&#x27;Geography&#x27;]</pre></div></div></div><div class=\"sk-serial\"><div class=\"sk-item\"><div class=\"sk-estimator sk-toggleable\"><input class=\"sk-toggleable__control sk-hidden--visually\" id=\"sk-estimator-id-24\" type=\"checkbox\" ><label for=\"sk-estimator-id-24\" class=\"sk-toggleable__label sk-toggleable__label-arrow\">OneHotEncoder</label><div class=\"sk-toggleable__content\"><pre>OneHotEncoder(handle_unknown=&#x27;ignore&#x27;, sparse=False)</pre></div></div></div></div></div></div><div class=\"sk-parallel-item\"><div class=\"sk-item\"><div class=\"sk-label-container\"><div class=\"sk-label sk-toggleable\"><input class=\"sk-toggleable__control sk-hidden--visually\" id=\"sk-estimator-id-25\" type=\"checkbox\" ><label for=\"sk-estimator-id-25\" class=\"sk-toggleable__label sk-toggleable__label-arrow\">onehotencoder-2</label><div class=\"sk-toggleable__content\"><pre>[&#x27;Gender&#x27;, &#x27;HasCrCard&#x27;, &#x27;IsActiveMember&#x27;]</pre></div></div></div><div class=\"sk-serial\"><div class=\"sk-item\"><div class=\"sk-estimator sk-toggleable\"><input class=\"sk-toggleable__control sk-hidden--visually\" id=\"sk-estimator-id-26\" type=\"checkbox\" ><label for=\"sk-estimator-id-26\" class=\"sk-toggleable__label sk-toggleable__label-arrow\">OneHotEncoder</label><div class=\"sk-toggleable__content\"><pre>OneHotEncoder(drop=&#x27;if_binary&#x27;, dtype=&lt;class &#x27;int&#x27;&gt;)</pre></div></div></div></div></div></div></div></div><div class=\"sk-item\"><div class=\"sk-estimator sk-toggleable\"><input class=\"sk-toggleable__control sk-hidden--visually\" id=\"sk-estimator-id-27\" type=\"checkbox\" ><label for=\"sk-estimator-id-27\" class=\"sk-toggleable__label sk-toggleable__label-arrow\">RandomForestClassifier</label><div class=\"sk-toggleable__content\"><pre>RandomForestClassifier(class_weight=&#x27;balanced&#x27;, random_state=2)</pre></div></div></div></div></div></div></div></div></div></div></div></div>"
      ],
      "text/plain": [
       "RandomizedSearchCV(estimator=Pipeline(steps=[('columntransformer',\n",
       "                                              ColumnTransformer(transformers=[('standardscaler',\n",
       "                                                                               StandardScaler(),\n",
       "                                                                               ['CreditScore',\n",
       "                                                                                'Age',\n",
       "                                                                                'Tenure',\n",
       "                                                                                'Balance',\n",
       "                                                                                'NumOfProducts',\n",
       "                                                                                'EstimatedSalary']),\n",
       "                                                                              ('onehotencoder-1',\n",
       "                                                                               OneHotEncoder(handle_unknown='ignore',\n",
       "                                                                                             sparse=False),\n",
       "                                                                               ['Geography']),\n",
       "                                                                              ('onehotencoder-2',\n",
       "                                                                               OneHotEncoder(drop='if_binary',\n",
       "                                                                                             dtype...\n",
       "                   param_distributions={'randomforestclassifier__max_depth': <scipy.stats._distn_infrastructure.rv_discrete_frozen object at 0x000002BB0FB32BF0>,\n",
       "                                        'randomforestclassifier__n_estimators': <scipy.stats._distn_infrastructure.rv_discrete_frozen object at 0x000002BB0FB63550>},\n",
       "                   random_state=123, return_train_score=True,\n",
       "                   scoring=make_scorer(f1_score, average=macro), verbose=1)"
      ]
     },
     "execution_count": 33,
     "metadata": {},
     "output_type": "execute_result"
    }
   ],
   "source": [
    "random_search_rf = RandomizedSearchCV(\n",
    "    pipe_random_forest,\n",
    "    param_grid_rf,\n",
    "    n_iter=50,\n",
    "    verbose=1,\n",
    "    scoring=scoring_metric,\n",
    "    random_state=123,\n",
    "    return_train_score=True,\n",
    ")\n",
    "\n",
    "random_search_rf.fit(X_train, y_train)"
   ]
  },
  {
   "cell_type": "code",
   "execution_count": 34,
   "id": "8e847186-9761-485a-a401-3f6d7f0d866c",
   "metadata": {},
   "outputs": [
    {
     "name": "stdout",
     "output_type": "stream",
     "text": [
      "Best hyperparameter values:  {'randomforestclassifier__max_depth': 11, 'randomforestclassifier__n_estimators': 62}\n",
      "Best score: 0.752\n"
     ]
    }
   ],
   "source": [
    "print(\"Best hyperparameter values: \", random_search_rf.best_params_)\n",
    "print(\"Best score: %0.3f\" % (random_search_rf.best_score_))"
   ]
  },
  {
   "cell_type": "code",
   "execution_count": 35,
   "id": "0a45b415-4f87-469e-82ed-5e223c9410b9",
   "metadata": {},
   "outputs": [
    {
     "data": {
      "text/html": [
       "<div>\n",
       "<style scoped>\n",
       "    .dataframe tbody tr th:only-of-type {\n",
       "        vertical-align: middle;\n",
       "    }\n",
       "\n",
       "    .dataframe tbody tr th {\n",
       "        vertical-align: top;\n",
       "    }\n",
       "\n",
       "    .dataframe thead th {\n",
       "        text-align: right;\n",
       "    }\n",
       "</style>\n",
       "<table border=\"1\" class=\"dataframe\">\n",
       "  <thead>\n",
       "    <tr style=\"text-align: right;\">\n",
       "      <th></th>\n",
       "      <th>mean_train_score</th>\n",
       "      <th>mean_test_score</th>\n",
       "      <th>param_randomforestclassifier__n_estimators</th>\n",
       "      <th>param_randomforestclassifier__max_depth</th>\n",
       "      <th>mean_fit_time</th>\n",
       "      <th>std_test_score</th>\n",
       "    </tr>\n",
       "    <tr>\n",
       "      <th>rank_test_score</th>\n",
       "      <th></th>\n",
       "      <th></th>\n",
       "      <th></th>\n",
       "      <th></th>\n",
       "      <th></th>\n",
       "      <th></th>\n",
       "    </tr>\n",
       "  </thead>\n",
       "  <tbody>\n",
       "    <tr>\n",
       "      <th>1</th>\n",
       "      <td>0.921448</td>\n",
       "      <td>0.752303</td>\n",
       "      <td>62</td>\n",
       "      <td>11</td>\n",
       "      <td>0.192017</td>\n",
       "      <td>0.020466</td>\n",
       "    </tr>\n",
       "    <tr>\n",
       "      <th>2</th>\n",
       "      <td>0.880309</td>\n",
       "      <td>0.751038</td>\n",
       "      <td>35</td>\n",
       "      <td>10</td>\n",
       "      <td>0.106998</td>\n",
       "      <td>0.015715</td>\n",
       "    </tr>\n",
       "    <tr>\n",
       "      <th>3</th>\n",
       "      <td>0.845447</td>\n",
       "      <td>0.749211</td>\n",
       "      <td>76</td>\n",
       "      <td>9</td>\n",
       "      <td>0.207799</td>\n",
       "      <td>0.017089</td>\n",
       "    </tr>\n",
       "    <tr>\n",
       "      <th>4</th>\n",
       "      <td>0.918970</td>\n",
       "      <td>0.748775</td>\n",
       "      <td>42</td>\n",
       "      <td>11</td>\n",
       "      <td>0.131800</td>\n",
       "      <td>0.019571</td>\n",
       "    </tr>\n",
       "    <tr>\n",
       "      <th>5</th>\n",
       "      <td>0.974855</td>\n",
       "      <td>0.747168</td>\n",
       "      <td>68</td>\n",
       "      <td>13</td>\n",
       "      <td>0.248603</td>\n",
       "      <td>0.026356</td>\n",
       "    </tr>\n",
       "    <tr>\n",
       "      <th>6</th>\n",
       "      <td>0.954433</td>\n",
       "      <td>0.747135</td>\n",
       "      <td>79</td>\n",
       "      <td>12</td>\n",
       "      <td>0.256402</td>\n",
       "      <td>0.025203</td>\n",
       "    </tr>\n",
       "    <tr>\n",
       "      <th>7</th>\n",
       "      <td>0.954273</td>\n",
       "      <td>0.746674</td>\n",
       "      <td>67</td>\n",
       "      <td>12</td>\n",
       "      <td>0.217201</td>\n",
       "      <td>0.023365</td>\n",
       "    </tr>\n",
       "    <tr>\n",
       "      <th>8</th>\n",
       "      <td>0.811863</td>\n",
       "      <td>0.746554</td>\n",
       "      <td>95</td>\n",
       "      <td>8</td>\n",
       "      <td>0.241769</td>\n",
       "      <td>0.012936</td>\n",
       "    </tr>\n",
       "    <tr>\n",
       "      <th>9</th>\n",
       "      <td>0.973827</td>\n",
       "      <td>0.744432</td>\n",
       "      <td>37</td>\n",
       "      <td>13</td>\n",
       "      <td>0.126401</td>\n",
       "      <td>0.021553</td>\n",
       "    </tr>\n",
       "    <tr>\n",
       "      <th>10</th>\n",
       "      <td>0.972814</td>\n",
       "      <td>0.744279</td>\n",
       "      <td>31</td>\n",
       "      <td>13</td>\n",
       "      <td>0.107798</td>\n",
       "      <td>0.023879</td>\n",
       "    </tr>\n",
       "  </tbody>\n",
       "</table>\n",
       "</div>"
      ],
      "text/plain": [
       "                 mean_train_score  mean_test_score  \\\n",
       "rank_test_score                                      \n",
       "1                        0.921448         0.752303   \n",
       "2                        0.880309         0.751038   \n",
       "3                        0.845447         0.749211   \n",
       "4                        0.918970         0.748775   \n",
       "5                        0.974855         0.747168   \n",
       "6                        0.954433         0.747135   \n",
       "7                        0.954273         0.746674   \n",
       "8                        0.811863         0.746554   \n",
       "9                        0.973827         0.744432   \n",
       "10                       0.972814         0.744279   \n",
       "\n",
       "                param_randomforestclassifier__n_estimators  \\\n",
       "rank_test_score                                              \n",
       "1                                                       62   \n",
       "2                                                       35   \n",
       "3                                                       76   \n",
       "4                                                       42   \n",
       "5                                                       68   \n",
       "6                                                       79   \n",
       "7                                                       67   \n",
       "8                                                       95   \n",
       "9                                                       37   \n",
       "10                                                      31   \n",
       "\n",
       "                param_randomforestclassifier__max_depth  mean_fit_time  \\\n",
       "rank_test_score                                                          \n",
       "1                                                    11       0.192017   \n",
       "2                                                    10       0.106998   \n",
       "3                                                     9       0.207799   \n",
       "4                                                    11       0.131800   \n",
       "5                                                    13       0.248603   \n",
       "6                                                    12       0.256402   \n",
       "7                                                    12       0.217201   \n",
       "8                                                     8       0.241769   \n",
       "9                                                    13       0.126401   \n",
       "10                                                   13       0.107798   \n",
       "\n",
       "                 std_test_score  \n",
       "rank_test_score                  \n",
       "1                      0.020466  \n",
       "2                      0.015715  \n",
       "3                      0.017089  \n",
       "4                      0.019571  \n",
       "5                      0.026356  \n",
       "6                      0.025203  \n",
       "7                      0.023365  \n",
       "8                      0.012936  \n",
       "9                      0.021553  \n",
       "10                     0.023879  "
      ]
     },
     "execution_count": 35,
     "metadata": {},
     "output_type": "execute_result"
    }
   ],
   "source": [
    "pd.DataFrame(random_search_rf.cv_results_)[\n",
    "    [\n",
    "        \"mean_train_score\",\n",
    "        \"mean_test_score\",\n",
    "        \"param_randomforestclassifier__n_estimators\",\n",
    "        \"param_randomforestclassifier__max_depth\",\n",
    "        \"mean_fit_time\",\n",
    "        \"rank_test_score\",\n",
    "        \"std_test_score\",\n",
    "    ]\n",
    "].set_index(\"rank_test_score\").sort_index()[:10]"
   ]
  },
  {
   "cell_type": "code",
   "execution_count": 36,
   "id": "ad46151a-a4e2-4f62-8012-d17f75313b1e",
   "metadata": {},
   "outputs": [
    {
     "data": {
      "text/html": [
       "<div>\n",
       "<style scoped>\n",
       "    .dataframe tbody tr th:only-of-type {\n",
       "        vertical-align: middle;\n",
       "    }\n",
       "\n",
       "    .dataframe tbody tr th {\n",
       "        vertical-align: top;\n",
       "    }\n",
       "\n",
       "    .dataframe thead th {\n",
       "        text-align: right;\n",
       "    }\n",
       "</style>\n",
       "<table border=\"1\" class=\"dataframe\">\n",
       "  <thead>\n",
       "    <tr style=\"text-align: right;\">\n",
       "      <th></th>\n",
       "      <th>fit_time</th>\n",
       "      <th>score_time</th>\n",
       "      <th>test_score</th>\n",
       "      <th>train_score</th>\n",
       "    </tr>\n",
       "  </thead>\n",
       "  <tbody>\n",
       "    <tr>\n",
       "      <th>dummy</th>\n",
       "      <td>0.001 (+/- 0.001)</td>\n",
       "      <td>0.001 (+/- 0.001)</td>\n",
       "      <td>0.498 (+/- 0.012)</td>\n",
       "      <td>0.502 (+/- 0.009)</td>\n",
       "    </tr>\n",
       "    <tr>\n",
       "      <th>logreg</th>\n",
       "      <td>0.022 (+/- 0.004)</td>\n",
       "      <td>0.005 (+/- 0.001)</td>\n",
       "      <td>0.644 (+/- 0.016)</td>\n",
       "      <td>0.645 (+/- 0.004)</td>\n",
       "    </tr>\n",
       "    <tr>\n",
       "      <th>logreg (tuned)</th>\n",
       "      <td>0.015 (+/- 0.001)</td>\n",
       "      <td>0.004 (+/- 0.000)</td>\n",
       "      <td>0.649 (+/- 0.012)</td>\n",
       "      <td>0.652 (+/- 0.006)</td>\n",
       "    </tr>\n",
       "    <tr>\n",
       "      <th>RBF SVM</th>\n",
       "      <td>0.315 (+/- 0.007)</td>\n",
       "      <td>0.144 (+/- 0.007)</td>\n",
       "      <td>0.718 (+/- 0.024)</td>\n",
       "      <td>0.736 (+/- 0.012)</td>\n",
       "    </tr>\n",
       "    <tr>\n",
       "      <th>random forest</th>\n",
       "      <td>0.359 (+/- 0.003)</td>\n",
       "      <td>0.021 (+/- 0.001)</td>\n",
       "      <td>0.733 (+/- 0.030)</td>\n",
       "      <td>1.000 (+/- 0.000)</td>\n",
       "    </tr>\n",
       "    <tr>\n",
       "      <th>xgboost</th>\n",
       "      <td>0.157 (+/- 0.003)</td>\n",
       "      <td>0.008 (+/- 0.001)</td>\n",
       "      <td>0.728 (+/- 0.018)</td>\n",
       "      <td>0.958 (+/- 0.005)</td>\n",
       "    </tr>\n",
       "    <tr>\n",
       "      <th>lgbm</th>\n",
       "      <td>0.059 (+/- 0.004)</td>\n",
       "      <td>0.006 (+/- 0.001)</td>\n",
       "      <td>0.738 (+/- 0.013)</td>\n",
       "      <td>0.882 (+/- 0.005)</td>\n",
       "    </tr>\n",
       "    <tr>\n",
       "      <th>random forest+ feat_sel</th>\n",
       "      <td>0.378 (+/- 0.014)</td>\n",
       "      <td>0.022 (+/- 0.001)</td>\n",
       "      <td>0.733 (+/- 0.032)</td>\n",
       "      <td>1.000 (+/- 0.000)</td>\n",
       "    </tr>\n",
       "    <tr>\n",
       "      <th>xgboost+ feat_sel</th>\n",
       "      <td>0.163 (+/- 0.002)</td>\n",
       "      <td>0.008 (+/- 0.001)</td>\n",
       "      <td>0.728 (+/- 0.018)</td>\n",
       "      <td>0.958 (+/- 0.005)</td>\n",
       "    </tr>\n",
       "    <tr>\n",
       "      <th>lgbm+ feat_sel</th>\n",
       "      <td>0.068 (+/- 0.004)</td>\n",
       "      <td>0.006 (+/- 0.001)</td>\n",
       "      <td>0.739 (+/- 0.014)</td>\n",
       "      <td>0.881 (+/- 0.005)</td>\n",
       "    </tr>\n",
       "    <tr>\n",
       "      <th>random forest (tuned)</th>\n",
       "      <td>0.196 (+/- 0.006)</td>\n",
       "      <td>0.013 (+/- 0.000)</td>\n",
       "      <td>0.752 (+/- 0.023)</td>\n",
       "      <td>0.921 (+/- 0.006)</td>\n",
       "    </tr>\n",
       "  </tbody>\n",
       "</table>\n",
       "</div>"
      ],
      "text/plain": [
       "                                  fit_time         score_time  \\\n",
       "dummy                    0.001 (+/- 0.001)  0.001 (+/- 0.001)   \n",
       "logreg                   0.022 (+/- 0.004)  0.005 (+/- 0.001)   \n",
       "logreg (tuned)           0.015 (+/- 0.001)  0.004 (+/- 0.000)   \n",
       "RBF SVM                  0.315 (+/- 0.007)  0.144 (+/- 0.007)   \n",
       "random forest            0.359 (+/- 0.003)  0.021 (+/- 0.001)   \n",
       "xgboost                  0.157 (+/- 0.003)  0.008 (+/- 0.001)   \n",
       "lgbm                     0.059 (+/- 0.004)  0.006 (+/- 0.001)   \n",
       "random forest+ feat_sel  0.378 (+/- 0.014)  0.022 (+/- 0.001)   \n",
       "xgboost+ feat_sel        0.163 (+/- 0.002)  0.008 (+/- 0.001)   \n",
       "lgbm+ feat_sel           0.068 (+/- 0.004)  0.006 (+/- 0.001)   \n",
       "random forest (tuned)    0.196 (+/- 0.006)  0.013 (+/- 0.000)   \n",
       "\n",
       "                                test_score        train_score  \n",
       "dummy                    0.498 (+/- 0.012)  0.502 (+/- 0.009)  \n",
       "logreg                   0.644 (+/- 0.016)  0.645 (+/- 0.004)  \n",
       "logreg (tuned)           0.649 (+/- 0.012)  0.652 (+/- 0.006)  \n",
       "RBF SVM                  0.718 (+/- 0.024)  0.736 (+/- 0.012)  \n",
       "random forest            0.733 (+/- 0.030)  1.000 (+/- 0.000)  \n",
       "xgboost                  0.728 (+/- 0.018)  0.958 (+/- 0.005)  \n",
       "lgbm                     0.738 (+/- 0.013)  0.882 (+/- 0.005)  \n",
       "random forest+ feat_sel  0.733 (+/- 0.032)  1.000 (+/- 0.000)  \n",
       "xgboost+ feat_sel        0.728 (+/- 0.018)  0.958 (+/- 0.005)  \n",
       "lgbm+ feat_sel           0.739 (+/- 0.014)  0.881 (+/- 0.005)  \n",
       "random forest (tuned)    0.752 (+/- 0.023)  0.921 (+/- 0.006)  "
      ]
     },
     "execution_count": 36,
     "metadata": {},
     "output_type": "execute_result"
    }
   ],
   "source": [
    "best_rf_model = random_search_rf.best_estimator_\n",
    "results[\"random forest (tuned)\"] = mean_std_cross_val_scores(\n",
    "    best_rf_model, X_train, y_train, return_train_score=True, scoring=scoring_metric\n",
    ")\n",
    "pd.DataFrame(results).T"
   ]
  },
  {
   "cell_type": "markdown",
   "id": "8cb00e48-9e15-4e76-b9eb-5b25767d17e8",
   "metadata": {},
   "source": [
    "## 10.2 XGBoost hyperparameter optimization"
   ]
  },
  {
   "cell_type": "code",
   "execution_count": 37,
   "id": "17f8ffd0-9428-4f27-b46f-0a8c6797cc1d",
   "metadata": {},
   "outputs": [],
   "source": [
    "param_grid_xgboost = {\n",
    "    \"xgbclassifier__n_estimators\": randint(10, 100),\n",
    "    \"xgbclassifier__max_depth\": randint(low=2, high=20),\n",
    "    \"xgbclassifier__learning_rate\": [0.01, 0.1],\n",
    "    \"xgbclassifier__subsample\": [0.5, 0.75, 1],\n",
    "}\n",
    "\n",
    "pipe_xgboost = make_pipeline(\n",
    "    preprocessor,\n",
    "    models[\"xgboost\"],\n",
    ")"
   ]
  },
  {
   "cell_type": "code",
   "execution_count": 38,
   "id": "2ea993e1-49e5-4c00-849f-25a5f70489d5",
   "metadata": {},
   "outputs": [
    {
     "name": "stdout",
     "output_type": "stream",
     "text": [
      "Fitting 5 folds for each of 50 candidates, totalling 250 fits\n"
     ]
    },
    {
     "data": {
      "text/html": [
       "<style>#sk-container-id-4 {color: black;background-color: white;}#sk-container-id-4 pre{padding: 0;}#sk-container-id-4 div.sk-toggleable {background-color: white;}#sk-container-id-4 label.sk-toggleable__label {cursor: pointer;display: block;width: 100%;margin-bottom: 0;padding: 0.3em;box-sizing: border-box;text-align: center;}#sk-container-id-4 label.sk-toggleable__label-arrow:before {content: \"▸\";float: left;margin-right: 0.25em;color: #696969;}#sk-container-id-4 label.sk-toggleable__label-arrow:hover:before {color: black;}#sk-container-id-4 div.sk-estimator:hover label.sk-toggleable__label-arrow:before {color: black;}#sk-container-id-4 div.sk-toggleable__content {max-height: 0;max-width: 0;overflow: hidden;text-align: left;background-color: #f0f8ff;}#sk-container-id-4 div.sk-toggleable__content pre {margin: 0.2em;color: black;border-radius: 0.25em;background-color: #f0f8ff;}#sk-container-id-4 input.sk-toggleable__control:checked~div.sk-toggleable__content {max-height: 200px;max-width: 100%;overflow: auto;}#sk-container-id-4 input.sk-toggleable__control:checked~label.sk-toggleable__label-arrow:before {content: \"▾\";}#sk-container-id-4 div.sk-estimator input.sk-toggleable__control:checked~label.sk-toggleable__label {background-color: #d4ebff;}#sk-container-id-4 div.sk-label input.sk-toggleable__control:checked~label.sk-toggleable__label {background-color: #d4ebff;}#sk-container-id-4 input.sk-hidden--visually {border: 0;clip: rect(1px 1px 1px 1px);clip: rect(1px, 1px, 1px, 1px);height: 1px;margin: -1px;overflow: hidden;padding: 0;position: absolute;width: 1px;}#sk-container-id-4 div.sk-estimator {font-family: monospace;background-color: #f0f8ff;border: 1px dotted black;border-radius: 0.25em;box-sizing: border-box;margin-bottom: 0.5em;}#sk-container-id-4 div.sk-estimator:hover {background-color: #d4ebff;}#sk-container-id-4 div.sk-parallel-item::after {content: \"\";width: 100%;border-bottom: 1px solid gray;flex-grow: 1;}#sk-container-id-4 div.sk-label:hover label.sk-toggleable__label {background-color: #d4ebff;}#sk-container-id-4 div.sk-serial::before {content: \"\";position: absolute;border-left: 1px solid gray;box-sizing: border-box;top: 0;bottom: 0;left: 50%;z-index: 0;}#sk-container-id-4 div.sk-serial {display: flex;flex-direction: column;align-items: center;background-color: white;padding-right: 0.2em;padding-left: 0.2em;position: relative;}#sk-container-id-4 div.sk-item {position: relative;z-index: 1;}#sk-container-id-4 div.sk-parallel {display: flex;align-items: stretch;justify-content: center;background-color: white;position: relative;}#sk-container-id-4 div.sk-item::before, #sk-container-id-4 div.sk-parallel-item::before {content: \"\";position: absolute;border-left: 1px solid gray;box-sizing: border-box;top: 0;bottom: 0;left: 50%;z-index: -1;}#sk-container-id-4 div.sk-parallel-item {display: flex;flex-direction: column;z-index: 1;position: relative;background-color: white;}#sk-container-id-4 div.sk-parallel-item:first-child::after {align-self: flex-end;width: 50%;}#sk-container-id-4 div.sk-parallel-item:last-child::after {align-self: flex-start;width: 50%;}#sk-container-id-4 div.sk-parallel-item:only-child::after {width: 0;}#sk-container-id-4 div.sk-dashed-wrapped {border: 1px dashed gray;margin: 0 0.4em 0.5em 0.4em;box-sizing: border-box;padding-bottom: 0.4em;background-color: white;}#sk-container-id-4 div.sk-label label {font-family: monospace;font-weight: bold;display: inline-block;line-height: 1.2em;}#sk-container-id-4 div.sk-label-container {text-align: center;}#sk-container-id-4 div.sk-container {/* jupyter's `normalize.less` sets `[hidden] { display: none; }` but bootstrap.min.css set `[hidden] { display: none !important; }` so we also need the `!important` here to be able to override the default hidden behavior on the sphinx rendered scikit-learn.org. See: https://github.com/scikit-learn/scikit-learn/issues/21755 */display: inline-block !important;position: relative;}#sk-container-id-4 div.sk-text-repr-fallback {display: none;}</style><div id=\"sk-container-id-4\" class=\"sk-top-container\"><div class=\"sk-text-repr-fallback\"><pre>RandomizedSearchCV(estimator=Pipeline(steps=[(&#x27;columntransformer&#x27;,\n",
       "                                              ColumnTransformer(transformers=[(&#x27;standardscaler&#x27;,\n",
       "                                                                               StandardScaler(),\n",
       "                                                                               [&#x27;CreditScore&#x27;,\n",
       "                                                                                &#x27;Age&#x27;,\n",
       "                                                                                &#x27;Tenure&#x27;,\n",
       "                                                                                &#x27;Balance&#x27;,\n",
       "                                                                                &#x27;NumOfProducts&#x27;,\n",
       "                                                                                &#x27;EstimatedSalary&#x27;]),\n",
       "                                                                              (&#x27;onehotencoder-1&#x27;,\n",
       "                                                                               OneHotEncoder(handle_unknown=&#x27;ignore&#x27;,\n",
       "                                                                                             sparse=False),\n",
       "                                                                               [&#x27;Geography&#x27;]),\n",
       "                                                                              (&#x27;onehotencoder-2&#x27;,\n",
       "                                                                               OneHotEncoder(drop=&#x27;if_binary&#x27;,\n",
       "                                                                                             dtype...\n",
       "                                        &#x27;xgbclassifier__max_depth&#x27;: &lt;scipy.stats._distn_infrastructure.rv_discrete_frozen object at 0x000002BB0FBB1FF0&gt;,\n",
       "                                        &#x27;xgbclassifier__n_estimators&#x27;: &lt;scipy.stats._distn_infrastructure.rv_discrete_frozen object at 0x000002BB0FBB3D30&gt;,\n",
       "                                        &#x27;xgbclassifier__subsample&#x27;: [0.5, 0.75,\n",
       "                                                                     1]},\n",
       "                   random_state=123, return_train_score=True,\n",
       "                   scoring=make_scorer(f1_score, average=macro), verbose=1)</pre><b>In a Jupyter environment, please rerun this cell to show the HTML representation or trust the notebook. <br />On GitHub, the HTML representation is unable to render, please try loading this page with nbviewer.org.</b></div><div class=\"sk-container\" hidden><div class=\"sk-item sk-dashed-wrapped\"><div class=\"sk-label-container\"><div class=\"sk-label sk-toggleable\"><input class=\"sk-toggleable__control sk-hidden--visually\" id=\"sk-estimator-id-28\" type=\"checkbox\" ><label for=\"sk-estimator-id-28\" class=\"sk-toggleable__label sk-toggleable__label-arrow\">RandomizedSearchCV</label><div class=\"sk-toggleable__content\"><pre>RandomizedSearchCV(estimator=Pipeline(steps=[(&#x27;columntransformer&#x27;,\n",
       "                                              ColumnTransformer(transformers=[(&#x27;standardscaler&#x27;,\n",
       "                                                                               StandardScaler(),\n",
       "                                                                               [&#x27;CreditScore&#x27;,\n",
       "                                                                                &#x27;Age&#x27;,\n",
       "                                                                                &#x27;Tenure&#x27;,\n",
       "                                                                                &#x27;Balance&#x27;,\n",
       "                                                                                &#x27;NumOfProducts&#x27;,\n",
       "                                                                                &#x27;EstimatedSalary&#x27;]),\n",
       "                                                                              (&#x27;onehotencoder-1&#x27;,\n",
       "                                                                               OneHotEncoder(handle_unknown=&#x27;ignore&#x27;,\n",
       "                                                                                             sparse=False),\n",
       "                                                                               [&#x27;Geography&#x27;]),\n",
       "                                                                              (&#x27;onehotencoder-2&#x27;,\n",
       "                                                                               OneHotEncoder(drop=&#x27;if_binary&#x27;,\n",
       "                                                                                             dtype...\n",
       "                                        &#x27;xgbclassifier__max_depth&#x27;: &lt;scipy.stats._distn_infrastructure.rv_discrete_frozen object at 0x000002BB0FBB1FF0&gt;,\n",
       "                                        &#x27;xgbclassifier__n_estimators&#x27;: &lt;scipy.stats._distn_infrastructure.rv_discrete_frozen object at 0x000002BB0FBB3D30&gt;,\n",
       "                                        &#x27;xgbclassifier__subsample&#x27;: [0.5, 0.75,\n",
       "                                                                     1]},\n",
       "                   random_state=123, return_train_score=True,\n",
       "                   scoring=make_scorer(f1_score, average=macro), verbose=1)</pre></div></div></div><div class=\"sk-parallel\"><div class=\"sk-parallel-item\"><div class=\"sk-item\"><div class=\"sk-label-container\"><div class=\"sk-label sk-toggleable\"><input class=\"sk-toggleable__control sk-hidden--visually\" id=\"sk-estimator-id-29\" type=\"checkbox\" ><label for=\"sk-estimator-id-29\" class=\"sk-toggleable__label sk-toggleable__label-arrow\">estimator: Pipeline</label><div class=\"sk-toggleable__content\"><pre>Pipeline(steps=[(&#x27;columntransformer&#x27;,\n",
       "                 ColumnTransformer(transformers=[(&#x27;standardscaler&#x27;,\n",
       "                                                  StandardScaler(),\n",
       "                                                  [&#x27;CreditScore&#x27;, &#x27;Age&#x27;,\n",
       "                                                   &#x27;Tenure&#x27;, &#x27;Balance&#x27;,\n",
       "                                                   &#x27;NumOfProducts&#x27;,\n",
       "                                                   &#x27;EstimatedSalary&#x27;]),\n",
       "                                                 (&#x27;onehotencoder-1&#x27;,\n",
       "                                                  OneHotEncoder(handle_unknown=&#x27;ignore&#x27;,\n",
       "                                                                sparse=False),\n",
       "                                                  [&#x27;Geography&#x27;]),\n",
       "                                                 (&#x27;onehotencoder-2&#x27;,\n",
       "                                                  OneHotEncoder(drop=&#x27;if_binary&#x27;,\n",
       "                                                                dtype=&lt;class &#x27;int&#x27;&gt;),\n",
       "                                                  [&#x27;Gender&#x27;, &#x27;Has...\n",
       "                               feature_types=None, gamma=None, gpu_id=None,\n",
       "                               grow_policy=None, importance_type=None,\n",
       "                               interaction_constraints=None, learning_rate=None,\n",
       "                               max_bin=None, max_cat_threshold=None,\n",
       "                               max_cat_to_onehot=None, max_delta_step=None,\n",
       "                               max_depth=None, max_leaves=None,\n",
       "                               min_child_weight=None, missing=nan,\n",
       "                               monotone_constraints=None, n_estimators=100,\n",
       "                               n_jobs=None, num_parallel_tree=None,\n",
       "                               predictor=None, random_state=2, ...))])</pre></div></div></div><div class=\"sk-serial\"><div class=\"sk-item\"><div class=\"sk-serial\"><div class=\"sk-item sk-dashed-wrapped\"><div class=\"sk-label-container\"><div class=\"sk-label sk-toggleable\"><input class=\"sk-toggleable__control sk-hidden--visually\" id=\"sk-estimator-id-30\" type=\"checkbox\" ><label for=\"sk-estimator-id-30\" class=\"sk-toggleable__label sk-toggleable__label-arrow\">columntransformer: ColumnTransformer</label><div class=\"sk-toggleable__content\"><pre>ColumnTransformer(transformers=[(&#x27;standardscaler&#x27;, StandardScaler(),\n",
       "                                 [&#x27;CreditScore&#x27;, &#x27;Age&#x27;, &#x27;Tenure&#x27;, &#x27;Balance&#x27;,\n",
       "                                  &#x27;NumOfProducts&#x27;, &#x27;EstimatedSalary&#x27;]),\n",
       "                                (&#x27;onehotencoder-1&#x27;,\n",
       "                                 OneHotEncoder(handle_unknown=&#x27;ignore&#x27;,\n",
       "                                               sparse=False),\n",
       "                                 [&#x27;Geography&#x27;]),\n",
       "                                (&#x27;onehotencoder-2&#x27;,\n",
       "                                 OneHotEncoder(drop=&#x27;if_binary&#x27;,\n",
       "                                               dtype=&lt;class &#x27;int&#x27;&gt;),\n",
       "                                 [&#x27;Gender&#x27;, &#x27;HasCrCard&#x27;, &#x27;IsActiveMember&#x27;])])</pre></div></div></div><div class=\"sk-parallel\"><div class=\"sk-parallel-item\"><div class=\"sk-item\"><div class=\"sk-label-container\"><div class=\"sk-label sk-toggleable\"><input class=\"sk-toggleable__control sk-hidden--visually\" id=\"sk-estimator-id-31\" type=\"checkbox\" ><label for=\"sk-estimator-id-31\" class=\"sk-toggleable__label sk-toggleable__label-arrow\">standardscaler</label><div class=\"sk-toggleable__content\"><pre>[&#x27;CreditScore&#x27;, &#x27;Age&#x27;, &#x27;Tenure&#x27;, &#x27;Balance&#x27;, &#x27;NumOfProducts&#x27;, &#x27;EstimatedSalary&#x27;]</pre></div></div></div><div class=\"sk-serial\"><div class=\"sk-item\"><div class=\"sk-estimator sk-toggleable\"><input class=\"sk-toggleable__control sk-hidden--visually\" id=\"sk-estimator-id-32\" type=\"checkbox\" ><label for=\"sk-estimator-id-32\" class=\"sk-toggleable__label sk-toggleable__label-arrow\">StandardScaler</label><div class=\"sk-toggleable__content\"><pre>StandardScaler()</pre></div></div></div></div></div></div><div class=\"sk-parallel-item\"><div class=\"sk-item\"><div class=\"sk-label-container\"><div class=\"sk-label sk-toggleable\"><input class=\"sk-toggleable__control sk-hidden--visually\" id=\"sk-estimator-id-33\" type=\"checkbox\" ><label for=\"sk-estimator-id-33\" class=\"sk-toggleable__label sk-toggleable__label-arrow\">onehotencoder-1</label><div class=\"sk-toggleable__content\"><pre>[&#x27;Geography&#x27;]</pre></div></div></div><div class=\"sk-serial\"><div class=\"sk-item\"><div class=\"sk-estimator sk-toggleable\"><input class=\"sk-toggleable__control sk-hidden--visually\" id=\"sk-estimator-id-34\" type=\"checkbox\" ><label for=\"sk-estimator-id-34\" class=\"sk-toggleable__label sk-toggleable__label-arrow\">OneHotEncoder</label><div class=\"sk-toggleable__content\"><pre>OneHotEncoder(handle_unknown=&#x27;ignore&#x27;, sparse=False)</pre></div></div></div></div></div></div><div class=\"sk-parallel-item\"><div class=\"sk-item\"><div class=\"sk-label-container\"><div class=\"sk-label sk-toggleable\"><input class=\"sk-toggleable__control sk-hidden--visually\" id=\"sk-estimator-id-35\" type=\"checkbox\" ><label for=\"sk-estimator-id-35\" class=\"sk-toggleable__label sk-toggleable__label-arrow\">onehotencoder-2</label><div class=\"sk-toggleable__content\"><pre>[&#x27;Gender&#x27;, &#x27;HasCrCard&#x27;, &#x27;IsActiveMember&#x27;]</pre></div></div></div><div class=\"sk-serial\"><div class=\"sk-item\"><div class=\"sk-estimator sk-toggleable\"><input class=\"sk-toggleable__control sk-hidden--visually\" id=\"sk-estimator-id-36\" type=\"checkbox\" ><label for=\"sk-estimator-id-36\" class=\"sk-toggleable__label sk-toggleable__label-arrow\">OneHotEncoder</label><div class=\"sk-toggleable__content\"><pre>OneHotEncoder(drop=&#x27;if_binary&#x27;, dtype=&lt;class &#x27;int&#x27;&gt;)</pre></div></div></div></div></div></div></div></div><div class=\"sk-item\"><div class=\"sk-estimator sk-toggleable\"><input class=\"sk-toggleable__control sk-hidden--visually\" id=\"sk-estimator-id-37\" type=\"checkbox\" ><label for=\"sk-estimator-id-37\" class=\"sk-toggleable__label sk-toggleable__label-arrow\">XGBClassifier</label><div class=\"sk-toggleable__content\"><pre>XGBClassifier(base_score=None, booster=None, callbacks=None,\n",
       "              colsample_bylevel=None, colsample_bynode=None,\n",
       "              colsample_bytree=None, early_stopping_rounds=None,\n",
       "              enable_categorical=False, eval_metric=None, feature_types=None,\n",
       "              gamma=None, gpu_id=None, grow_policy=None, importance_type=None,\n",
       "              interaction_constraints=None, learning_rate=None, max_bin=None,\n",
       "              max_cat_threshold=None, max_cat_to_onehot=None,\n",
       "              max_delta_step=None, max_depth=None, max_leaves=None,\n",
       "              min_child_weight=None, missing=nan, monotone_constraints=None,\n",
       "              n_estimators=100, n_jobs=None, num_parallel_tree=None,\n",
       "              predictor=None, random_state=2, ...)</pre></div></div></div></div></div></div></div></div></div></div></div></div>"
      ],
      "text/plain": [
       "RandomizedSearchCV(estimator=Pipeline(steps=[('columntransformer',\n",
       "                                              ColumnTransformer(transformers=[('standardscaler',\n",
       "                                                                               StandardScaler(),\n",
       "                                                                               ['CreditScore',\n",
       "                                                                                'Age',\n",
       "                                                                                'Tenure',\n",
       "                                                                                'Balance',\n",
       "                                                                                'NumOfProducts',\n",
       "                                                                                'EstimatedSalary']),\n",
       "                                                                              ('onehotencoder-1',\n",
       "                                                                               OneHotEncoder(handle_unknown='ignore',\n",
       "                                                                                             sparse=False),\n",
       "                                                                               ['Geography']),\n",
       "                                                                              ('onehotencoder-2',\n",
       "                                                                               OneHotEncoder(drop='if_binary',\n",
       "                                                                                             dtype...\n",
       "                                        'xgbclassifier__max_depth': <scipy.stats._distn_infrastructure.rv_discrete_frozen object at 0x000002BB0FBB1FF0>,\n",
       "                                        'xgbclassifier__n_estimators': <scipy.stats._distn_infrastructure.rv_discrete_frozen object at 0x000002BB0FBB3D30>,\n",
       "                                        'xgbclassifier__subsample': [0.5, 0.75,\n",
       "                                                                     1]},\n",
       "                   random_state=123, return_train_score=True,\n",
       "                   scoring=make_scorer(f1_score, average=macro), verbose=1)"
      ]
     },
     "execution_count": 38,
     "metadata": {},
     "output_type": "execute_result"
    }
   ],
   "source": [
    "random_search_xgboost = RandomizedSearchCV(\n",
    "    pipe_xgboost,\n",
    "    param_grid_xgboost,\n",
    "    n_iter=50,\n",
    "    verbose=1,\n",
    "    n_jobs=1,\n",
    "    scoring=scoring_metric,\n",
    "    random_state=123,\n",
    "    return_train_score=True,\n",
    ")\n",
    "\n",
    "random_search_xgboost.fit(X_train, y_train)"
   ]
  },
  {
   "cell_type": "code",
   "execution_count": 39,
   "id": "0eef21ff-cab4-45c8-89bf-25786989b581",
   "metadata": {},
   "outputs": [
    {
     "name": "stdout",
     "output_type": "stream",
     "text": [
      "Best hyperparameter values:  {'xgbclassifier__learning_rate': 0.01, 'xgbclassifier__max_depth': 10, 'xgbclassifier__n_estimators': 84, 'xgbclassifier__subsample': 0.5}\n",
      "Best score: 0.748\n"
     ]
    }
   ],
   "source": [
    "print(\"Best hyperparameter values: \", random_search_xgboost.best_params_)\n",
    "print(\"Best score: %0.3f\" % (random_search_xgboost.best_score_))\n"
   ]
  },
  {
   "cell_type": "code",
   "execution_count": 40,
   "id": "7c24f470-d9e2-4e3f-b3d9-8f644f23fc0b",
   "metadata": {},
   "outputs": [
    {
     "data": {
      "text/html": [
       "<div>\n",
       "<style scoped>\n",
       "    .dataframe tbody tr th:only-of-type {\n",
       "        vertical-align: middle;\n",
       "    }\n",
       "\n",
       "    .dataframe tbody tr th {\n",
       "        vertical-align: top;\n",
       "    }\n",
       "\n",
       "    .dataframe thead th {\n",
       "        text-align: right;\n",
       "    }\n",
       "</style>\n",
       "<table border=\"1\" class=\"dataframe\">\n",
       "  <thead>\n",
       "    <tr style=\"text-align: right;\">\n",
       "      <th></th>\n",
       "      <th>mean_train_score</th>\n",
       "      <th>mean_test_score</th>\n",
       "      <th>param_xgbclassifier__n_estimators</th>\n",
       "      <th>param_xgbclassifier__learning_rate</th>\n",
       "      <th>param_xgbclassifier__subsample</th>\n",
       "      <th>mean_fit_time</th>\n",
       "    </tr>\n",
       "    <tr>\n",
       "      <th>rank_test_score</th>\n",
       "      <th></th>\n",
       "      <th></th>\n",
       "      <th></th>\n",
       "      <th></th>\n",
       "      <th></th>\n",
       "      <th></th>\n",
       "    </tr>\n",
       "  </thead>\n",
       "  <tbody>\n",
       "    <tr>\n",
       "      <th>1</th>\n",
       "      <td>0.871378</td>\n",
       "      <td>0.747983</td>\n",
       "      <td>84</td>\n",
       "      <td>0.01</td>\n",
       "      <td>0.5</td>\n",
       "      <td>0.221399</td>\n",
       "    </tr>\n",
       "    <tr>\n",
       "      <th>2</th>\n",
       "      <td>0.946901</td>\n",
       "      <td>0.745714</td>\n",
       "      <td>35</td>\n",
       "      <td>0.1</td>\n",
       "      <td>0.75</td>\n",
       "      <td>0.127201</td>\n",
       "    </tr>\n",
       "    <tr>\n",
       "      <th>3</th>\n",
       "      <td>0.955907</td>\n",
       "      <td>0.745540</td>\n",
       "      <td>97</td>\n",
       "      <td>0.01</td>\n",
       "      <td>0.75</td>\n",
       "      <td>0.409201</td>\n",
       "    </tr>\n",
       "    <tr>\n",
       "      <th>4</th>\n",
       "      <td>0.933118</td>\n",
       "      <td>0.745471</td>\n",
       "      <td>95</td>\n",
       "      <td>0.1</td>\n",
       "      <td>1</td>\n",
       "      <td>0.216800</td>\n",
       "    </tr>\n",
       "    <tr>\n",
       "      <th>5</th>\n",
       "      <td>0.935643</td>\n",
       "      <td>0.745265</td>\n",
       "      <td>75</td>\n",
       "      <td>0.01</td>\n",
       "      <td>0.75</td>\n",
       "      <td>0.297801</td>\n",
       "    </tr>\n",
       "    <tr>\n",
       "      <th>6</th>\n",
       "      <td>0.908032</td>\n",
       "      <td>0.744480</td>\n",
       "      <td>76</td>\n",
       "      <td>0.01</td>\n",
       "      <td>0.5</td>\n",
       "      <td>0.225600</td>\n",
       "    </tr>\n",
       "    <tr>\n",
       "      <th>7</th>\n",
       "      <td>0.911683</td>\n",
       "      <td>0.743693</td>\n",
       "      <td>87</td>\n",
       "      <td>0.01</td>\n",
       "      <td>0.5</td>\n",
       "      <td>0.295401</td>\n",
       "    </tr>\n",
       "    <tr>\n",
       "      <th>8</th>\n",
       "      <td>0.897157</td>\n",
       "      <td>0.743266</td>\n",
       "      <td>50</td>\n",
       "      <td>0.01</td>\n",
       "      <td>0.5</td>\n",
       "      <td>0.173201</td>\n",
       "    </tr>\n",
       "    <tr>\n",
       "      <th>9</th>\n",
       "      <td>0.999726</td>\n",
       "      <td>0.743113</td>\n",
       "      <td>96</td>\n",
       "      <td>0.1</td>\n",
       "      <td>0.75</td>\n",
       "      <td>0.384600</td>\n",
       "    </tr>\n",
       "    <tr>\n",
       "      <th>10</th>\n",
       "      <td>0.980635</td>\n",
       "      <td>0.742556</td>\n",
       "      <td>37</td>\n",
       "      <td>0.1</td>\n",
       "      <td>0.75</td>\n",
       "      <td>0.146000</td>\n",
       "    </tr>\n",
       "  </tbody>\n",
       "</table>\n",
       "</div>"
      ],
      "text/plain": [
       "                 mean_train_score  mean_test_score  \\\n",
       "rank_test_score                                      \n",
       "1                        0.871378         0.747983   \n",
       "2                        0.946901         0.745714   \n",
       "3                        0.955907         0.745540   \n",
       "4                        0.933118         0.745471   \n",
       "5                        0.935643         0.745265   \n",
       "6                        0.908032         0.744480   \n",
       "7                        0.911683         0.743693   \n",
       "8                        0.897157         0.743266   \n",
       "9                        0.999726         0.743113   \n",
       "10                       0.980635         0.742556   \n",
       "\n",
       "                param_xgbclassifier__n_estimators  \\\n",
       "rank_test_score                                     \n",
       "1                                              84   \n",
       "2                                              35   \n",
       "3                                              97   \n",
       "4                                              95   \n",
       "5                                              75   \n",
       "6                                              76   \n",
       "7                                              87   \n",
       "8                                              50   \n",
       "9                                              96   \n",
       "10                                             37   \n",
       "\n",
       "                param_xgbclassifier__learning_rate  \\\n",
       "rank_test_score                                      \n",
       "1                                             0.01   \n",
       "2                                              0.1   \n",
       "3                                             0.01   \n",
       "4                                              0.1   \n",
       "5                                             0.01   \n",
       "6                                             0.01   \n",
       "7                                             0.01   \n",
       "8                                             0.01   \n",
       "9                                              0.1   \n",
       "10                                             0.1   \n",
       "\n",
       "                param_xgbclassifier__subsample  mean_fit_time  \n",
       "rank_test_score                                                \n",
       "1                                          0.5       0.221399  \n",
       "2                                         0.75       0.127201  \n",
       "3                                         0.75       0.409201  \n",
       "4                                            1       0.216800  \n",
       "5                                         0.75       0.297801  \n",
       "6                                          0.5       0.225600  \n",
       "7                                          0.5       0.295401  \n",
       "8                                          0.5       0.173201  \n",
       "9                                         0.75       0.384600  \n",
       "10                                        0.75       0.146000  "
      ]
     },
     "execution_count": 40,
     "metadata": {},
     "output_type": "execute_result"
    }
   ],
   "source": [
    "\n",
    "pd.DataFrame(random_search_xgboost.cv_results_)[\n",
    "    [\n",
    "        \"mean_train_score\",\n",
    "        \"mean_test_score\",\n",
    "        \"param_xgbclassifier__n_estimators\",\n",
    "        \"param_xgbclassifier__learning_rate\",\n",
    "        \"param_xgbclassifier__subsample\",\n",
    "        \"mean_fit_time\",\n",
    "        \"rank_test_score\",\n",
    "    ]\n",
    "].set_index(\"rank_test_score\").sort_index()[:10]"
   ]
  },
  {
   "cell_type": "code",
   "execution_count": 41,
   "id": "26820d0c-bea0-40c1-9836-932628e72ccd",
   "metadata": {},
   "outputs": [
    {
     "data": {
      "text/html": [
       "<div>\n",
       "<style scoped>\n",
       "    .dataframe tbody tr th:only-of-type {\n",
       "        vertical-align: middle;\n",
       "    }\n",
       "\n",
       "    .dataframe tbody tr th {\n",
       "        vertical-align: top;\n",
       "    }\n",
       "\n",
       "    .dataframe thead th {\n",
       "        text-align: right;\n",
       "    }\n",
       "</style>\n",
       "<table border=\"1\" class=\"dataframe\">\n",
       "  <thead>\n",
       "    <tr style=\"text-align: right;\">\n",
       "      <th></th>\n",
       "      <th>fit_time</th>\n",
       "      <th>score_time</th>\n",
       "      <th>test_score</th>\n",
       "      <th>train_score</th>\n",
       "    </tr>\n",
       "  </thead>\n",
       "  <tbody>\n",
       "    <tr>\n",
       "      <th>dummy</th>\n",
       "      <td>0.001 (+/- 0.001)</td>\n",
       "      <td>0.001 (+/- 0.001)</td>\n",
       "      <td>0.498 (+/- 0.012)</td>\n",
       "      <td>0.502 (+/- 0.009)</td>\n",
       "    </tr>\n",
       "    <tr>\n",
       "      <th>logreg</th>\n",
       "      <td>0.022 (+/- 0.004)</td>\n",
       "      <td>0.005 (+/- 0.001)</td>\n",
       "      <td>0.644 (+/- 0.016)</td>\n",
       "      <td>0.645 (+/- 0.004)</td>\n",
       "    </tr>\n",
       "    <tr>\n",
       "      <th>logreg (tuned)</th>\n",
       "      <td>0.015 (+/- 0.001)</td>\n",
       "      <td>0.004 (+/- 0.000)</td>\n",
       "      <td>0.649 (+/- 0.012)</td>\n",
       "      <td>0.652 (+/- 0.006)</td>\n",
       "    </tr>\n",
       "    <tr>\n",
       "      <th>RBF SVM</th>\n",
       "      <td>0.315 (+/- 0.007)</td>\n",
       "      <td>0.144 (+/- 0.007)</td>\n",
       "      <td>0.718 (+/- 0.024)</td>\n",
       "      <td>0.736 (+/- 0.012)</td>\n",
       "    </tr>\n",
       "    <tr>\n",
       "      <th>random forest</th>\n",
       "      <td>0.359 (+/- 0.003)</td>\n",
       "      <td>0.021 (+/- 0.001)</td>\n",
       "      <td>0.733 (+/- 0.030)</td>\n",
       "      <td>1.000 (+/- 0.000)</td>\n",
       "    </tr>\n",
       "    <tr>\n",
       "      <th>xgboost</th>\n",
       "      <td>0.157 (+/- 0.003)</td>\n",
       "      <td>0.008 (+/- 0.001)</td>\n",
       "      <td>0.728 (+/- 0.018)</td>\n",
       "      <td>0.958 (+/- 0.005)</td>\n",
       "    </tr>\n",
       "    <tr>\n",
       "      <th>lgbm</th>\n",
       "      <td>0.059 (+/- 0.004)</td>\n",
       "      <td>0.006 (+/- 0.001)</td>\n",
       "      <td>0.738 (+/- 0.013)</td>\n",
       "      <td>0.882 (+/- 0.005)</td>\n",
       "    </tr>\n",
       "    <tr>\n",
       "      <th>random forest+ feat_sel</th>\n",
       "      <td>0.378 (+/- 0.014)</td>\n",
       "      <td>0.022 (+/- 0.001)</td>\n",
       "      <td>0.733 (+/- 0.032)</td>\n",
       "      <td>1.000 (+/- 0.000)</td>\n",
       "    </tr>\n",
       "    <tr>\n",
       "      <th>xgboost+ feat_sel</th>\n",
       "      <td>0.163 (+/- 0.002)</td>\n",
       "      <td>0.008 (+/- 0.001)</td>\n",
       "      <td>0.728 (+/- 0.018)</td>\n",
       "      <td>0.958 (+/- 0.005)</td>\n",
       "    </tr>\n",
       "    <tr>\n",
       "      <th>lgbm+ feat_sel</th>\n",
       "      <td>0.068 (+/- 0.004)</td>\n",
       "      <td>0.006 (+/- 0.001)</td>\n",
       "      <td>0.739 (+/- 0.014)</td>\n",
       "      <td>0.881 (+/- 0.005)</td>\n",
       "    </tr>\n",
       "    <tr>\n",
       "      <th>random forest (tuned)</th>\n",
       "      <td>0.196 (+/- 0.006)</td>\n",
       "      <td>0.013 (+/- 0.000)</td>\n",
       "      <td>0.752 (+/- 0.023)</td>\n",
       "      <td>0.921 (+/- 0.006)</td>\n",
       "    </tr>\n",
       "    <tr>\n",
       "      <th>xgboost (tuned)</th>\n",
       "      <td>0.260 (+/- 0.019)</td>\n",
       "      <td>0.009 (+/- 0.001)</td>\n",
       "      <td>0.748 (+/- 0.021)</td>\n",
       "      <td>0.871 (+/- 0.004)</td>\n",
       "    </tr>\n",
       "  </tbody>\n",
       "</table>\n",
       "</div>"
      ],
      "text/plain": [
       "                                  fit_time         score_time  \\\n",
       "dummy                    0.001 (+/- 0.001)  0.001 (+/- 0.001)   \n",
       "logreg                   0.022 (+/- 0.004)  0.005 (+/- 0.001)   \n",
       "logreg (tuned)           0.015 (+/- 0.001)  0.004 (+/- 0.000)   \n",
       "RBF SVM                  0.315 (+/- 0.007)  0.144 (+/- 0.007)   \n",
       "random forest            0.359 (+/- 0.003)  0.021 (+/- 0.001)   \n",
       "xgboost                  0.157 (+/- 0.003)  0.008 (+/- 0.001)   \n",
       "lgbm                     0.059 (+/- 0.004)  0.006 (+/- 0.001)   \n",
       "random forest+ feat_sel  0.378 (+/- 0.014)  0.022 (+/- 0.001)   \n",
       "xgboost+ feat_sel        0.163 (+/- 0.002)  0.008 (+/- 0.001)   \n",
       "lgbm+ feat_sel           0.068 (+/- 0.004)  0.006 (+/- 0.001)   \n",
       "random forest (tuned)    0.196 (+/- 0.006)  0.013 (+/- 0.000)   \n",
       "xgboost (tuned)          0.260 (+/- 0.019)  0.009 (+/- 0.001)   \n",
       "\n",
       "                                test_score        train_score  \n",
       "dummy                    0.498 (+/- 0.012)  0.502 (+/- 0.009)  \n",
       "logreg                   0.644 (+/- 0.016)  0.645 (+/- 0.004)  \n",
       "logreg (tuned)           0.649 (+/- 0.012)  0.652 (+/- 0.006)  \n",
       "RBF SVM                  0.718 (+/- 0.024)  0.736 (+/- 0.012)  \n",
       "random forest            0.733 (+/- 0.030)  1.000 (+/- 0.000)  \n",
       "xgboost                  0.728 (+/- 0.018)  0.958 (+/- 0.005)  \n",
       "lgbm                     0.738 (+/- 0.013)  0.882 (+/- 0.005)  \n",
       "random forest+ feat_sel  0.733 (+/- 0.032)  1.000 (+/- 0.000)  \n",
       "xgboost+ feat_sel        0.728 (+/- 0.018)  0.958 (+/- 0.005)  \n",
       "lgbm+ feat_sel           0.739 (+/- 0.014)  0.881 (+/- 0.005)  \n",
       "random forest (tuned)    0.752 (+/- 0.023)  0.921 (+/- 0.006)  \n",
       "xgboost (tuned)          0.748 (+/- 0.021)  0.871 (+/- 0.004)  "
      ]
     },
     "execution_count": 41,
     "metadata": {},
     "output_type": "execute_result"
    }
   ],
   "source": [
    "best_xgboost_model = random_search_xgboost.best_estimator_\n",
    "results[\"xgboost (tuned)\"] = mean_std_cross_val_scores(\n",
    "    best_xgboost_model, X_train, y_train, return_train_score=True, scoring=scoring_metric\n",
    ")\n",
    "pd.DataFrame(results).T"
   ]
  },
  {
   "cell_type": "markdown",
   "id": "dffb7421-7025-4f82-a204-c2da890e4cb0",
   "metadata": {},
   "source": [
    "## 10.3 LGBM hyperparameter optimization"
   ]
  },
  {
   "cell_type": "code",
   "execution_count": 42,
   "id": "c8167b59-0b4f-4525-8e9d-bc2039c3cddb",
   "metadata": {},
   "outputs": [],
   "source": [
    "param_grid_lgbm = {\n",
    "    \"lgbmclassifier__n_estimators\": randint(10, 100),\n",
    "    \"lgbmclassifier__max_depth\": randint(low=2, high=20),\n",
    "    \"lgbmclassifier__learning_rate\": [0.01, 0.1],\n",
    "    \"lgbmclassifier__subsample\": [0.5, 0.75, 1],\n",
    "}\n",
    "\n",
    "pipe_lgbm = make_pipeline(\n",
    "    preprocessor,\n",
    "    models[\"lgbm\"],\n",
    ")"
   ]
  },
  {
   "cell_type": "code",
   "execution_count": 43,
   "id": "e8e6647a-56f2-4dc4-90e9-f4cf05bad382",
   "metadata": {},
   "outputs": [
    {
     "name": "stdout",
     "output_type": "stream",
     "text": [
      "Fitting 5 folds for each of 50 candidates, totalling 250 fits\n"
     ]
    },
    {
     "data": {
      "text/html": [
       "<style>#sk-container-id-5 {color: black;background-color: white;}#sk-container-id-5 pre{padding: 0;}#sk-container-id-5 div.sk-toggleable {background-color: white;}#sk-container-id-5 label.sk-toggleable__label {cursor: pointer;display: block;width: 100%;margin-bottom: 0;padding: 0.3em;box-sizing: border-box;text-align: center;}#sk-container-id-5 label.sk-toggleable__label-arrow:before {content: \"▸\";float: left;margin-right: 0.25em;color: #696969;}#sk-container-id-5 label.sk-toggleable__label-arrow:hover:before {color: black;}#sk-container-id-5 div.sk-estimator:hover label.sk-toggleable__label-arrow:before {color: black;}#sk-container-id-5 div.sk-toggleable__content {max-height: 0;max-width: 0;overflow: hidden;text-align: left;background-color: #f0f8ff;}#sk-container-id-5 div.sk-toggleable__content pre {margin: 0.2em;color: black;border-radius: 0.25em;background-color: #f0f8ff;}#sk-container-id-5 input.sk-toggleable__control:checked~div.sk-toggleable__content {max-height: 200px;max-width: 100%;overflow: auto;}#sk-container-id-5 input.sk-toggleable__control:checked~label.sk-toggleable__label-arrow:before {content: \"▾\";}#sk-container-id-5 div.sk-estimator input.sk-toggleable__control:checked~label.sk-toggleable__label {background-color: #d4ebff;}#sk-container-id-5 div.sk-label input.sk-toggleable__control:checked~label.sk-toggleable__label {background-color: #d4ebff;}#sk-container-id-5 input.sk-hidden--visually {border: 0;clip: rect(1px 1px 1px 1px);clip: rect(1px, 1px, 1px, 1px);height: 1px;margin: -1px;overflow: hidden;padding: 0;position: absolute;width: 1px;}#sk-container-id-5 div.sk-estimator {font-family: monospace;background-color: #f0f8ff;border: 1px dotted black;border-radius: 0.25em;box-sizing: border-box;margin-bottom: 0.5em;}#sk-container-id-5 div.sk-estimator:hover {background-color: #d4ebff;}#sk-container-id-5 div.sk-parallel-item::after {content: \"\";width: 100%;border-bottom: 1px solid gray;flex-grow: 1;}#sk-container-id-5 div.sk-label:hover label.sk-toggleable__label {background-color: #d4ebff;}#sk-container-id-5 div.sk-serial::before {content: \"\";position: absolute;border-left: 1px solid gray;box-sizing: border-box;top: 0;bottom: 0;left: 50%;z-index: 0;}#sk-container-id-5 div.sk-serial {display: flex;flex-direction: column;align-items: center;background-color: white;padding-right: 0.2em;padding-left: 0.2em;position: relative;}#sk-container-id-5 div.sk-item {position: relative;z-index: 1;}#sk-container-id-5 div.sk-parallel {display: flex;align-items: stretch;justify-content: center;background-color: white;position: relative;}#sk-container-id-5 div.sk-item::before, #sk-container-id-5 div.sk-parallel-item::before {content: \"\";position: absolute;border-left: 1px solid gray;box-sizing: border-box;top: 0;bottom: 0;left: 50%;z-index: -1;}#sk-container-id-5 div.sk-parallel-item {display: flex;flex-direction: column;z-index: 1;position: relative;background-color: white;}#sk-container-id-5 div.sk-parallel-item:first-child::after {align-self: flex-end;width: 50%;}#sk-container-id-5 div.sk-parallel-item:last-child::after {align-self: flex-start;width: 50%;}#sk-container-id-5 div.sk-parallel-item:only-child::after {width: 0;}#sk-container-id-5 div.sk-dashed-wrapped {border: 1px dashed gray;margin: 0 0.4em 0.5em 0.4em;box-sizing: border-box;padding-bottom: 0.4em;background-color: white;}#sk-container-id-5 div.sk-label label {font-family: monospace;font-weight: bold;display: inline-block;line-height: 1.2em;}#sk-container-id-5 div.sk-label-container {text-align: center;}#sk-container-id-5 div.sk-container {/* jupyter's `normalize.less` sets `[hidden] { display: none; }` but bootstrap.min.css set `[hidden] { display: none !important; }` so we also need the `!important` here to be able to override the default hidden behavior on the sphinx rendered scikit-learn.org. See: https://github.com/scikit-learn/scikit-learn/issues/21755 */display: inline-block !important;position: relative;}#sk-container-id-5 div.sk-text-repr-fallback {display: none;}</style><div id=\"sk-container-id-5\" class=\"sk-top-container\"><div class=\"sk-text-repr-fallback\"><pre>RandomizedSearchCV(estimator=Pipeline(steps=[(&#x27;columntransformer&#x27;,\n",
       "                                              ColumnTransformer(transformers=[(&#x27;standardscaler&#x27;,\n",
       "                                                                               StandardScaler(),\n",
       "                                                                               [&#x27;CreditScore&#x27;,\n",
       "                                                                                &#x27;Age&#x27;,\n",
       "                                                                                &#x27;Tenure&#x27;,\n",
       "                                                                                &#x27;Balance&#x27;,\n",
       "                                                                                &#x27;NumOfProducts&#x27;,\n",
       "                                                                                &#x27;EstimatedSalary&#x27;]),\n",
       "                                                                              (&#x27;onehotencoder-1&#x27;,\n",
       "                                                                               OneHotEncoder(handle_unknown=&#x27;ignore&#x27;,\n",
       "                                                                                             sparse=False),\n",
       "                                                                               [&#x27;Geography&#x27;]),\n",
       "                                                                              (&#x27;onehotencoder-2&#x27;,\n",
       "                                                                               OneHotEncoder(drop=&#x27;if_binary&#x27;,\n",
       "                                                                                             dtype...\n",
       "                                        &#x27;lgbmclassifier__max_depth&#x27;: &lt;scipy.stats._distn_infrastructure.rv_discrete_frozen object at 0x000002BB0FBE4790&gt;,\n",
       "                                        &#x27;lgbmclassifier__n_estimators&#x27;: &lt;scipy.stats._distn_infrastructure.rv_discrete_frozen object at 0x000002BB05E6D8A0&gt;,\n",
       "                                        &#x27;lgbmclassifier__subsample&#x27;: [0.5, 0.75,\n",
       "                                                                      1]},\n",
       "                   random_state=123, return_train_score=True,\n",
       "                   scoring=make_scorer(f1_score, average=macro), verbose=1)</pre><b>In a Jupyter environment, please rerun this cell to show the HTML representation or trust the notebook. <br />On GitHub, the HTML representation is unable to render, please try loading this page with nbviewer.org.</b></div><div class=\"sk-container\" hidden><div class=\"sk-item sk-dashed-wrapped\"><div class=\"sk-label-container\"><div class=\"sk-label sk-toggleable\"><input class=\"sk-toggleable__control sk-hidden--visually\" id=\"sk-estimator-id-38\" type=\"checkbox\" ><label for=\"sk-estimator-id-38\" class=\"sk-toggleable__label sk-toggleable__label-arrow\">RandomizedSearchCV</label><div class=\"sk-toggleable__content\"><pre>RandomizedSearchCV(estimator=Pipeline(steps=[(&#x27;columntransformer&#x27;,\n",
       "                                              ColumnTransformer(transformers=[(&#x27;standardscaler&#x27;,\n",
       "                                                                               StandardScaler(),\n",
       "                                                                               [&#x27;CreditScore&#x27;,\n",
       "                                                                                &#x27;Age&#x27;,\n",
       "                                                                                &#x27;Tenure&#x27;,\n",
       "                                                                                &#x27;Balance&#x27;,\n",
       "                                                                                &#x27;NumOfProducts&#x27;,\n",
       "                                                                                &#x27;EstimatedSalary&#x27;]),\n",
       "                                                                              (&#x27;onehotencoder-1&#x27;,\n",
       "                                                                               OneHotEncoder(handle_unknown=&#x27;ignore&#x27;,\n",
       "                                                                                             sparse=False),\n",
       "                                                                               [&#x27;Geography&#x27;]),\n",
       "                                                                              (&#x27;onehotencoder-2&#x27;,\n",
       "                                                                               OneHotEncoder(drop=&#x27;if_binary&#x27;,\n",
       "                                                                                             dtype...\n",
       "                                        &#x27;lgbmclassifier__max_depth&#x27;: &lt;scipy.stats._distn_infrastructure.rv_discrete_frozen object at 0x000002BB0FBE4790&gt;,\n",
       "                                        &#x27;lgbmclassifier__n_estimators&#x27;: &lt;scipy.stats._distn_infrastructure.rv_discrete_frozen object at 0x000002BB05E6D8A0&gt;,\n",
       "                                        &#x27;lgbmclassifier__subsample&#x27;: [0.5, 0.75,\n",
       "                                                                      1]},\n",
       "                   random_state=123, return_train_score=True,\n",
       "                   scoring=make_scorer(f1_score, average=macro), verbose=1)</pre></div></div></div><div class=\"sk-parallel\"><div class=\"sk-parallel-item\"><div class=\"sk-item\"><div class=\"sk-label-container\"><div class=\"sk-label sk-toggleable\"><input class=\"sk-toggleable__control sk-hidden--visually\" id=\"sk-estimator-id-39\" type=\"checkbox\" ><label for=\"sk-estimator-id-39\" class=\"sk-toggleable__label sk-toggleable__label-arrow\">estimator: Pipeline</label><div class=\"sk-toggleable__content\"><pre>Pipeline(steps=[(&#x27;columntransformer&#x27;,\n",
       "                 ColumnTransformer(transformers=[(&#x27;standardscaler&#x27;,\n",
       "                                                  StandardScaler(),\n",
       "                                                  [&#x27;CreditScore&#x27;, &#x27;Age&#x27;,\n",
       "                                                   &#x27;Tenure&#x27;, &#x27;Balance&#x27;,\n",
       "                                                   &#x27;NumOfProducts&#x27;,\n",
       "                                                   &#x27;EstimatedSalary&#x27;]),\n",
       "                                                 (&#x27;onehotencoder-1&#x27;,\n",
       "                                                  OneHotEncoder(handle_unknown=&#x27;ignore&#x27;,\n",
       "                                                                sparse=False),\n",
       "                                                  [&#x27;Geography&#x27;]),\n",
       "                                                 (&#x27;onehotencoder-2&#x27;,\n",
       "                                                  OneHotEncoder(drop=&#x27;if_binary&#x27;,\n",
       "                                                                dtype=&lt;class &#x27;int&#x27;&gt;),\n",
       "                                                  [&#x27;Gender&#x27;, &#x27;HasCrCard&#x27;,\n",
       "                                                   &#x27;IsActiveMember&#x27;])])),\n",
       "                (&#x27;lgbmclassifier&#x27;,\n",
       "                 LGBMClassifier(random_state=2,\n",
       "                                scale_pos_weight=3.888268156424581))])</pre></div></div></div><div class=\"sk-serial\"><div class=\"sk-item\"><div class=\"sk-serial\"><div class=\"sk-item sk-dashed-wrapped\"><div class=\"sk-label-container\"><div class=\"sk-label sk-toggleable\"><input class=\"sk-toggleable__control sk-hidden--visually\" id=\"sk-estimator-id-40\" type=\"checkbox\" ><label for=\"sk-estimator-id-40\" class=\"sk-toggleable__label sk-toggleable__label-arrow\">columntransformer: ColumnTransformer</label><div class=\"sk-toggleable__content\"><pre>ColumnTransformer(transformers=[(&#x27;standardscaler&#x27;, StandardScaler(),\n",
       "                                 [&#x27;CreditScore&#x27;, &#x27;Age&#x27;, &#x27;Tenure&#x27;, &#x27;Balance&#x27;,\n",
       "                                  &#x27;NumOfProducts&#x27;, &#x27;EstimatedSalary&#x27;]),\n",
       "                                (&#x27;onehotencoder-1&#x27;,\n",
       "                                 OneHotEncoder(handle_unknown=&#x27;ignore&#x27;,\n",
       "                                               sparse=False),\n",
       "                                 [&#x27;Geography&#x27;]),\n",
       "                                (&#x27;onehotencoder-2&#x27;,\n",
       "                                 OneHotEncoder(drop=&#x27;if_binary&#x27;,\n",
       "                                               dtype=&lt;class &#x27;int&#x27;&gt;),\n",
       "                                 [&#x27;Gender&#x27;, &#x27;HasCrCard&#x27;, &#x27;IsActiveMember&#x27;])])</pre></div></div></div><div class=\"sk-parallel\"><div class=\"sk-parallel-item\"><div class=\"sk-item\"><div class=\"sk-label-container\"><div class=\"sk-label sk-toggleable\"><input class=\"sk-toggleable__control sk-hidden--visually\" id=\"sk-estimator-id-41\" type=\"checkbox\" ><label for=\"sk-estimator-id-41\" class=\"sk-toggleable__label sk-toggleable__label-arrow\">standardscaler</label><div class=\"sk-toggleable__content\"><pre>[&#x27;CreditScore&#x27;, &#x27;Age&#x27;, &#x27;Tenure&#x27;, &#x27;Balance&#x27;, &#x27;NumOfProducts&#x27;, &#x27;EstimatedSalary&#x27;]</pre></div></div></div><div class=\"sk-serial\"><div class=\"sk-item\"><div class=\"sk-estimator sk-toggleable\"><input class=\"sk-toggleable__control sk-hidden--visually\" id=\"sk-estimator-id-42\" type=\"checkbox\" ><label for=\"sk-estimator-id-42\" class=\"sk-toggleable__label sk-toggleable__label-arrow\">StandardScaler</label><div class=\"sk-toggleable__content\"><pre>StandardScaler()</pre></div></div></div></div></div></div><div class=\"sk-parallel-item\"><div class=\"sk-item\"><div class=\"sk-label-container\"><div class=\"sk-label sk-toggleable\"><input class=\"sk-toggleable__control sk-hidden--visually\" id=\"sk-estimator-id-43\" type=\"checkbox\" ><label for=\"sk-estimator-id-43\" class=\"sk-toggleable__label sk-toggleable__label-arrow\">onehotencoder-1</label><div class=\"sk-toggleable__content\"><pre>[&#x27;Geography&#x27;]</pre></div></div></div><div class=\"sk-serial\"><div class=\"sk-item\"><div class=\"sk-estimator sk-toggleable\"><input class=\"sk-toggleable__control sk-hidden--visually\" id=\"sk-estimator-id-44\" type=\"checkbox\" ><label for=\"sk-estimator-id-44\" class=\"sk-toggleable__label sk-toggleable__label-arrow\">OneHotEncoder</label><div class=\"sk-toggleable__content\"><pre>OneHotEncoder(handle_unknown=&#x27;ignore&#x27;, sparse=False)</pre></div></div></div></div></div></div><div class=\"sk-parallel-item\"><div class=\"sk-item\"><div class=\"sk-label-container\"><div class=\"sk-label sk-toggleable\"><input class=\"sk-toggleable__control sk-hidden--visually\" id=\"sk-estimator-id-45\" type=\"checkbox\" ><label for=\"sk-estimator-id-45\" class=\"sk-toggleable__label sk-toggleable__label-arrow\">onehotencoder-2</label><div class=\"sk-toggleable__content\"><pre>[&#x27;Gender&#x27;, &#x27;HasCrCard&#x27;, &#x27;IsActiveMember&#x27;]</pre></div></div></div><div class=\"sk-serial\"><div class=\"sk-item\"><div class=\"sk-estimator sk-toggleable\"><input class=\"sk-toggleable__control sk-hidden--visually\" id=\"sk-estimator-id-46\" type=\"checkbox\" ><label for=\"sk-estimator-id-46\" class=\"sk-toggleable__label sk-toggleable__label-arrow\">OneHotEncoder</label><div class=\"sk-toggleable__content\"><pre>OneHotEncoder(drop=&#x27;if_binary&#x27;, dtype=&lt;class &#x27;int&#x27;&gt;)</pre></div></div></div></div></div></div></div></div><div class=\"sk-item\"><div class=\"sk-estimator sk-toggleable\"><input class=\"sk-toggleable__control sk-hidden--visually\" id=\"sk-estimator-id-47\" type=\"checkbox\" ><label for=\"sk-estimator-id-47\" class=\"sk-toggleable__label sk-toggleable__label-arrow\">LGBMClassifier</label><div class=\"sk-toggleable__content\"><pre>LGBMClassifier(random_state=2, scale_pos_weight=3.888268156424581)</pre></div></div></div></div></div></div></div></div></div></div></div></div>"
      ],
      "text/plain": [
       "RandomizedSearchCV(estimator=Pipeline(steps=[('columntransformer',\n",
       "                                              ColumnTransformer(transformers=[('standardscaler',\n",
       "                                                                               StandardScaler(),\n",
       "                                                                               ['CreditScore',\n",
       "                                                                                'Age',\n",
       "                                                                                'Tenure',\n",
       "                                                                                'Balance',\n",
       "                                                                                'NumOfProducts',\n",
       "                                                                                'EstimatedSalary']),\n",
       "                                                                              ('onehotencoder-1',\n",
       "                                                                               OneHotEncoder(handle_unknown='ignore',\n",
       "                                                                                             sparse=False),\n",
       "                                                                               ['Geography']),\n",
       "                                                                              ('onehotencoder-2',\n",
       "                                                                               OneHotEncoder(drop='if_binary',\n",
       "                                                                                             dtype...\n",
       "                                        'lgbmclassifier__max_depth': <scipy.stats._distn_infrastructure.rv_discrete_frozen object at 0x000002BB0FBE4790>,\n",
       "                                        'lgbmclassifier__n_estimators': <scipy.stats._distn_infrastructure.rv_discrete_frozen object at 0x000002BB05E6D8A0>,\n",
       "                                        'lgbmclassifier__subsample': [0.5, 0.75,\n",
       "                                                                      1]},\n",
       "                   random_state=123, return_train_score=True,\n",
       "                   scoring=make_scorer(f1_score, average=macro), verbose=1)"
      ]
     },
     "execution_count": 43,
     "metadata": {},
     "output_type": "execute_result"
    }
   ],
   "source": [
    "random_search_lgbm = RandomizedSearchCV(\n",
    "    pipe_lgbm,\n",
    "    param_grid_lgbm,\n",
    "    n_iter=50,\n",
    "    verbose=1,\n",
    "    n_jobs=1,\n",
    "    scoring=scoring_metric,\n",
    "    random_state=123,\n",
    "    return_train_score=True,\n",
    ")\n",
    "\n",
    "random_search_lgbm.fit(X_train, y_train)"
   ]
  },
  {
   "cell_type": "code",
   "execution_count": 44,
   "id": "651279a2-794b-407c-8b58-70c1e7254b54",
   "metadata": {},
   "outputs": [
    {
     "name": "stdout",
     "output_type": "stream",
     "text": [
      "Best hyperparameter values:  {'lgbmclassifier__learning_rate': 0.1, 'lgbmclassifier__max_depth': 5, 'lgbmclassifier__n_estimators': 12, 'lgbmclassifier__subsample': 0.5}\n",
      "Best score: 0.755\n"
     ]
    }
   ],
   "source": [
    "print(\"Best hyperparameter values: \", random_search_lgbm.best_params_)\n",
    "print(\"Best score: %0.3f\" % (random_search_lgbm.best_score_))"
   ]
  },
  {
   "cell_type": "code",
   "execution_count": 45,
   "id": "2441f39a-8c84-41ad-840a-4ba2e9264705",
   "metadata": {},
   "outputs": [
    {
     "data": {
      "text/html": [
       "<div>\n",
       "<style scoped>\n",
       "    .dataframe tbody tr th:only-of-type {\n",
       "        vertical-align: middle;\n",
       "    }\n",
       "\n",
       "    .dataframe tbody tr th {\n",
       "        vertical-align: top;\n",
       "    }\n",
       "\n",
       "    .dataframe thead th {\n",
       "        text-align: right;\n",
       "    }\n",
       "</style>\n",
       "<table border=\"1\" class=\"dataframe\">\n",
       "  <thead>\n",
       "    <tr style=\"text-align: right;\">\n",
       "      <th></th>\n",
       "      <th>mean_train_score</th>\n",
       "      <th>mean_test_score</th>\n",
       "      <th>param_lgbmclassifier__n_estimators</th>\n",
       "      <th>param_lgbmclassifier__learning_rate</th>\n",
       "      <th>param_lgbmclassifier__subsample</th>\n",
       "      <th>mean_fit_time</th>\n",
       "    </tr>\n",
       "    <tr>\n",
       "      <th>rank_test_score</th>\n",
       "      <th></th>\n",
       "      <th></th>\n",
       "      <th></th>\n",
       "      <th></th>\n",
       "      <th></th>\n",
       "      <th></th>\n",
       "    </tr>\n",
       "  </thead>\n",
       "  <tbody>\n",
       "    <tr>\n",
       "      <th>1</th>\n",
       "      <td>0.766897</td>\n",
       "      <td>0.755066</td>\n",
       "      <td>12</td>\n",
       "      <td>0.1</td>\n",
       "      <td>0.5</td>\n",
       "      <td>0.020201</td>\n",
       "    </tr>\n",
       "    <tr>\n",
       "      <th>2</th>\n",
       "      <td>0.775696</td>\n",
       "      <td>0.754543</td>\n",
       "      <td>97</td>\n",
       "      <td>0.01</td>\n",
       "      <td>0.75</td>\n",
       "      <td>0.074201</td>\n",
       "    </tr>\n",
       "    <tr>\n",
       "      <th>3</th>\n",
       "      <td>0.767112</td>\n",
       "      <td>0.753219</td>\n",
       "      <td>87</td>\n",
       "      <td>0.01</td>\n",
       "      <td>0.5</td>\n",
       "      <td>0.067600</td>\n",
       "    </tr>\n",
       "    <tr>\n",
       "      <th>4</th>\n",
       "      <td>0.776134</td>\n",
       "      <td>0.752798</td>\n",
       "      <td>96</td>\n",
       "      <td>0.01</td>\n",
       "      <td>1</td>\n",
       "      <td>0.068400</td>\n",
       "    </tr>\n",
       "    <tr>\n",
       "      <th>5</th>\n",
       "      <td>0.782672</td>\n",
       "      <td>0.750501</td>\n",
       "      <td>12</td>\n",
       "      <td>0.1</td>\n",
       "      <td>1</td>\n",
       "      <td>0.020800</td>\n",
       "    </tr>\n",
       "    <tr>\n",
       "      <th>6</th>\n",
       "      <td>0.765521</td>\n",
       "      <td>0.749364</td>\n",
       "      <td>85</td>\n",
       "      <td>0.01</td>\n",
       "      <td>1</td>\n",
       "      <td>0.068201</td>\n",
       "    </tr>\n",
       "    <tr>\n",
       "      <th>7</th>\n",
       "      <td>0.764980</td>\n",
       "      <td>0.748799</td>\n",
       "      <td>84</td>\n",
       "      <td>0.01</td>\n",
       "      <td>0.5</td>\n",
       "      <td>0.071201</td>\n",
       "    </tr>\n",
       "    <tr>\n",
       "      <th>8</th>\n",
       "      <td>0.782981</td>\n",
       "      <td>0.744958</td>\n",
       "      <td>13</td>\n",
       "      <td>0.1</td>\n",
       "      <td>0.5</td>\n",
       "      <td>0.023801</td>\n",
       "    </tr>\n",
       "    <tr>\n",
       "      <th>9</th>\n",
       "      <td>0.752627</td>\n",
       "      <td>0.742268</td>\n",
       "      <td>75</td>\n",
       "      <td>0.01</td>\n",
       "      <td>1</td>\n",
       "      <td>0.056600</td>\n",
       "    </tr>\n",
       "    <tr>\n",
       "      <th>10</th>\n",
       "      <td>0.752410</td>\n",
       "      <td>0.742201</td>\n",
       "      <td>75</td>\n",
       "      <td>0.01</td>\n",
       "      <td>0.75</td>\n",
       "      <td>0.068001</td>\n",
       "    </tr>\n",
       "  </tbody>\n",
       "</table>\n",
       "</div>"
      ],
      "text/plain": [
       "                 mean_train_score  mean_test_score  \\\n",
       "rank_test_score                                      \n",
       "1                        0.766897         0.755066   \n",
       "2                        0.775696         0.754543   \n",
       "3                        0.767112         0.753219   \n",
       "4                        0.776134         0.752798   \n",
       "5                        0.782672         0.750501   \n",
       "6                        0.765521         0.749364   \n",
       "7                        0.764980         0.748799   \n",
       "8                        0.782981         0.744958   \n",
       "9                        0.752627         0.742268   \n",
       "10                       0.752410         0.742201   \n",
       "\n",
       "                param_lgbmclassifier__n_estimators  \\\n",
       "rank_test_score                                      \n",
       "1                                               12   \n",
       "2                                               97   \n",
       "3                                               87   \n",
       "4                                               96   \n",
       "5                                               12   \n",
       "6                                               85   \n",
       "7                                               84   \n",
       "8                                               13   \n",
       "9                                               75   \n",
       "10                                              75   \n",
       "\n",
       "                param_lgbmclassifier__learning_rate  \\\n",
       "rank_test_score                                       \n",
       "1                                               0.1   \n",
       "2                                              0.01   \n",
       "3                                              0.01   \n",
       "4                                              0.01   \n",
       "5                                               0.1   \n",
       "6                                              0.01   \n",
       "7                                              0.01   \n",
       "8                                               0.1   \n",
       "9                                              0.01   \n",
       "10                                             0.01   \n",
       "\n",
       "                param_lgbmclassifier__subsample  mean_fit_time  \n",
       "rank_test_score                                                 \n",
       "1                                           0.5       0.020201  \n",
       "2                                          0.75       0.074201  \n",
       "3                                           0.5       0.067600  \n",
       "4                                             1       0.068400  \n",
       "5                                             1       0.020800  \n",
       "6                                             1       0.068201  \n",
       "7                                           0.5       0.071201  \n",
       "8                                           0.5       0.023801  \n",
       "9                                             1       0.056600  \n",
       "10                                         0.75       0.068001  "
      ]
     },
     "execution_count": 45,
     "metadata": {},
     "output_type": "execute_result"
    }
   ],
   "source": [
    "pd.DataFrame(random_search_lgbm.cv_results_)[\n",
    "    [\n",
    "        \"mean_train_score\",\n",
    "        \"mean_test_score\",\n",
    "        \"param_lgbmclassifier__n_estimators\",\n",
    "        \"param_lgbmclassifier__learning_rate\",\n",
    "        \"param_lgbmclassifier__subsample\",\n",
    "        \"mean_fit_time\",\n",
    "        \"rank_test_score\",\n",
    "    ]\n",
    "].set_index(\"rank_test_score\").sort_index()[:10]"
   ]
  },
  {
   "cell_type": "code",
   "execution_count": 46,
   "id": "8ce2e536-2ae4-419b-b2c3-474e4a30fabc",
   "metadata": {},
   "outputs": [
    {
     "data": {
      "text/html": [
       "<div>\n",
       "<style scoped>\n",
       "    .dataframe tbody tr th:only-of-type {\n",
       "        vertical-align: middle;\n",
       "    }\n",
       "\n",
       "    .dataframe tbody tr th {\n",
       "        vertical-align: top;\n",
       "    }\n",
       "\n",
       "    .dataframe thead th {\n",
       "        text-align: right;\n",
       "    }\n",
       "</style>\n",
       "<table border=\"1\" class=\"dataframe\">\n",
       "  <thead>\n",
       "    <tr style=\"text-align: right;\">\n",
       "      <th></th>\n",
       "      <th>fit_time</th>\n",
       "      <th>score_time</th>\n",
       "      <th>test_score</th>\n",
       "      <th>train_score</th>\n",
       "    </tr>\n",
       "  </thead>\n",
       "  <tbody>\n",
       "    <tr>\n",
       "      <th>dummy</th>\n",
       "      <td>0.001 (+/- 0.001)</td>\n",
       "      <td>0.001 (+/- 0.001)</td>\n",
       "      <td>0.498 (+/- 0.012)</td>\n",
       "      <td>0.502 (+/- 0.009)</td>\n",
       "    </tr>\n",
       "    <tr>\n",
       "      <th>logreg</th>\n",
       "      <td>0.022 (+/- 0.004)</td>\n",
       "      <td>0.005 (+/- 0.001)</td>\n",
       "      <td>0.644 (+/- 0.016)</td>\n",
       "      <td>0.645 (+/- 0.004)</td>\n",
       "    </tr>\n",
       "    <tr>\n",
       "      <th>logreg (tuned)</th>\n",
       "      <td>0.015 (+/- 0.001)</td>\n",
       "      <td>0.004 (+/- 0.000)</td>\n",
       "      <td>0.649 (+/- 0.012)</td>\n",
       "      <td>0.652 (+/- 0.006)</td>\n",
       "    </tr>\n",
       "    <tr>\n",
       "      <th>RBF SVM</th>\n",
       "      <td>0.315 (+/- 0.007)</td>\n",
       "      <td>0.144 (+/- 0.007)</td>\n",
       "      <td>0.718 (+/- 0.024)</td>\n",
       "      <td>0.736 (+/- 0.012)</td>\n",
       "    </tr>\n",
       "    <tr>\n",
       "      <th>random forest</th>\n",
       "      <td>0.359 (+/- 0.003)</td>\n",
       "      <td>0.021 (+/- 0.001)</td>\n",
       "      <td>0.733 (+/- 0.030)</td>\n",
       "      <td>1.000 (+/- 0.000)</td>\n",
       "    </tr>\n",
       "    <tr>\n",
       "      <th>xgboost</th>\n",
       "      <td>0.157 (+/- 0.003)</td>\n",
       "      <td>0.008 (+/- 0.001)</td>\n",
       "      <td>0.728 (+/- 0.018)</td>\n",
       "      <td>0.958 (+/- 0.005)</td>\n",
       "    </tr>\n",
       "    <tr>\n",
       "      <th>lgbm</th>\n",
       "      <td>0.059 (+/- 0.004)</td>\n",
       "      <td>0.006 (+/- 0.001)</td>\n",
       "      <td>0.738 (+/- 0.013)</td>\n",
       "      <td>0.882 (+/- 0.005)</td>\n",
       "    </tr>\n",
       "    <tr>\n",
       "      <th>random forest+ feat_sel</th>\n",
       "      <td>0.378 (+/- 0.014)</td>\n",
       "      <td>0.022 (+/- 0.001)</td>\n",
       "      <td>0.733 (+/- 0.032)</td>\n",
       "      <td>1.000 (+/- 0.000)</td>\n",
       "    </tr>\n",
       "    <tr>\n",
       "      <th>xgboost+ feat_sel</th>\n",
       "      <td>0.163 (+/- 0.002)</td>\n",
       "      <td>0.008 (+/- 0.001)</td>\n",
       "      <td>0.728 (+/- 0.018)</td>\n",
       "      <td>0.958 (+/- 0.005)</td>\n",
       "    </tr>\n",
       "    <tr>\n",
       "      <th>lgbm+ feat_sel</th>\n",
       "      <td>0.068 (+/- 0.004)</td>\n",
       "      <td>0.006 (+/- 0.001)</td>\n",
       "      <td>0.739 (+/- 0.014)</td>\n",
       "      <td>0.881 (+/- 0.005)</td>\n",
       "    </tr>\n",
       "    <tr>\n",
       "      <th>random forest (tuned)</th>\n",
       "      <td>0.196 (+/- 0.006)</td>\n",
       "      <td>0.013 (+/- 0.000)</td>\n",
       "      <td>0.752 (+/- 0.023)</td>\n",
       "      <td>0.921 (+/- 0.006)</td>\n",
       "    </tr>\n",
       "    <tr>\n",
       "      <th>xgboost (tuned)</th>\n",
       "      <td>0.260 (+/- 0.019)</td>\n",
       "      <td>0.009 (+/- 0.001)</td>\n",
       "      <td>0.748 (+/- 0.021)</td>\n",
       "      <td>0.871 (+/- 0.004)</td>\n",
       "    </tr>\n",
       "    <tr>\n",
       "      <th>lgbm (tuned)</th>\n",
       "      <td>0.022 (+/- 0.002)</td>\n",
       "      <td>0.007 (+/- 0.001)</td>\n",
       "      <td>0.755 (+/- 0.024)</td>\n",
       "      <td>0.767 (+/- 0.004)</td>\n",
       "    </tr>\n",
       "  </tbody>\n",
       "</table>\n",
       "</div>"
      ],
      "text/plain": [
       "                                  fit_time         score_time  \\\n",
       "dummy                    0.001 (+/- 0.001)  0.001 (+/- 0.001)   \n",
       "logreg                   0.022 (+/- 0.004)  0.005 (+/- 0.001)   \n",
       "logreg (tuned)           0.015 (+/- 0.001)  0.004 (+/- 0.000)   \n",
       "RBF SVM                  0.315 (+/- 0.007)  0.144 (+/- 0.007)   \n",
       "random forest            0.359 (+/- 0.003)  0.021 (+/- 0.001)   \n",
       "xgboost                  0.157 (+/- 0.003)  0.008 (+/- 0.001)   \n",
       "lgbm                     0.059 (+/- 0.004)  0.006 (+/- 0.001)   \n",
       "random forest+ feat_sel  0.378 (+/- 0.014)  0.022 (+/- 0.001)   \n",
       "xgboost+ feat_sel        0.163 (+/- 0.002)  0.008 (+/- 0.001)   \n",
       "lgbm+ feat_sel           0.068 (+/- 0.004)  0.006 (+/- 0.001)   \n",
       "random forest (tuned)    0.196 (+/- 0.006)  0.013 (+/- 0.000)   \n",
       "xgboost (tuned)          0.260 (+/- 0.019)  0.009 (+/- 0.001)   \n",
       "lgbm (tuned)             0.022 (+/- 0.002)  0.007 (+/- 0.001)   \n",
       "\n",
       "                                test_score        train_score  \n",
       "dummy                    0.498 (+/- 0.012)  0.502 (+/- 0.009)  \n",
       "logreg                   0.644 (+/- 0.016)  0.645 (+/- 0.004)  \n",
       "logreg (tuned)           0.649 (+/- 0.012)  0.652 (+/- 0.006)  \n",
       "RBF SVM                  0.718 (+/- 0.024)  0.736 (+/- 0.012)  \n",
       "random forest            0.733 (+/- 0.030)  1.000 (+/- 0.000)  \n",
       "xgboost                  0.728 (+/- 0.018)  0.958 (+/- 0.005)  \n",
       "lgbm                     0.738 (+/- 0.013)  0.882 (+/- 0.005)  \n",
       "random forest+ feat_sel  0.733 (+/- 0.032)  1.000 (+/- 0.000)  \n",
       "xgboost+ feat_sel        0.728 (+/- 0.018)  0.958 (+/- 0.005)  \n",
       "lgbm+ feat_sel           0.739 (+/- 0.014)  0.881 (+/- 0.005)  \n",
       "random forest (tuned)    0.752 (+/- 0.023)  0.921 (+/- 0.006)  \n",
       "xgboost (tuned)          0.748 (+/- 0.021)  0.871 (+/- 0.004)  \n",
       "lgbm (tuned)             0.755 (+/- 0.024)  0.767 (+/- 0.004)  "
      ]
     },
     "execution_count": 46,
     "metadata": {},
     "output_type": "execute_result"
    }
   ],
   "source": [
    "best_lgbm_model = random_search_lgbm.best_estimator_\n",
    "results[\"lgbm (tuned)\"] = mean_std_cross_val_scores(\n",
    "    best_lgbm_model, X_train, y_train, return_train_score=True, scoring=scoring_metric\n",
    ")\n",
    "pd.DataFrame(results).T"
   ]
  },
  {
   "cell_type": "markdown",
   "id": "88860c1c-708a-40e0-8c36-7ef7e89dbb81",
   "metadata": {},
   "source": [
    "Hyperparameter optimization seems to help with `random forests` as well as `LightGBM`. The scores for both models seem very similar. But we pick `LightGBM` because\n",
    "\n",
    "- it seems to be less overfitting\n",
    "\n",
    "- it's much faster\n",
    "\n",
    "- the standard deviation is smaller compared to random forest."
   ]
  },
  {
   "cell_type": "markdown",
   "id": "3b1189ae-63a4-4db0-94b8-6e03fc69a8d5",
   "metadata": {},
   "source": [
    "# 11. Interpretation and feature importances"
   ]
  },
  {
   "cell_type": "code",
   "execution_count": 47,
   "id": "27e2b5b2-0087-47d5-8a19-f6872e8350bc",
   "metadata": {},
   "outputs": [
    {
     "name": "stderr",
     "output_type": "stream",
     "text": [
      "C:\\Users\\caesa_mt2kv9g\\.conda\\envs\\573\\lib\\site-packages\\sklearn\\utils\\deprecation.py:87: FutureWarning: Function get_feature_names is deprecated; get_feature_names is deprecated in 1.0 and will be removed in 1.2. Please use get_feature_names_out instead.\n",
      "  warnings.warn(msg, category=FutureWarning)\n"
     ]
    },
    {
     "data": {
      "text/html": [
       "\n",
       "    <style>\n",
       "    table.eli5-weights tr:hover {\n",
       "        filter: brightness(85%);\n",
       "    }\n",
       "</style>\n",
       "\n",
       "\n",
       "\n",
       "    \n",
       "\n",
       "    \n",
       "\n",
       "    \n",
       "\n",
       "    \n",
       "\n",
       "    \n",
       "\n",
       "    \n",
       "\n",
       "\n",
       "    \n",
       "\n",
       "    \n",
       "\n",
       "    \n",
       "\n",
       "    \n",
       "\n",
       "    \n",
       "\n",
       "    \n",
       "\n",
       "\n",
       "    \n",
       "\n",
       "    \n",
       "\n",
       "    \n",
       "\n",
       "    \n",
       "\n",
       "    \n",
       "        <table class=\"eli5-weights eli5-feature-importances\" style=\"border-collapse: collapse; border: none; margin-top: 0em; table-layout: auto;\">\n",
       "    <thead>\n",
       "    <tr style=\"border: none;\">\n",
       "        <th style=\"padding: 0 1em 0 0.5em; text-align: right; border: none;\">Weight</th>\n",
       "        <th style=\"padding: 0 0.5em 0 0.5em; text-align: left; border: none;\">Feature</th>\n",
       "    </tr>\n",
       "    </thead>\n",
       "    <tbody>\n",
       "    \n",
       "        <tr style=\"background-color: hsl(120, 100.00%, 80.00%); border: none;\">\n",
       "            <td style=\"padding: 0 1em 0 0.5em; text-align: right; border: none;\">\n",
       "                0.4457\n",
       "                \n",
       "            </td>\n",
       "            <td style=\"padding: 0 0.5em 0 0.5em; text-align: left; border: none;\">\n",
       "                Age\n",
       "            </td>\n",
       "        </tr>\n",
       "    \n",
       "        <tr style=\"background-color: hsl(120, 100.00%, 84.74%); border: none;\">\n",
       "            <td style=\"padding: 0 1em 0 0.5em; text-align: right; border: none;\">\n",
       "                0.3028\n",
       "                \n",
       "            </td>\n",
       "            <td style=\"padding: 0 0.5em 0 0.5em; text-align: left; border: none;\">\n",
       "                NumOfProducts\n",
       "            </td>\n",
       "        </tr>\n",
       "    \n",
       "        <tr style=\"background-color: hsl(120, 100.00%, 92.87%); border: none;\">\n",
       "            <td style=\"padding: 0 1em 0 0.5em; text-align: right; border: none;\">\n",
       "                0.1021\n",
       "                \n",
       "            </td>\n",
       "            <td style=\"padding: 0 0.5em 0 0.5em; text-align: left; border: none;\">\n",
       "                Balance\n",
       "            </td>\n",
       "        </tr>\n",
       "    \n",
       "        <tr style=\"background-color: hsl(120, 100.00%, 94.38%); border: none;\">\n",
       "            <td style=\"padding: 0 1em 0 0.5em; text-align: right; border: none;\">\n",
       "                0.0728\n",
       "                \n",
       "            </td>\n",
       "            <td style=\"padding: 0 0.5em 0 0.5em; text-align: left; border: none;\">\n",
       "                IsActiveMember\n",
       "            </td>\n",
       "        </tr>\n",
       "    \n",
       "        <tr style=\"background-color: hsl(120, 100.00%, 95.84%); border: none;\">\n",
       "            <td style=\"padding: 0 1em 0 0.5em; text-align: right; border: none;\">\n",
       "                0.0473\n",
       "                \n",
       "            </td>\n",
       "            <td style=\"padding: 0 0.5em 0 0.5em; text-align: left; border: none;\">\n",
       "                Geography_Germany\n",
       "            </td>\n",
       "        </tr>\n",
       "    \n",
       "        <tr style=\"background-color: hsl(120, 100.00%, 98.20%); border: none;\">\n",
       "            <td style=\"padding: 0 1em 0 0.5em; text-align: right; border: none;\">\n",
       "                0.0143\n",
       "                \n",
       "            </td>\n",
       "            <td style=\"padding: 0 0.5em 0 0.5em; text-align: left; border: none;\">\n",
       "                Gender\n",
       "            </td>\n",
       "        </tr>\n",
       "    \n",
       "        <tr style=\"background-color: hsl(120, 100.00%, 98.87%); border: none;\">\n",
       "            <td style=\"padding: 0 1em 0 0.5em; text-align: right; border: none;\">\n",
       "                0.0073\n",
       "                \n",
       "            </td>\n",
       "            <td style=\"padding: 0 0.5em 0 0.5em; text-align: left; border: none;\">\n",
       "                EstimatedSalary\n",
       "            </td>\n",
       "        </tr>\n",
       "    \n",
       "        <tr style=\"background-color: hsl(120, 100.00%, 99.47%); border: none;\">\n",
       "            <td style=\"padding: 0 1em 0 0.5em; text-align: right; border: none;\">\n",
       "                0.0025\n",
       "                \n",
       "            </td>\n",
       "            <td style=\"padding: 0 0.5em 0 0.5em; text-align: left; border: none;\">\n",
       "                CreditScore\n",
       "            </td>\n",
       "        </tr>\n",
       "    \n",
       "        <tr style=\"background-color: hsl(120, 100.00%, 99.48%); border: none;\">\n",
       "            <td style=\"padding: 0 1em 0 0.5em; text-align: right; border: none;\">\n",
       "                0.0025\n",
       "                \n",
       "            </td>\n",
       "            <td style=\"padding: 0 0.5em 0 0.5em; text-align: left; border: none;\">\n",
       "                Geography_France\n",
       "            </td>\n",
       "        </tr>\n",
       "    \n",
       "        <tr style=\"background-color: hsl(120, 100.00%, 99.59%); border: none;\">\n",
       "            <td style=\"padding: 0 1em 0 0.5em; text-align: right; border: none;\">\n",
       "                0.0017\n",
       "                \n",
       "            </td>\n",
       "            <td style=\"padding: 0 0.5em 0 0.5em; text-align: left; border: none;\">\n",
       "                Tenure\n",
       "            </td>\n",
       "        </tr>\n",
       "    \n",
       "        <tr style=\"background-color: hsl(120, 100.00%, 99.73%); border: none;\">\n",
       "            <td style=\"padding: 0 1em 0 0.5em; text-align: right; border: none;\">\n",
       "                0.0009\n",
       "                \n",
       "            </td>\n",
       "            <td style=\"padding: 0 0.5em 0 0.5em; text-align: left; border: none;\">\n",
       "                Geography_Spain\n",
       "            </td>\n",
       "        </tr>\n",
       "    \n",
       "        <tr style=\"background-color: hsl(0, 100.00%, 100.00%); border: none;\">\n",
       "            <td style=\"padding: 0 1em 0 0.5em; text-align: right; border: none;\">\n",
       "                0\n",
       "                \n",
       "            </td>\n",
       "            <td style=\"padding: 0 0.5em 0 0.5em; text-align: left; border: none;\">\n",
       "                HasCrCard\n",
       "            </td>\n",
       "        </tr>\n",
       "    \n",
       "    \n",
       "    </tbody>\n",
       "</table>\n",
       "    \n",
       "\n",
       "    \n",
       "\n",
       "\n",
       "    \n",
       "\n",
       "    \n",
       "\n",
       "    \n",
       "\n",
       "    \n",
       "\n",
       "    \n",
       "\n",
       "    \n",
       "\n",
       "\n",
       "\n"
      ],
      "text/plain": [
       "<IPython.core.display.HTML object>"
      ]
     },
     "execution_count": 47,
     "metadata": {},
     "output_type": "execute_result"
    }
   ],
   "source": [
    "import eli5\n",
    "\n",
    "categorical_OHE = list(\n",
    "    best_lgbm_model.named_steps[\"columntransformer\"]\n",
    "    .named_transformers_[\"onehotencoder-1\"]\n",
    "    .get_feature_names(categorical_features)\n",
    ")\n",
    "\n",
    "feature_names = numeric_features +  categorical_OHE + binary_features\n",
    "\n",
    "eli5.show_weights(\n",
    "    best_lgbm_model.named_steps[\"lgbmclassifier\"],\n",
    "    feature_names=feature_names,\n",
    ")"
   ]
  },
  {
   "cell_type": "code",
   "execution_count": 48,
   "id": "fb063a85-2809-4221-8cde-4b8984ea3273",
   "metadata": {},
   "outputs": [
    {
     "name": "stderr",
     "output_type": "stream",
     "text": [
      "C:\\Users\\caesa_mt2kv9g\\.conda\\envs\\573\\lib\\site-packages\\tqdm\\auto.py:22: TqdmWarning: IProgress not found. Please update jupyter and ipywidgets. See https://ipywidgets.readthedocs.io/en/stable/user_install.html\n",
      "  from .autonotebook import tqdm as notebook_tqdm\n"
     ]
    },
    {
     "data": {
      "text/html": [
       "<div>\n",
       "<style scoped>\n",
       "    .dataframe tbody tr th:only-of-type {\n",
       "        vertical-align: middle;\n",
       "    }\n",
       "\n",
       "    .dataframe tbody tr th {\n",
       "        vertical-align: top;\n",
       "    }\n",
       "\n",
       "    .dataframe thead th {\n",
       "        text-align: right;\n",
       "    }\n",
       "</style>\n",
       "<table border=\"1\" class=\"dataframe\">\n",
       "  <thead>\n",
       "    <tr style=\"text-align: right;\">\n",
       "      <th></th>\n",
       "      <th>CreditScore</th>\n",
       "      <th>Age</th>\n",
       "      <th>Tenure</th>\n",
       "      <th>Balance</th>\n",
       "      <th>NumOfProducts</th>\n",
       "      <th>EstimatedSalary</th>\n",
       "      <th>Geography_France</th>\n",
       "      <th>Geography_Germany</th>\n",
       "      <th>Geography_Spain</th>\n",
       "      <th>Gender</th>\n",
       "      <th>HasCrCard</th>\n",
       "      <th>IsActiveMember</th>\n",
       "    </tr>\n",
       "  </thead>\n",
       "  <tbody>\n",
       "    <tr>\n",
       "      <th>3144</th>\n",
       "      <td>-0.022212</td>\n",
       "      <td>1.513191</td>\n",
       "      <td>-1.388923</td>\n",
       "      <td>0.078499</td>\n",
       "      <td>-0.916980</td>\n",
       "      <td>1.417861</td>\n",
       "      <td>0.0</td>\n",
       "      <td>0.0</td>\n",
       "      <td>1.0</td>\n",
       "      <td>1.0</td>\n",
       "      <td>0.0</td>\n",
       "      <td>1.0</td>\n",
       "    </tr>\n",
       "    <tr>\n",
       "      <th>9939</th>\n",
       "      <td>0.443877</td>\n",
       "      <td>1.701664</td>\n",
       "      <td>1.375004</td>\n",
       "      <td>-1.219344</td>\n",
       "      <td>0.798834</td>\n",
       "      <td>0.618031</td>\n",
       "      <td>0.0</td>\n",
       "      <td>0.0</td>\n",
       "      <td>1.0</td>\n",
       "      <td>0.0</td>\n",
       "      <td>1.0</td>\n",
       "      <td>1.0</td>\n",
       "    </tr>\n",
       "    <tr>\n",
       "      <th>7925</th>\n",
       "      <td>-0.664380</td>\n",
       "      <td>-0.560005</td>\n",
       "      <td>0.684023</td>\n",
       "      <td>-1.219344</td>\n",
       "      <td>0.798834</td>\n",
       "      <td>1.187238</td>\n",
       "      <td>0.0</td>\n",
       "      <td>0.0</td>\n",
       "      <td>1.0</td>\n",
       "      <td>0.0</td>\n",
       "      <td>1.0</td>\n",
       "      <td>1.0</td>\n",
       "    </tr>\n",
       "    <tr>\n",
       "      <th>309</th>\n",
       "      <td>-2.197296</td>\n",
       "      <td>-0.748478</td>\n",
       "      <td>1.029514</td>\n",
       "      <td>0.031105</td>\n",
       "      <td>-0.916980</td>\n",
       "      <td>-0.955620</td>\n",
       "      <td>0.0</td>\n",
       "      <td>1.0</td>\n",
       "      <td>0.0</td>\n",
       "      <td>1.0</td>\n",
       "      <td>1.0</td>\n",
       "      <td>0.0</td>\n",
       "    </tr>\n",
       "    <tr>\n",
       "      <th>9415</th>\n",
       "      <td>1.220693</td>\n",
       "      <td>0.382357</td>\n",
       "      <td>-1.043432</td>\n",
       "      <td>0.842402</td>\n",
       "      <td>0.798834</td>\n",
       "      <td>-1.403687</td>\n",
       "      <td>0.0</td>\n",
       "      <td>1.0</td>\n",
       "      <td>0.0</td>\n",
       "      <td>0.0</td>\n",
       "      <td>0.0</td>\n",
       "      <td>0.0</td>\n",
       "    </tr>\n",
       "  </tbody>\n",
       "</table>\n",
       "</div>"
      ],
      "text/plain": [
       "      CreditScore       Age    Tenure   Balance  NumOfProducts  \\\n",
       "3144    -0.022212  1.513191 -1.388923  0.078499      -0.916980   \n",
       "9939     0.443877  1.701664  1.375004 -1.219344       0.798834   \n",
       "7925    -0.664380 -0.560005  0.684023 -1.219344       0.798834   \n",
       "309     -2.197296 -0.748478  1.029514  0.031105      -0.916980   \n",
       "9415     1.220693  0.382357 -1.043432  0.842402       0.798834   \n",
       "\n",
       "      EstimatedSalary  Geography_France  Geography_Germany  Geography_Spain  \\\n",
       "3144         1.417861               0.0                0.0              1.0   \n",
       "9939         0.618031               0.0                0.0              1.0   \n",
       "7925         1.187238               0.0                0.0              1.0   \n",
       "309         -0.955620               0.0                1.0              0.0   \n",
       "9415        -1.403687               0.0                1.0              0.0   \n",
       "\n",
       "      Gender  HasCrCard  IsActiveMember  \n",
       "3144     1.0        0.0             1.0  \n",
       "9939     0.0        1.0             1.0  \n",
       "7925     0.0        1.0             1.0  \n",
       "309      1.0        1.0             0.0  \n",
       "9415     0.0        0.0             0.0  "
      ]
     },
     "execution_count": 48,
     "metadata": {},
     "output_type": "execute_result"
    }
   ],
   "source": [
    "import shap\n",
    "\n",
    "preprocessor.fit(X_train, y_train)\n",
    "\n",
    "X_train_enc = pd.DataFrame(\n",
    "    data=preprocessor.transform(X_train),\n",
    "    columns=feature_names,\n",
    "    index=X_train.index,\n",
    ")\n",
    "\n",
    "X_train_enc.head()"
   ]
  },
  {
   "cell_type": "code",
   "execution_count": 49,
   "id": "fc004796-0e78-498f-9420-4c7f9db17ea3",
   "metadata": {},
   "outputs": [
    {
     "name": "stderr",
     "output_type": "stream",
     "text": [
      "LightGBM binary classifier with TreeExplainer shap values output has changed to a list of ndarray\n"
     ]
    }
   ],
   "source": [
    "lgbm_tuned = LGBMClassifier(\n",
    "    scale_pos_weight=ratio,\n",
    "    random_state=2,\n",
    "    learning_rate=random_search_lgbm.best_params_[\"lgbmclassifier__learning_rate\"],\n",
    "    n_estimators=random_search_lgbm.best_params_[\"lgbmclassifier__n_estimators\"],\n",
    "    subsample=random_search_lgbm.best_params_[\"lgbmclassifier__subsample\"],\n",
    ")\n",
    "\n",
    "lgbm_tuned.fit(X_train_enc, y_train)\n",
    "lgbm_explainer = shap.TreeExplainer(lgbm_tuned)\n",
    "lgbm_shap_values = lgbm_explainer.shap_values(X_train_enc)"
   ]
  },
  {
   "cell_type": "code",
   "execution_count": 50,
   "id": "0fd4cd19-9e58-423c-9dd1-374ad04756f5",
   "metadata": {},
   "outputs": [
    {
     "data": {
      "text/html": [
       "<div>\n",
       "<style scoped>\n",
       "    .dataframe tbody tr th:only-of-type {\n",
       "        vertical-align: middle;\n",
       "    }\n",
       "\n",
       "    .dataframe tbody tr th {\n",
       "        vertical-align: top;\n",
       "    }\n",
       "\n",
       "    .dataframe thead th {\n",
       "        text-align: right;\n",
       "    }\n",
       "</style>\n",
       "<table border=\"1\" class=\"dataframe\">\n",
       "  <thead>\n",
       "    <tr style=\"text-align: right;\">\n",
       "      <th></th>\n",
       "      <th>SHAP</th>\n",
       "    </tr>\n",
       "  </thead>\n",
       "  <tbody>\n",
       "    <tr>\n",
       "      <th>Age</th>\n",
       "      <td>0.511856</td>\n",
       "    </tr>\n",
       "    <tr>\n",
       "      <th>NumOfProducts</th>\n",
       "      <td>0.477049</td>\n",
       "    </tr>\n",
       "    <tr>\n",
       "      <th>IsActiveMember</th>\n",
       "      <td>0.203808</td>\n",
       "    </tr>\n",
       "    <tr>\n",
       "      <th>Balance</th>\n",
       "      <td>0.153526</td>\n",
       "    </tr>\n",
       "    <tr>\n",
       "      <th>Geography_Germany</th>\n",
       "      <td>0.096675</td>\n",
       "    </tr>\n",
       "    <tr>\n",
       "      <th>Gender</th>\n",
       "      <td>0.089112</td>\n",
       "    </tr>\n",
       "    <tr>\n",
       "      <th>EstimatedSalary</th>\n",
       "      <td>0.023534</td>\n",
       "    </tr>\n",
       "    <tr>\n",
       "      <th>CreditScore</th>\n",
       "      <td>0.015519</td>\n",
       "    </tr>\n",
       "    <tr>\n",
       "      <th>Tenure</th>\n",
       "      <td>0.008921</td>\n",
       "    </tr>\n",
       "    <tr>\n",
       "      <th>Geography_France</th>\n",
       "      <td>0.008396</td>\n",
       "    </tr>\n",
       "  </tbody>\n",
       "</table>\n",
       "</div>"
      ],
      "text/plain": [
       "                       SHAP\n",
       "Age                0.511856\n",
       "NumOfProducts      0.477049\n",
       "IsActiveMember     0.203808\n",
       "Balance            0.153526\n",
       "Geography_Germany  0.096675\n",
       "Gender             0.089112\n",
       "EstimatedSalary    0.023534\n",
       "CreditScore        0.015519\n",
       "Tenure             0.008921\n",
       "Geography_France   0.008396"
      ]
     },
     "execution_count": 50,
     "metadata": {},
     "output_type": "execute_result"
    }
   ],
   "source": [
    "values = np.abs(lgbm_shap_values[0]).mean(0)\n",
    "pd.DataFrame(data=values, index=feature_names, columns=[\"SHAP\"]).sort_values(\n",
    "    by=\"SHAP\", ascending=False\n",
    ")[:10]"
   ]
  },
  {
   "cell_type": "code",
   "execution_count": 51,
   "id": "9cc4b5f9-13f3-4030-9718-0be2185d0d19",
   "metadata": {},
   "outputs": [
    {
     "data": {
      "image/png": "[encoded data removed]",
      "text/plain": [
       "<Figure size 750x500 with 2 Axes>"
      ]
     },
     "metadata": {},
     "output_type": "display_data"
    }
   ],
   "source": [
    "shap.dependence_plot(\"Age\", lgbm_shap_values[0], X_train_enc)"
   ]
  },
  {
   "cell_type": "markdown",
   "id": "8674e5cf-3b05-4caf-928d-41745bc90cee",
   "metadata": {},
   "source": [
    "As `Age` increases, SHAP values for class 0 drop at first, suggesting that class is likely to be 1 (exited) with mean values for `Age`.\n",
    "\n",
    "When `Age` increases until the maximum in the dataset, the SHAP values for class 0 increases, suggesting that class is likely to be 0 (stayed).\n",
    "\n",
    "The above dependencies plot and SHAP values make sense as younger customer will stay with the bank when they first join. Middle aged customer will be more likely to exit the bank as they might have more options (e.g. promotion, investment plan, etc.). The oldest customer will stay with the bank as they prefer less changes to their financial decision."
   ]
  },
  {
   "cell_type": "code",
   "execution_count": 52,
   "id": "4fd402fe-fab5-4727-ab6f-7abc0e482e14",
   "metadata": {},
   "outputs": [
    {
     "data": {
      "image/png": "[encoded data removed]",
      "text/plain": [
       "<Figure size 800x630 with 2 Axes>"
      ]
     },
     "metadata": {},
     "output_type": "display_data"
    }
   ],
   "source": [
    "shap.summary_plot(lgbm_shap_values[0], X_train_enc)\n"
   ]
  },
  {
   "cell_type": "code",
   "execution_count": 53,
   "id": "7d981832-e2d7-4f0d-92b9-481fec035695",
   "metadata": {},
   "outputs": [
    {
     "name": "stderr",
     "output_type": "stream",
     "text": [
      "LightGBM binary classifier with TreeExplainer shap values output has changed to a list of ndarray\n"
     ]
    }
   ],
   "source": [
    "X_test_enc = pd.DataFrame(\n",
    "    data=preprocessor.transform(X_test),\n",
    "    columns=feature_names,\n",
    "    index=X_test.index,\n",
    ")\n",
    "\n",
    "test_lgbm_shap_values = lgbm_explainer.shap_values(X_test_enc)"
   ]
  },
  {
   "cell_type": "code",
   "execution_count": 54,
   "id": "0f89388e-c709-4244-8248-6c2ffbd45a5e",
   "metadata": {},
   "outputs": [
    {
     "data": {
      "text/plain": [
       "array([0.76228674, 0.23771326])"
      ]
     },
     "execution_count": 54,
     "metadata": {},
     "output_type": "execute_result"
    }
   ],
   "source": [
    "lgbm_tuned.predict_proba(X_test_enc)[1]"
   ]
  },
  {
   "cell_type": "code",
   "execution_count": 55,
   "id": "b0e1a9ee-6b57-4e41-9a43-9fe742cb38e5",
   "metadata": {},
   "outputs": [
    {
     "data": {
      "text/plain": [
       "-1.1652576352067328"
      ]
     },
     "execution_count": 55,
     "metadata": {},
     "output_type": "execute_result"
    }
   ],
   "source": [
    "lgbm_tuned.predict(X_test_enc, raw_score=True)[1]"
   ]
  },
  {
   "cell_type": "code",
   "execution_count": 56,
   "id": "06637e56-6269-42df-8b36-90fb23109d4a",
   "metadata": {},
   "outputs": [
    {
     "data": {
      "text/plain": [
       "[0.8472106048073239, -0.8472106048073239]"
      ]
     },
     "execution_count": 56,
     "metadata": {},
     "output_type": "execute_result"
    }
   ],
   "source": [
    "lgbm_explainer.expected_value"
   ]
  },
  {
   "cell_type": "code",
   "execution_count": 57,
   "id": "3a7fa58c-f4e6-4997-9e05-742000224d97",
   "metadata": {},
   "outputs": [
    {
     "data": {
      "image/png": "[encoded data removed]",
      "text/plain": [
       "<Figure size 2000x300 with 1 Axes>"
      ]
     },
     "metadata": {},
     "output_type": "display_data"
    }
   ],
   "source": [
    "shap.force_plot(\n",
    "    lgbm_explainer.expected_value[0],\n",
    "    test_lgbm_shap_values[0][1, :],\n",
    "    X_test_enc.iloc[1, :],\n",
    "    matplotlib=True,\n",
    "    text_rotation=15\n",
    ")"
   ]
  },
  {
   "cell_type": "markdown",
   "id": "aca67f23-ca63-4303-a5d5-0f64e86c4d45",
   "metadata": {},
   "source": [
    "From the analysis above we observe that `Age`, `NumOfProducts`, `IsActiveMember` features seem to be one of the most important features with `Age` being the topmost feature.\n",
    "\n",
    "The SHAP dependence plot demonstrates that the class is likely to be 0 (stay) for extreme `Age` values, which makes sense."
   ]
  },
  {
   "cell_type": "markdown",
   "id": "c2e6b015-0433-4415-ac40-9f31f8d547c9",
   "metadata": {},
   "source": [
    "# 12. Results on the test set"
   ]
  },
  {
   "cell_type": "code",
   "execution_count": 58,
   "id": "0630d324-67a8-4899-892f-defe09dbad0a",
   "metadata": {},
   "outputs": [
    {
     "name": "stdout",
     "output_type": "stream",
     "text": [
      "Grid Search best model validation score: 0.755\n",
      "Macro-average f1 score on the test set: 0.769\n"
     ]
    }
   ],
   "source": [
    "from sklearn.metrics import f1_score\n",
    "\n",
    "best_model = random_search_lgbm.best_estimator_\n",
    "print(\n",
    "    \"Grid Search best model validation score: %0.3f\" % (random_search_lgbm.best_score_)\n",
    ")\n",
    "\n",
    "predictions = best_model.predict(X_test)\n",
    "print(\n",
    "    \"Macro-average f1 score on the test set: %0.3f\"\n",
    "    % (f1_score(y_test, predictions, average=\"macro\"))\n",
    ")"
   ]
  },
  {
   "cell_type": "code",
   "execution_count": 59,
   "id": "c2498d18-738e-4253-beb7-6ed8c6018d14",
   "metadata": {},
   "outputs": [
    {
     "name": "stderr",
     "output_type": "stream",
     "text": [
      "Function plot_confusion_matrix is deprecated; Function `plot_confusion_matrix` is deprecated in 1.0 and will be removed in 1.2. Use one of the class methods: ConfusionMatrixDisplay.from_predictions or ConfusionMatrixDisplay.from_estimator.\n"
     ]
    },
    {
     "data": {
      "text/plain": [
       "<sklearn.metrics._plot.confusion_matrix.ConfusionMatrixDisplay at 0x2bb15219030>"
      ]
     },
     "execution_count": 59,
     "metadata": {},
     "output_type": "execute_result"
    },
    {
     "data": {
      "image/png": "[encoded data removed]",
      "text/plain": [
       "<Figure size 640x480 with 2 Axes>"
      ]
     },
     "metadata": {},
     "output_type": "display_data"
    }
   ],
   "source": [
    "from sklearn.metrics import classification_report, plot_confusion_matrix\n",
    "import matplotlib.pyplot as plt\n",
    "\n",
    "plot_confusion_matrix(\n",
    "    best_model,\n",
    "    X_test,\n",
    "    y_test,\n",
    "    display_labels=[\"Stayed\", \"Exited\"],\n",
    "    values_format=\"d\",\n",
    "    cmap=plt.cm.Blues,\n",
    ")"
   ]
  },
  {
   "cell_type": "code",
   "execution_count": 60,
   "id": "f00f9319-655a-484b-b2b3-b09ed1b02698",
   "metadata": {},
   "outputs": [
    {
     "name": "stdout",
     "output_type": "stream",
     "text": [
      "              precision    recall  f1-score   support\n",
      "\n",
      "      Stayed       0.91      0.90      0.90      2395\n",
      "      Exited       0.62      0.65      0.63       605\n",
      "\n",
      "    accuracy                           0.85      3000\n",
      "   macro avg       0.76      0.77      0.77      3000\n",
      "weighted avg       0.85      0.85      0.85      3000\n",
      "\n"
     ]
    }
   ],
   "source": [
    "print(\n",
    "    classification_report(\n",
    "        y_test, predictions, target_names=[\"Stayed\", \"Exited\"]\n",
    "    )\n",
    ")"
   ]
  },
  {
   "cell_type": "markdown",
   "id": "4047625e-035a-44cf-aa7d-f5f445810d0a",
   "metadata": {},
   "source": [
    "The held-out test set's macro-average f1-score (0.769) is roughly in line with the validation score's macro-average f1-score (0.755). There doesn't appear to be much optimization bias in this situation.\n"
   ]
  },
  {
   "cell_type": "code",
   "execution_count": 61,
   "id": "3cf0d519-8d1e-4792-b935-d90816d63aa6",
   "metadata": {},
   "outputs": [],
   "source": [
    "# get indices of stayed, exited customer\n",
    "y_test_reset = y_test.reset_index(drop=True)\n",
    "stay_ind = y_test_reset[y_test_reset == 0].index.tolist()\n",
    "exit_ind = y_test_reset[y_test_reset == 1].index.tolist()\n",
    "\n",
    "ex_stay_index = stay_ind[0]\n",
    "ex_exit_index = exit_ind[0]"
   ]
  },
  {
   "cell_type": "markdown",
   "id": "58fbd2ab-7053-4b53-8bba-1df2ded89073",
   "metadata": {},
   "source": [
    "**Explanation of a stayed customer prediction**"
   ]
  },
  {
   "cell_type": "code",
   "execution_count": 62,
   "id": "69d66c97-6cc1-4918-86bc-5c8a8a7a120f",
   "metadata": {},
   "outputs": [
    {
     "data": {
      "text/plain": [
       "array([0.90221223, 0.09778777])"
      ]
     },
     "execution_count": 62,
     "metadata": {},
     "output_type": "execute_result"
    }
   ],
   "source": [
    "lgbm_tuned.predict_proba(X_test_enc)[ex_stay_index]"
   ]
  },
  {
   "cell_type": "code",
   "execution_count": 63,
   "id": "384f0571-f941-4d07-973d-eb3e978db448",
   "metadata": {},
   "outputs": [
    {
     "data": {
      "text/plain": [
       "-2.2220502164727476"
      ]
     },
     "execution_count": 63,
     "metadata": {},
     "output_type": "execute_result"
    }
   ],
   "source": [
    "lgbm_tuned.predict(X_test_enc, raw_score=True)[ex_stay_index]"
   ]
  },
  {
   "cell_type": "code",
   "execution_count": 64,
   "id": "334d2ae0-94f4-4733-afb4-e5f71a8b20f6",
   "metadata": {},
   "outputs": [
    {
     "data": {
      "text/plain": [
       "[0.8472106048073239, -0.8472106048073239]"
      ]
     },
     "execution_count": 64,
     "metadata": {},
     "output_type": "execute_result"
    }
   ],
   "source": [
    "lgbm_explainer.expected_value"
   ]
  },
  {
   "cell_type": "code",
   "execution_count": 65,
   "id": "bc140c73-c26b-4298-b752-d38f45640d8b",
   "metadata": {},
   "outputs": [
    {
     "data": {
      "image/png": "[encoded data removed]",
      "text/plain": [
       "<Figure size 2000x300 with 1 Axes>"
      ]
     },
     "metadata": {},
     "output_type": "display_data"
    }
   ],
   "source": [
    "shap.force_plot(\n",
    "    lgbm_explainer.expected_value[0],\n",
    "    test_lgbm_shap_values[0][ex_stay_index, :],\n",
    "    X_test_enc.iloc[ex_stay_index, :],\n",
    "    matplotlib=True,\n",
    "    text_rotation=15\n",
    ")"
   ]
  },
  {
   "cell_type": "markdown",
   "id": "8c37aeaa-42d1-435d-9106-86a073e16115",
   "metadata": {},
   "source": [
    "The raw model score is 2.22, which is greater than the base value 0.847 and so the prediction is that the user is not likely to exit the bank (because we are consider the SHAP values for class 0)."
   ]
  },
  {
   "cell_type": "markdown",
   "id": "84034efa-e144-4576-a7b0-93a2d714e0b9",
   "metadata": {},
   "source": [
    "**Explanation of an exited customer prediction**"
   ]
  },
  {
   "cell_type": "code",
   "execution_count": 66,
   "id": "1678d732-e97f-4396-8587-81f55e161ee4",
   "metadata": {},
   "outputs": [
    {
     "data": {
      "text/plain": [
       "array([0.63653451, 0.36346549])"
      ]
     },
     "execution_count": 66,
     "metadata": {},
     "output_type": "execute_result"
    }
   ],
   "source": [
    "lgbm_tuned.predict_proba(X_test_enc)[ex_exit_index]"
   ]
  },
  {
   "cell_type": "code",
   "execution_count": 67,
   "id": "784463e9-0cb5-42fd-a1f6-259938e4b477",
   "metadata": {},
   "outputs": [
    {
     "data": {
      "text/plain": [
       "-0.5603542788905044"
      ]
     },
     "execution_count": 67,
     "metadata": {},
     "output_type": "execute_result"
    }
   ],
   "source": [
    "lgbm_tuned.predict(X_test_enc, raw_score=True)[ex_exit_index]"
   ]
  },
  {
   "cell_type": "code",
   "execution_count": 68,
   "id": "2d700788-c934-4b17-a9f9-f05e9a420d31",
   "metadata": {},
   "outputs": [
    {
     "data": {
      "text/plain": [
       "[0.8472106048073239, -0.8472106048073239]"
      ]
     },
     "execution_count": 68,
     "metadata": {},
     "output_type": "execute_result"
    }
   ],
   "source": [
    "lgbm_explainer.expected_value"
   ]
  },
  {
   "cell_type": "code",
   "execution_count": 69,
   "id": "98813cd8-6a8c-49ce-ba54-edc8a245cbdc",
   "metadata": {},
   "outputs": [
    {
     "data": {
      "image/png": "[encoded data removed]",
      "text/plain": [
       "<Figure size 2000x300 with 1 Axes>"
      ]
     },
     "metadata": {},
     "output_type": "display_data"
    }
   ],
   "source": [
    "shap.force_plot(\n",
    "    lgbm_explainer.expected_value[0],\n",
    "    test_lgbm_shap_values[0][ex_exit_index, :],\n",
    "    X_test_enc.iloc[ex_exit_index, :],\n",
    "    matplotlib=True,\n",
    "    text_rotation=15\n",
    ")"
   ]
  },
  {
   "cell_type": "markdown",
   "id": "409867ba-54c3-43cb-818b-91ceabdf02ac",
   "metadata": {},
   "source": [
    "- The raw model score is 0.56, which is smaller than the base value 0.847 and so the prediction is that the user is likely to exit the bank (class 1).\n",
    "\n",
    "- Positive values for `Balance` variables seem to push the prediction towards a lower value."
   ]
  },
  {
   "cell_type": "markdown",
   "id": "7b89c806-ac3f-4105-b031-e2e52cb02e9a",
   "metadata": {},
   "source": [
    "# 13. Summary of results"
   ]
  },
  {
   "cell_type": "code",
   "execution_count": 70,
   "id": "1ae94ec6-f15a-4b8e-982b-b9086f4eff4f",
   "metadata": {},
   "outputs": [],
   "source": [
    "summary_df = pd.DataFrame(results).T"
   ]
  },
  {
   "cell_type": "code",
   "execution_count": 71,
   "id": "a1637e5f-ebef-4c65-83cd-6aea7079f879",
   "metadata": {},
   "outputs": [
    {
     "data": {
      "text/html": [
       "<div>\n",
       "<style scoped>\n",
       "    .dataframe tbody tr th:only-of-type {\n",
       "        vertical-align: middle;\n",
       "    }\n",
       "\n",
       "    .dataframe tbody tr th {\n",
       "        vertical-align: top;\n",
       "    }\n",
       "\n",
       "    .dataframe thead th {\n",
       "        text-align: right;\n",
       "    }\n",
       "</style>\n",
       "<table border=\"1\" class=\"dataframe\">\n",
       "  <thead>\n",
       "    <tr style=\"text-align: right;\">\n",
       "      <th></th>\n",
       "      <th>fit_time</th>\n",
       "      <th>score_time</th>\n",
       "      <th>test_score</th>\n",
       "      <th>train_score</th>\n",
       "      <th>comments</th>\n",
       "    </tr>\n",
       "  </thead>\n",
       "  <tbody>\n",
       "    <tr>\n",
       "      <th>dummy</th>\n",
       "      <td>0.001 (+/- 0.001)</td>\n",
       "      <td>0.001 (+/- 0.001)</td>\n",
       "      <td>0.498 (+/- 0.012)</td>\n",
       "      <td>0.502 (+/- 0.009)</td>\n",
       "      <td>Baseline of 0.50 macro-average f1 score.</td>\n",
       "    </tr>\n",
       "    <tr>\n",
       "      <th>logreg</th>\n",
       "      <td>0.022 (+/- 0.004)</td>\n",
       "      <td>0.005 (+/- 0.001)</td>\n",
       "      <td>0.644 (+/- 0.016)</td>\n",
       "      <td>0.645 (+/- 0.004)</td>\n",
       "      <td>Improvement over the baseline but underfitting.</td>\n",
       "    </tr>\n",
       "    <tr>\n",
       "      <th>logreg (tuned)</th>\n",
       "      <td>0.015 (+/- 0.001)</td>\n",
       "      <td>0.004 (+/- 0.000)</td>\n",
       "      <td>0.649 (+/- 0.012)</td>\n",
       "      <td>0.652 (+/- 0.006)</td>\n",
       "      <td>Slight improvement but still underfitting.</td>\n",
       "    </tr>\n",
       "    <tr>\n",
       "      <th>RBF SVM</th>\n",
       "      <td>0.315 (+/- 0.007)</td>\n",
       "      <td>0.144 (+/- 0.007)</td>\n",
       "      <td>0.718 (+/- 0.024)</td>\n",
       "      <td>0.736 (+/- 0.012)</td>\n",
       "      <td>Improvement over tuned logistic regression but slow.</td>\n",
       "    </tr>\n",
       "    <tr>\n",
       "      <th>random forest</th>\n",
       "      <td>0.359 (+/- 0.003)</td>\n",
       "      <td>0.021 (+/- 0.001)</td>\n",
       "      <td>0.733 (+/- 0.030)</td>\n",
       "      <td>1.000 (+/- 0.000)</td>\n",
       "      <td>Improvement over tuned logistic regression but overfitting.</td>\n",
       "    </tr>\n",
       "    <tr>\n",
       "      <th>xgboost</th>\n",
       "      <td>0.157 (+/- 0.003)</td>\n",
       "      <td>0.008 (+/- 0.001)</td>\n",
       "      <td>0.728 (+/- 0.018)</td>\n",
       "      <td>0.958 (+/- 0.005)</td>\n",
       "      <td>Less overfitting compared to random forest.</td>\n",
       "    </tr>\n",
       "    <tr>\n",
       "      <th>lgbm</th>\n",
       "      <td>0.059 (+/- 0.004)</td>\n",
       "      <td>0.006 (+/- 0.001)</td>\n",
       "      <td>0.738 (+/- 0.013)</td>\n",
       "      <td>0.882 (+/- 0.005)</td>\n",
       "      <td>Improvement over xgboost &amp; random forest, and less overfitting.</td>\n",
       "    </tr>\n",
       "    <tr>\n",
       "      <th>random forest+ feat_sel</th>\n",
       "      <td>0.378 (+/- 0.014)</td>\n",
       "      <td>0.022 (+/- 0.001)</td>\n",
       "      <td>0.733 (+/- 0.032)</td>\n",
       "      <td>1.000 (+/- 0.000)</td>\n",
       "      <td>Feature selection with L1 regularization helps a tiny bit. Selects 11 features.</td>\n",
       "    </tr>\n",
       "    <tr>\n",
       "      <th>xgboost+ feat_sel</th>\n",
       "      <td>0.163 (+/- 0.002)</td>\n",
       "      <td>0.008 (+/- 0.001)</td>\n",
       "      <td>0.728 (+/- 0.018)</td>\n",
       "      <td>0.958 (+/- 0.005)</td>\n",
       "      <td>Very tiny improvement with L1 feature selection.</td>\n",
       "    </tr>\n",
       "    <tr>\n",
       "      <th>lgbm+ feat_sel</th>\n",
       "      <td>0.068 (+/- 0.004)</td>\n",
       "      <td>0.006 (+/- 0.001)</td>\n",
       "      <td>0.739 (+/- 0.014)</td>\n",
       "      <td>0.881 (+/- 0.005)</td>\n",
       "      <td>Very tiny improvement with L1 feature selection.</td>\n",
       "    </tr>\n",
       "    <tr>\n",
       "      <th>random forest (tuned)</th>\n",
       "      <td>0.196 (+/- 0.006)</td>\n",
       "      <td>0.013 (+/- 0.000)</td>\n",
       "      <td>0.752 (+/- 0.023)</td>\n",
       "      <td>0.921 (+/- 0.006)</td>\n",
       "      <td>Hyperparameter optimization helped. Best results so far.</td>\n",
       "    </tr>\n",
       "    <tr>\n",
       "      <th>xgboost (tuned)</th>\n",
       "      <td>0.260 (+/- 0.019)</td>\n",
       "      <td>0.009 (+/- 0.001)</td>\n",
       "      <td>0.748 (+/- 0.021)</td>\n",
       "      <td>0.871 (+/- 0.004)</td>\n",
       "      <td>Improvement over default XGBoost.</td>\n",
       "    </tr>\n",
       "    <tr>\n",
       "      <th>lgbm (tuned)</th>\n",
       "      <td>0.022 (+/- 0.002)</td>\n",
       "      <td>0.007 (+/- 0.001)</td>\n",
       "      <td>0.755 (+/- 0.024)</td>\n",
       "      <td>0.767 (+/- 0.004)</td>\n",
       "      <td>Hyperparameter optimization helped. Best results overall. The scores are very similar to random forest scores but picking this as the best model for its speed and less overfitting</td>\n",
       "    </tr>\n",
       "  </tbody>\n",
       "</table>\n",
       "</div>"
      ],
      "text/plain": [
       "                                  fit_time         score_time  \\\n",
       "dummy                    0.001 (+/- 0.001)  0.001 (+/- 0.001)   \n",
       "logreg                   0.022 (+/- 0.004)  0.005 (+/- 0.001)   \n",
       "logreg (tuned)           0.015 (+/- 0.001)  0.004 (+/- 0.000)   \n",
       "RBF SVM                  0.315 (+/- 0.007)  0.144 (+/- 0.007)   \n",
       "random forest            0.359 (+/- 0.003)  0.021 (+/- 0.001)   \n",
       "xgboost                  0.157 (+/- 0.003)  0.008 (+/- 0.001)   \n",
       "lgbm                     0.059 (+/- 0.004)  0.006 (+/- 0.001)   \n",
       "random forest+ feat_sel  0.378 (+/- 0.014)  0.022 (+/- 0.001)   \n",
       "xgboost+ feat_sel        0.163 (+/- 0.002)  0.008 (+/- 0.001)   \n",
       "lgbm+ feat_sel           0.068 (+/- 0.004)  0.006 (+/- 0.001)   \n",
       "random forest (tuned)    0.196 (+/- 0.006)  0.013 (+/- 0.000)   \n",
       "xgboost (tuned)          0.260 (+/- 0.019)  0.009 (+/- 0.001)   \n",
       "lgbm (tuned)             0.022 (+/- 0.002)  0.007 (+/- 0.001)   \n",
       "\n",
       "                                test_score        train_score  \\\n",
       "dummy                    0.498 (+/- 0.012)  0.502 (+/- 0.009)   \n",
       "logreg                   0.644 (+/- 0.016)  0.645 (+/- 0.004)   \n",
       "logreg (tuned)           0.649 (+/- 0.012)  0.652 (+/- 0.006)   \n",
       "RBF SVM                  0.718 (+/- 0.024)  0.736 (+/- 0.012)   \n",
       "random forest            0.733 (+/- 0.030)  1.000 (+/- 0.000)   \n",
       "xgboost                  0.728 (+/- 0.018)  0.958 (+/- 0.005)   \n",
       "lgbm                     0.738 (+/- 0.013)  0.882 (+/- 0.005)   \n",
       "random forest+ feat_sel  0.733 (+/- 0.032)  1.000 (+/- 0.000)   \n",
       "xgboost+ feat_sel        0.728 (+/- 0.018)  0.958 (+/- 0.005)   \n",
       "lgbm+ feat_sel           0.739 (+/- 0.014)  0.881 (+/- 0.005)   \n",
       "random forest (tuned)    0.752 (+/- 0.023)  0.921 (+/- 0.006)   \n",
       "xgboost (tuned)          0.748 (+/- 0.021)  0.871 (+/- 0.004)   \n",
       "lgbm (tuned)             0.755 (+/- 0.024)  0.767 (+/- 0.004)   \n",
       "\n",
       "                                                                                                                                                                                                    comments  \n",
       "dummy                    Baseline of 0.50 macro-average f1 score.                                                                                                                                             \n",
       "logreg                   Improvement over the baseline but underfitting.                                                                                                                                      \n",
       "logreg (tuned)           Slight improvement but still underfitting.                                                                                                                                           \n",
       "RBF SVM                  Improvement over tuned logistic regression but slow.                                                                                                                                 \n",
       "random forest            Improvement over tuned logistic regression but overfitting.                                                                                                                          \n",
       "xgboost                  Less overfitting compared to random forest.                                                                                                                                          \n",
       "lgbm                     Improvement over xgboost & random forest, and less overfitting.                                                                                                                      \n",
       "random forest+ feat_sel  Feature selection with L1 regularization helps a tiny bit. Selects 11 features.                                                                                                      \n",
       "xgboost+ feat_sel        Very tiny improvement with L1 feature selection.                                                                                                                                     \n",
       "lgbm+ feat_sel           Very tiny improvement with L1 feature selection.                                                                                                                                     \n",
       "random forest (tuned)    Hyperparameter optimization helped. Best results so far.                                                                                                                             \n",
       "xgboost (tuned)          Improvement over default XGBoost.                                                                                                                                                    \n",
       "lgbm (tuned)             Hyperparameter optimization helped. Best results overall. The scores are very similar to random forest scores but picking this as the best model for its speed and less overfitting  "
      ]
     },
     "execution_count": 71,
     "metadata": {},
     "output_type": "execute_result"
    }
   ],
   "source": [
    "comments = {\n",
    "    \"dummy\": \"Baseline of 0.50 macro-average f1 score.\",\n",
    "    \"logreg\": \"Improvement over the baseline but underfitting.\",\n",
    "    \"logreg (tuned)\": \"Slight improvement but still underfitting.\",\n",
    "    \"RBF SVM\": \"Improvement over tuned logistic regression but slow.\",\n",
    "    \"random forest\": \"Improvement over tuned logistic regression but overfitting.\",\n",
    "    \"xgboost\": \"Less overfitting compared to random forest.\",\n",
    "    \"lgbm\": \"Improvement over xgboost & random forest, and less overfitting.\",\n",
    "    \"random forest+ feat_sel\": \"Feature selection with L1 regularization helps a tiny bit. Selects 11 features.\",\n",
    "    \"xgboost+ feat_sel\": \"Very tiny improvement with L1 feature selection.\",\n",
    "    \"lgbm+ feat_sel\": \"Very tiny improvement with L1 feature selection.\",\n",
    "    \"random forest (tuned)\": \"Hyperparameter optimization helped. Best results so far.\",\n",
    "    \"xgboost (tuned)\": \"Improvement over default XGBoost.\",\n",
    "    \"lgbm (tuned)\": \"Hyperparameter optimization helped. Best results overall. The scores are very similar to random forest scores but picking this as the best model for its speed and less overfitting\",\n",
    "}\n",
    "pd.set_option(\"display.max_colwidth\", 0)\n",
    "summary_df[\"comments\"] = comments.values()\n",
    "summary_df"
   ]
  },
  {
   "cell_type": "markdown",
   "id": "61e6c549-23e3-40f7-b125-e654c1a5ec73",
   "metadata": {},
   "source": [
    "**Concluding remarks**\n",
    "\n",
    "All our models outperformed the baseline. Our best model was LightGBM classifier with tuned hyperparameters. It obtained a 0.755 cross-validation macro-average f1 score. The scores do not appear to overfit much; there isn't a significant difference between the mean train score (0.767) and mean cross-validation score (0.755). These scores are very similar to the tuned random forest (CV score: 0.752). But random forest seems to overfit (train score: 0.921). It is also considerably slower than LightGBM. we decided to use the LightGBM model as our final model.\n",
    "\n",
    "On the held out test set, we observed the macro-average f1 score of 0.769 using this model, which is consistent with the mean cross-validation macro-average f1-score (0.755). There doesn't appear to be much optimization bias in this situation.\n",
    "\n",
    "We observed that L1 feature selection helped a tiny bit for all the tree-based models. In general, we have small number of features in this problem and feature selection doesn't seem crucial.\n",
    "\n",
    "Our analysis of feature importance shows that our `Age`, `NumOfProducts`, `IsActiveMember` variables seems to be most important features.\n"
   ]
  },
  {
   "cell_type": "code",
   "execution_count": null,
   "id": "db06dce7-0933-436c-848e-e196df971ef1",
   "metadata": {},
   "outputs": [],
   "source": []
  }
 ],
 "metadata": {
  "kernelspec": {
   "display_name": "Python [conda env:.conda-573]",
   "language": "python",
   "name": "conda-env-.conda-573-py"
  },
  "language_info": {
   "codemirror_mode": {
    "name": "ipython",
    "version": 3
   },
   "file_extension": ".py",
   "mimetype": "text/x-python",
   "name": "python",
   "nbconvert_exporter": "python",
   "pygments_lexer": "ipython3",
   "version": "3.10.6"
  }
 },
 "nbformat": 4,
 "nbformat_minor": 5
}
